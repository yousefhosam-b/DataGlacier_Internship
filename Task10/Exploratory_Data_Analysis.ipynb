{
  "nbformat": 4,
  "nbformat_minor": 5,
  "metadata": {
    "kernelspec": {
      "display_name": "Python 3",
      "language": "python",
      "name": "python3"
    },
    "language_info": {
      "codemirror_mode": {
        "name": "ipython",
        "version": 3
      },
      "file_extension": ".py",
      "mimetype": "text/x-python",
      "name": "python",
      "nbconvert_exporter": "python",
      "pygments_lexer": "ipython3",
      "version": "3.8.8"
    },
    "colab": {
      "name": "Exploratory Data Analysis.ipynb",
      "provenance": [],
      "collapsed_sections": [
        "62015ccf",
        "d69b32c8",
        "f4eac0f3",
        "7d4fe0c9",
        "62735123",
        "c78e8476",
        "f2a99875",
        "3f9a6171",
        "a4038c07",
        "5741d62e",
        "43ec7de0",
        "cc7c8ef4",
        "0ae5991c",
        "55e9a5d2",
        "d82f3481",
        "9e353347",
        "451bd02f",
        "fb34d129",
        "cac4845f",
        "b3c8c107",
        "e830f8c7",
        "b7c7395b",
        "c9bf4415",
        "433f1d61",
        "0b73a00f",
        "f9d87989",
        "4d3f745b",
        "a536a162",
        "c2dcb477",
        "447d72de",
        "07554297",
        "02b77f08",
        "0cbf604a"
      ]
    }
  },
  "cells": [
    {
      "cell_type": "markdown",
      "metadata": {
        "id": "3346df7d"
      },
      "source": [
        "## Importing libraries"
      ],
      "id": "3346df7d"
    },
    {
      "cell_type": "code",
      "metadata": {
        "id": "377ed18a"
      },
      "source": [
        "import numpy as np\n",
        "import pandas as pd\n",
        "import seaborn as sns\n",
        "from matplotlib import pyplot as plt\n",
        "import scipy.stats as stats\n",
        "from matplotlib.pyplot import figure\n",
        "from sklearn.preprocessing import LabelEncoder\n",
        "from sklearn.feature_selection import SelectKBest\n",
        "from sklearn.feature_selection import chi2\n",
        "from matplotlib import pyplot\n",
        "from sklearn.feature_selection import mutual_info_classif"
      ],
      "id": "377ed18a",
      "execution_count": null,
      "outputs": []
    },
    {
      "cell_type": "markdown",
      "metadata": {
        "id": "bdf4bf04"
      },
      "source": [
        "## Reading the Data"
      ],
      "id": "bdf4bf04"
    },
    {
      "cell_type": "code",
      "metadata": {
        "id": "0ef63387",
        "outputId": "3374b96e-5384-4dae-d035-d4fb93414d84"
      },
      "source": [
        "dataset= pd.read_excel(r\"C:\\Users\\hmeli\\OneDrive\\Masaüstü\\DataGlacierDataSets\\Project\\Healthcaredata.xlsx\")\n",
        "df=dataset.copy()\n",
        "print(\"Data imported successfully!\")"
      ],
      "id": "0ef63387",
      "execution_count": null,
      "outputs": [
        {
          "output_type": "stream",
          "text": [
            "Data imported successfully!\n"
          ],
          "name": "stdout"
        }
      ]
    },
    {
      "cell_type": "markdown",
      "metadata": {
        "id": "195efc6e"
      },
      "source": [
        "## Properties of the Dataset"
      ],
      "id": "195efc6e"
    },
    {
      "cell_type": "code",
      "metadata": {
        "id": "b7325aae",
        "outputId": "477c9608-dd50-4965-c017-51a6394a7598"
      },
      "source": [
        "df.head()"
      ],
      "id": "b7325aae",
      "execution_count": null,
      "outputs": [
        {
          "output_type": "execute_result",
          "data": {
            "text/html": [
              "<div>\n",
              "<style scoped>\n",
              "    .dataframe tbody tr th:only-of-type {\n",
              "        vertical-align: middle;\n",
              "    }\n",
              "\n",
              "    .dataframe tbody tr th {\n",
              "        vertical-align: top;\n",
              "    }\n",
              "\n",
              "    .dataframe thead th {\n",
              "        text-align: right;\n",
              "    }\n",
              "</style>\n",
              "<table border=\"1\" class=\"dataframe\">\n",
              "  <thead>\n",
              "    <tr style=\"text-align: right;\">\n",
              "      <th></th>\n",
              "      <th>Ptid</th>\n",
              "      <th>Persistency_Flag</th>\n",
              "      <th>Gender</th>\n",
              "      <th>Race</th>\n",
              "      <th>Ethnicity</th>\n",
              "      <th>Region</th>\n",
              "      <th>Age_Bucket</th>\n",
              "      <th>Ntm_Speciality</th>\n",
              "      <th>Ntm_Specialist_Flag</th>\n",
              "      <th>Ntm_Speciality_Bucket</th>\n",
              "      <th>...</th>\n",
              "      <th>Risk_Family_History_Of_Osteoporosis</th>\n",
              "      <th>Risk_Low_Calcium_Intake</th>\n",
              "      <th>Risk_Vitamin_D_Insufficiency</th>\n",
              "      <th>Risk_Poor_Health_Frailty</th>\n",
              "      <th>Risk_Excessive_Thinness</th>\n",
              "      <th>Risk_Hysterectomy_Oophorectomy</th>\n",
              "      <th>Risk_Estrogen_Deficiency</th>\n",
              "      <th>Risk_Immobilization</th>\n",
              "      <th>Risk_Recurring_Falls</th>\n",
              "      <th>Count_Of_Risks</th>\n",
              "    </tr>\n",
              "  </thead>\n",
              "  <tbody>\n",
              "    <tr>\n",
              "      <th>0</th>\n",
              "      <td>P1</td>\n",
              "      <td>Persistent</td>\n",
              "      <td>Male</td>\n",
              "      <td>Caucasian</td>\n",
              "      <td>Not Hispanic</td>\n",
              "      <td>West</td>\n",
              "      <td>&gt;75</td>\n",
              "      <td>GENERAL PRACTITIONER</td>\n",
              "      <td>Others</td>\n",
              "      <td>OB/GYN/Others/PCP/Unknown</td>\n",
              "      <td>...</td>\n",
              "      <td>N</td>\n",
              "      <td>N</td>\n",
              "      <td>N</td>\n",
              "      <td>N</td>\n",
              "      <td>N</td>\n",
              "      <td>N</td>\n",
              "      <td>N</td>\n",
              "      <td>N</td>\n",
              "      <td>N</td>\n",
              "      <td>0</td>\n",
              "    </tr>\n",
              "    <tr>\n",
              "      <th>1</th>\n",
              "      <td>P2</td>\n",
              "      <td>Non-Persistent</td>\n",
              "      <td>Male</td>\n",
              "      <td>Asian</td>\n",
              "      <td>Not Hispanic</td>\n",
              "      <td>West</td>\n",
              "      <td>55-65</td>\n",
              "      <td>GENERAL PRACTITIONER</td>\n",
              "      <td>Others</td>\n",
              "      <td>OB/GYN/Others/PCP/Unknown</td>\n",
              "      <td>...</td>\n",
              "      <td>N</td>\n",
              "      <td>N</td>\n",
              "      <td>N</td>\n",
              "      <td>N</td>\n",
              "      <td>N</td>\n",
              "      <td>N</td>\n",
              "      <td>N</td>\n",
              "      <td>N</td>\n",
              "      <td>N</td>\n",
              "      <td>0</td>\n",
              "    </tr>\n",
              "    <tr>\n",
              "      <th>2</th>\n",
              "      <td>P3</td>\n",
              "      <td>Non-Persistent</td>\n",
              "      <td>Female</td>\n",
              "      <td>Other/Unknown</td>\n",
              "      <td>Hispanic</td>\n",
              "      <td>Midwest</td>\n",
              "      <td>65-75</td>\n",
              "      <td>GENERAL PRACTITIONER</td>\n",
              "      <td>Others</td>\n",
              "      <td>OB/GYN/Others/PCP/Unknown</td>\n",
              "      <td>...</td>\n",
              "      <td>N</td>\n",
              "      <td>Y</td>\n",
              "      <td>N</td>\n",
              "      <td>N</td>\n",
              "      <td>N</td>\n",
              "      <td>N</td>\n",
              "      <td>N</td>\n",
              "      <td>N</td>\n",
              "      <td>N</td>\n",
              "      <td>2</td>\n",
              "    </tr>\n",
              "    <tr>\n",
              "      <th>3</th>\n",
              "      <td>P4</td>\n",
              "      <td>Non-Persistent</td>\n",
              "      <td>Female</td>\n",
              "      <td>Caucasian</td>\n",
              "      <td>Not Hispanic</td>\n",
              "      <td>Midwest</td>\n",
              "      <td>&gt;75</td>\n",
              "      <td>GENERAL PRACTITIONER</td>\n",
              "      <td>Others</td>\n",
              "      <td>OB/GYN/Others/PCP/Unknown</td>\n",
              "      <td>...</td>\n",
              "      <td>N</td>\n",
              "      <td>N</td>\n",
              "      <td>N</td>\n",
              "      <td>N</td>\n",
              "      <td>N</td>\n",
              "      <td>N</td>\n",
              "      <td>N</td>\n",
              "      <td>N</td>\n",
              "      <td>N</td>\n",
              "      <td>1</td>\n",
              "    </tr>\n",
              "    <tr>\n",
              "      <th>4</th>\n",
              "      <td>P5</td>\n",
              "      <td>Non-Persistent</td>\n",
              "      <td>Female</td>\n",
              "      <td>Caucasian</td>\n",
              "      <td>Not Hispanic</td>\n",
              "      <td>Midwest</td>\n",
              "      <td>&gt;75</td>\n",
              "      <td>GENERAL PRACTITIONER</td>\n",
              "      <td>Others</td>\n",
              "      <td>OB/GYN/Others/PCP/Unknown</td>\n",
              "      <td>...</td>\n",
              "      <td>N</td>\n",
              "      <td>N</td>\n",
              "      <td>N</td>\n",
              "      <td>N</td>\n",
              "      <td>N</td>\n",
              "      <td>N</td>\n",
              "      <td>N</td>\n",
              "      <td>N</td>\n",
              "      <td>N</td>\n",
              "      <td>1</td>\n",
              "    </tr>\n",
              "  </tbody>\n",
              "</table>\n",
              "<p>5 rows × 69 columns</p>\n",
              "</div>"
            ],
            "text/plain": [
              "  Ptid Persistency_Flag  Gender           Race     Ethnicity   Region  \\\n",
              "0   P1       Persistent    Male      Caucasian  Not Hispanic     West   \n",
              "1   P2   Non-Persistent    Male          Asian  Not Hispanic     West   \n",
              "2   P3   Non-Persistent  Female  Other/Unknown      Hispanic  Midwest   \n",
              "3   P4   Non-Persistent  Female      Caucasian  Not Hispanic  Midwest   \n",
              "4   P5   Non-Persistent  Female      Caucasian  Not Hispanic  Midwest   \n",
              "\n",
              "  Age_Bucket        Ntm_Speciality Ntm_Specialist_Flag  \\\n",
              "0        >75  GENERAL PRACTITIONER              Others   \n",
              "1      55-65  GENERAL PRACTITIONER              Others   \n",
              "2      65-75  GENERAL PRACTITIONER              Others   \n",
              "3        >75  GENERAL PRACTITIONER              Others   \n",
              "4        >75  GENERAL PRACTITIONER              Others   \n",
              "\n",
              "       Ntm_Speciality_Bucket  ... Risk_Family_History_Of_Osteoporosis  \\\n",
              "0  OB/GYN/Others/PCP/Unknown  ...                                   N   \n",
              "1  OB/GYN/Others/PCP/Unknown  ...                                   N   \n",
              "2  OB/GYN/Others/PCP/Unknown  ...                                   N   \n",
              "3  OB/GYN/Others/PCP/Unknown  ...                                   N   \n",
              "4  OB/GYN/Others/PCP/Unknown  ...                                   N   \n",
              "\n",
              "  Risk_Low_Calcium_Intake  Risk_Vitamin_D_Insufficiency  \\\n",
              "0                       N                             N   \n",
              "1                       N                             N   \n",
              "2                       Y                             N   \n",
              "3                       N                             N   \n",
              "4                       N                             N   \n",
              "\n",
              "  Risk_Poor_Health_Frailty Risk_Excessive_Thinness  \\\n",
              "0                        N                       N   \n",
              "1                        N                       N   \n",
              "2                        N                       N   \n",
              "3                        N                       N   \n",
              "4                        N                       N   \n",
              "\n",
              "  Risk_Hysterectomy_Oophorectomy Risk_Estrogen_Deficiency Risk_Immobilization  \\\n",
              "0                              N                        N                   N   \n",
              "1                              N                        N                   N   \n",
              "2                              N                        N                   N   \n",
              "3                              N                        N                   N   \n",
              "4                              N                        N                   N   \n",
              "\n",
              "  Risk_Recurring_Falls Count_Of_Risks  \n",
              "0                    N              0  \n",
              "1                    N              0  \n",
              "2                    N              2  \n",
              "3                    N              1  \n",
              "4                    N              1  \n",
              "\n",
              "[5 rows x 69 columns]"
            ]
          },
          "metadata": {
            "tags": []
          },
          "execution_count": 3
        }
      ]
    },
    {
      "cell_type": "code",
      "metadata": {
        "id": "2c4aaa09",
        "outputId": "2dae5d38-ecb3-4cfc-b0f5-f018c3eaf7a9"
      },
      "source": [
        "df.tail()"
      ],
      "id": "2c4aaa09",
      "execution_count": null,
      "outputs": [
        {
          "output_type": "execute_result",
          "data": {
            "text/html": [
              "<div>\n",
              "<style scoped>\n",
              "    .dataframe tbody tr th:only-of-type {\n",
              "        vertical-align: middle;\n",
              "    }\n",
              "\n",
              "    .dataframe tbody tr th {\n",
              "        vertical-align: top;\n",
              "    }\n",
              "\n",
              "    .dataframe thead th {\n",
              "        text-align: right;\n",
              "    }\n",
              "</style>\n",
              "<table border=\"1\" class=\"dataframe\">\n",
              "  <thead>\n",
              "    <tr style=\"text-align: right;\">\n",
              "      <th></th>\n",
              "      <th>Ptid</th>\n",
              "      <th>Persistency_Flag</th>\n",
              "      <th>Gender</th>\n",
              "      <th>Race</th>\n",
              "      <th>Ethnicity</th>\n",
              "      <th>Region</th>\n",
              "      <th>Age_Bucket</th>\n",
              "      <th>Ntm_Speciality</th>\n",
              "      <th>Ntm_Specialist_Flag</th>\n",
              "      <th>Ntm_Speciality_Bucket</th>\n",
              "      <th>...</th>\n",
              "      <th>Risk_Family_History_Of_Osteoporosis</th>\n",
              "      <th>Risk_Low_Calcium_Intake</th>\n",
              "      <th>Risk_Vitamin_D_Insufficiency</th>\n",
              "      <th>Risk_Poor_Health_Frailty</th>\n",
              "      <th>Risk_Excessive_Thinness</th>\n",
              "      <th>Risk_Hysterectomy_Oophorectomy</th>\n",
              "      <th>Risk_Estrogen_Deficiency</th>\n",
              "      <th>Risk_Immobilization</th>\n",
              "      <th>Risk_Recurring_Falls</th>\n",
              "      <th>Count_Of_Risks</th>\n",
              "    </tr>\n",
              "  </thead>\n",
              "  <tbody>\n",
              "    <tr>\n",
              "      <th>3419</th>\n",
              "      <td>P3420</td>\n",
              "      <td>Persistent</td>\n",
              "      <td>Female</td>\n",
              "      <td>Caucasian</td>\n",
              "      <td>Not Hispanic</td>\n",
              "      <td>South</td>\n",
              "      <td>&gt;75</td>\n",
              "      <td>GENERAL PRACTITIONER</td>\n",
              "      <td>Others</td>\n",
              "      <td>OB/GYN/Others/PCP/Unknown</td>\n",
              "      <td>...</td>\n",
              "      <td>N</td>\n",
              "      <td>N</td>\n",
              "      <td>Y</td>\n",
              "      <td>N</td>\n",
              "      <td>N</td>\n",
              "      <td>N</td>\n",
              "      <td>N</td>\n",
              "      <td>N</td>\n",
              "      <td>N</td>\n",
              "      <td>1</td>\n",
              "    </tr>\n",
              "    <tr>\n",
              "      <th>3420</th>\n",
              "      <td>P3421</td>\n",
              "      <td>Persistent</td>\n",
              "      <td>Female</td>\n",
              "      <td>Caucasian</td>\n",
              "      <td>Not Hispanic</td>\n",
              "      <td>South</td>\n",
              "      <td>&gt;75</td>\n",
              "      <td>Unknown</td>\n",
              "      <td>Others</td>\n",
              "      <td>OB/GYN/Others/PCP/Unknown</td>\n",
              "      <td>...</td>\n",
              "      <td>N</td>\n",
              "      <td>N</td>\n",
              "      <td>N</td>\n",
              "      <td>N</td>\n",
              "      <td>N</td>\n",
              "      <td>N</td>\n",
              "      <td>N</td>\n",
              "      <td>N</td>\n",
              "      <td>N</td>\n",
              "      <td>0</td>\n",
              "    </tr>\n",
              "    <tr>\n",
              "      <th>3421</th>\n",
              "      <td>P3422</td>\n",
              "      <td>Persistent</td>\n",
              "      <td>Female</td>\n",
              "      <td>Caucasian</td>\n",
              "      <td>Not Hispanic</td>\n",
              "      <td>South</td>\n",
              "      <td>&gt;75</td>\n",
              "      <td>ENDOCRINOLOGY</td>\n",
              "      <td>Specialist</td>\n",
              "      <td>Endo/Onc/Uro</td>\n",
              "      <td>...</td>\n",
              "      <td>N</td>\n",
              "      <td>N</td>\n",
              "      <td>Y</td>\n",
              "      <td>N</td>\n",
              "      <td>N</td>\n",
              "      <td>N</td>\n",
              "      <td>N</td>\n",
              "      <td>N</td>\n",
              "      <td>N</td>\n",
              "      <td>1</td>\n",
              "    </tr>\n",
              "    <tr>\n",
              "      <th>3422</th>\n",
              "      <td>P3423</td>\n",
              "      <td>Non-Persistent</td>\n",
              "      <td>Female</td>\n",
              "      <td>Caucasian</td>\n",
              "      <td>Not Hispanic</td>\n",
              "      <td>South</td>\n",
              "      <td>55-65</td>\n",
              "      <td>Unknown</td>\n",
              "      <td>Others</td>\n",
              "      <td>OB/GYN/Others/PCP/Unknown</td>\n",
              "      <td>...</td>\n",
              "      <td>N</td>\n",
              "      <td>N</td>\n",
              "      <td>N</td>\n",
              "      <td>N</td>\n",
              "      <td>N</td>\n",
              "      <td>N</td>\n",
              "      <td>N</td>\n",
              "      <td>N</td>\n",
              "      <td>N</td>\n",
              "      <td>0</td>\n",
              "    </tr>\n",
              "    <tr>\n",
              "      <th>3423</th>\n",
              "      <td>P3424</td>\n",
              "      <td>Non-Persistent</td>\n",
              "      <td>Female</td>\n",
              "      <td>Caucasian</td>\n",
              "      <td>Not Hispanic</td>\n",
              "      <td>South</td>\n",
              "      <td>65-75</td>\n",
              "      <td>Unknown</td>\n",
              "      <td>Others</td>\n",
              "      <td>OB/GYN/Others/PCP/Unknown</td>\n",
              "      <td>...</td>\n",
              "      <td>N</td>\n",
              "      <td>N</td>\n",
              "      <td>Y</td>\n",
              "      <td>N</td>\n",
              "      <td>N</td>\n",
              "      <td>N</td>\n",
              "      <td>N</td>\n",
              "      <td>N</td>\n",
              "      <td>N</td>\n",
              "      <td>1</td>\n",
              "    </tr>\n",
              "  </tbody>\n",
              "</table>\n",
              "<p>5 rows × 69 columns</p>\n",
              "</div>"
            ],
            "text/plain": [
              "       Ptid Persistency_Flag  Gender       Race     Ethnicity Region  \\\n",
              "3419  P3420       Persistent  Female  Caucasian  Not Hispanic  South   \n",
              "3420  P3421       Persistent  Female  Caucasian  Not Hispanic  South   \n",
              "3421  P3422       Persistent  Female  Caucasian  Not Hispanic  South   \n",
              "3422  P3423   Non-Persistent  Female  Caucasian  Not Hispanic  South   \n",
              "3423  P3424   Non-Persistent  Female  Caucasian  Not Hispanic  South   \n",
              "\n",
              "     Age_Bucket        Ntm_Speciality Ntm_Specialist_Flag  \\\n",
              "3419        >75  GENERAL PRACTITIONER              Others   \n",
              "3420        >75               Unknown              Others   \n",
              "3421        >75         ENDOCRINOLOGY          Specialist   \n",
              "3422      55-65               Unknown              Others   \n",
              "3423      65-75               Unknown              Others   \n",
              "\n",
              "          Ntm_Speciality_Bucket  ... Risk_Family_History_Of_Osteoporosis  \\\n",
              "3419  OB/GYN/Others/PCP/Unknown  ...                                   N   \n",
              "3420  OB/GYN/Others/PCP/Unknown  ...                                   N   \n",
              "3421               Endo/Onc/Uro  ...                                   N   \n",
              "3422  OB/GYN/Others/PCP/Unknown  ...                                   N   \n",
              "3423  OB/GYN/Others/PCP/Unknown  ...                                   N   \n",
              "\n",
              "     Risk_Low_Calcium_Intake  Risk_Vitamin_D_Insufficiency  \\\n",
              "3419                       N                             Y   \n",
              "3420                       N                             N   \n",
              "3421                       N                             Y   \n",
              "3422                       N                             N   \n",
              "3423                       N                             Y   \n",
              "\n",
              "     Risk_Poor_Health_Frailty Risk_Excessive_Thinness  \\\n",
              "3419                        N                       N   \n",
              "3420                        N                       N   \n",
              "3421                        N                       N   \n",
              "3422                        N                       N   \n",
              "3423                        N                       N   \n",
              "\n",
              "     Risk_Hysterectomy_Oophorectomy Risk_Estrogen_Deficiency  \\\n",
              "3419                              N                        N   \n",
              "3420                              N                        N   \n",
              "3421                              N                        N   \n",
              "3422                              N                        N   \n",
              "3423                              N                        N   \n",
              "\n",
              "     Risk_Immobilization Risk_Recurring_Falls Count_Of_Risks  \n",
              "3419                   N                    N              1  \n",
              "3420                   N                    N              0  \n",
              "3421                   N                    N              1  \n",
              "3422                   N                    N              0  \n",
              "3423                   N                    N              1  \n",
              "\n",
              "[5 rows x 69 columns]"
            ]
          },
          "metadata": {
            "tags": []
          },
          "execution_count": 4
        }
      ]
    },
    {
      "cell_type": "markdown",
      "metadata": {
        "id": "507e1302"
      },
      "source": [
        "## Dataset information"
      ],
      "id": "507e1302"
    },
    {
      "cell_type": "code",
      "metadata": {
        "id": "874847fa",
        "outputId": "0742f2b3-b40f-409f-905a-6ca3bdff8b16"
      },
      "source": [
        "#overall dataset information\n",
        "df.info()"
      ],
      "id": "874847fa",
      "execution_count": null,
      "outputs": [
        {
          "output_type": "stream",
          "text": [
            "<class 'pandas.core.frame.DataFrame'>\n",
            "RangeIndex: 3424 entries, 0 to 3423\n",
            "Data columns (total 69 columns):\n",
            " #   Column                                                              Non-Null Count  Dtype \n",
            "---  ------                                                              --------------  ----- \n",
            " 0   Ptid                                                                3424 non-null   object\n",
            " 1   Persistency_Flag                                                    3424 non-null   object\n",
            " 2   Gender                                                              3424 non-null   object\n",
            " 3   Race                                                                3424 non-null   object\n",
            " 4   Ethnicity                                                           3424 non-null   object\n",
            " 5   Region                                                              3424 non-null   object\n",
            " 6   Age_Bucket                                                          3424 non-null   object\n",
            " 7   Ntm_Speciality                                                      3424 non-null   object\n",
            " 8   Ntm_Specialist_Flag                                                 3424 non-null   object\n",
            " 9   Ntm_Speciality_Bucket                                               3424 non-null   object\n",
            " 10  Gluco_Record_Prior_Ntm                                              3424 non-null   object\n",
            " 11  Gluco_Record_During_Rx                                              3424 non-null   object\n",
            " 12  Dexa_Freq_During_Rx                                                 3424 non-null   int64 \n",
            " 13  Dexa_During_Rx                                                      3424 non-null   object\n",
            " 14  Frag_Frac_Prior_Ntm                                                 3424 non-null   object\n",
            " 15  Frag_Frac_During_Rx                                                 3424 non-null   object\n",
            " 16  Risk_Segment_Prior_Ntm                                              3424 non-null   object\n",
            " 17  Tscore_Bucket_Prior_Ntm                                             3424 non-null   object\n",
            " 18  Risk_Segment_During_Rx                                              3424 non-null   object\n",
            " 19  Tscore_Bucket_During_Rx                                             3424 non-null   object\n",
            " 20  Change_T_Score                                                      3424 non-null   object\n",
            " 21  Change_Risk_Segment                                                 3424 non-null   object\n",
            " 22  Adherent_Flag                                                       3424 non-null   object\n",
            " 23  Idn_Indicator                                                       3424 non-null   object\n",
            " 24  Injectable_Experience_During_Rx                                     3424 non-null   object\n",
            " 25  Comorb_Encounter_For_Screening_For_Malignant_Neoplasms              3424 non-null   object\n",
            " 26  Comorb_Encounter_For_Immunization                                   3424 non-null   object\n",
            " 27  Comorb_Encntr_For_General_Exam_W_O_Complaint,_Susp_Or_Reprtd_Dx     3424 non-null   object\n",
            " 28  Comorb_Vitamin_D_Deficiency                                         3424 non-null   object\n",
            " 29  Comorb_Other_Joint_Disorder_Not_Elsewhere_Classified                3424 non-null   object\n",
            " 30  Comorb_Encntr_For_Oth_Sp_Exam_W_O_Complaint_Suspected_Or_Reprtd_Dx  3424 non-null   object\n",
            " 31  Comorb_Long_Term_Current_Drug_Therapy                               3424 non-null   object\n",
            " 32  Comorb_Dorsalgia                                                    3424 non-null   object\n",
            " 33  Comorb_Personal_History_Of_Other_Diseases_And_Conditions            3424 non-null   object\n",
            " 34  Comorb_Other_Disorders_Of_Bone_Density_And_Structure                3424 non-null   object\n",
            " 35  Comorb_Disorders_of_lipoprotein_metabolism_and_other_lipidemias     3424 non-null   object\n",
            " 36  Comorb_Osteoporosis_without_current_pathological_fracture           3424 non-null   object\n",
            " 37  Comorb_Personal_history_of_malignant_neoplasm                       3424 non-null   object\n",
            " 38  Comorb_Gastro_esophageal_reflux_disease                             3424 non-null   object\n",
            " 39  Concom_Cholesterol_And_Triglyceride_Regulating_Preparations         3424 non-null   object\n",
            " 40  Concom_Narcotics                                                    3424 non-null   object\n",
            " 41  Concom_Systemic_Corticosteroids_Plain                               3424 non-null   object\n",
            " 42  Concom_Anti_Depressants_And_Mood_Stabilisers                        3424 non-null   object\n",
            " 43  Concom_Fluoroquinolones                                             3424 non-null   object\n",
            " 44  Concom_Cephalosporins                                               3424 non-null   object\n",
            " 45  Concom_Macrolides_And_Similar_Types                                 3424 non-null   object\n",
            " 46  Concom_Broad_Spectrum_Penicillins                                   3424 non-null   object\n",
            " 47  Concom_Anaesthetics_General                                         3424 non-null   object\n",
            " 48  Concom_Viral_Vaccines                                               3424 non-null   object\n",
            " 49  Risk_Type_1_Insulin_Dependent_Diabetes                              3424 non-null   object\n",
            " 50  Risk_Osteogenesis_Imperfecta                                        3424 non-null   object\n",
            " 51  Risk_Rheumatoid_Arthritis                                           3424 non-null   object\n",
            " 52  Risk_Untreated_Chronic_Hyperthyroidism                              3424 non-null   object\n",
            " 53  Risk_Untreated_Chronic_Hypogonadism                                 3424 non-null   object\n",
            " 54  Risk_Untreated_Early_Menopause                                      3424 non-null   object\n",
            " 55  Risk_Patient_Parent_Fractured_Their_Hip                             3424 non-null   object\n",
            " 56  Risk_Smoking_Tobacco                                                3424 non-null   object\n",
            " 57  Risk_Chronic_Malnutrition_Or_Malabsorption                          3424 non-null   object\n",
            " 58  Risk_Chronic_Liver_Disease                                          3424 non-null   object\n",
            " 59  Risk_Family_History_Of_Osteoporosis                                 3424 non-null   object\n",
            " 60  Risk_Low_Calcium_Intake                                             3424 non-null   object\n",
            " 61  Risk_Vitamin_D_Insufficiency                                        3424 non-null   object\n",
            " 62  Risk_Poor_Health_Frailty                                            3424 non-null   object\n",
            " 63  Risk_Excessive_Thinness                                             3424 non-null   object\n",
            " 64  Risk_Hysterectomy_Oophorectomy                                      3424 non-null   object\n",
            " 65  Risk_Estrogen_Deficiency                                            3424 non-null   object\n",
            " 66  Risk_Immobilization                                                 3424 non-null   object\n",
            " 67  Risk_Recurring_Falls                                                3424 non-null   object\n",
            " 68  Count_Of_Risks                                                      3424 non-null   int64 \n",
            "dtypes: int64(2), object(67)\n",
            "memory usage: 1.8+ MB\n"
          ],
          "name": "stdout"
        }
      ]
    },
    {
      "cell_type": "code",
      "metadata": {
        "id": "e6f4c6db",
        "outputId": "e4153b3c-893f-48ec-aef6-2d0375896deb"
      },
      "source": [
        "df.dtypes"
      ],
      "id": "e6f4c6db",
      "execution_count": null,
      "outputs": [
        {
          "output_type": "execute_result",
          "data": {
            "text/plain": [
              "Ptid                              object\n",
              "Persistency_Flag                  object\n",
              "Gender                            object\n",
              "Race                              object\n",
              "Ethnicity                         object\n",
              "                                   ...  \n",
              "Risk_Hysterectomy_Oophorectomy    object\n",
              "Risk_Estrogen_Deficiency          object\n",
              "Risk_Immobilization               object\n",
              "Risk_Recurring_Falls              object\n",
              "Count_Of_Risks                     int64\n",
              "Length: 69, dtype: object"
            ]
          },
          "metadata": {
            "tags": []
          },
          "execution_count": 6
        }
      ]
    },
    {
      "cell_type": "code",
      "metadata": {
        "id": "9922b5f1",
        "outputId": "3958bf07-86ce-4a57-cae1-88f4049f2952"
      },
      "source": [
        "#We have 3424 observations and 69 features.\n",
        "df.shape"
      ],
      "id": "9922b5f1",
      "execution_count": null,
      "outputs": [
        {
          "output_type": "execute_result",
          "data": {
            "text/plain": [
              "(3424, 69)"
            ]
          },
          "metadata": {
            "tags": []
          },
          "execution_count": 7
        }
      ]
    },
    {
      "cell_type": "markdown",
      "metadata": {
        "id": "248b0380"
      },
      "source": [
        "## Checking whether the dataset has any null values"
      ],
      "id": "248b0380"
    },
    {
      "cell_type": "code",
      "metadata": {
        "id": "f7f69fa0",
        "outputId": "c38bbcd6-fe90-4bfb-a6cf-6b868d77a6fa"
      },
      "source": [
        "df.isnull().values.any()"
      ],
      "id": "f7f69fa0",
      "execution_count": null,
      "outputs": [
        {
          "output_type": "execute_result",
          "data": {
            "text/plain": [
              "False"
            ]
          },
          "metadata": {
            "tags": []
          },
          "execution_count": 8
        }
      ]
    },
    {
      "cell_type": "code",
      "metadata": {
        "id": "a2e6c59e",
        "outputId": "c81b9bd1-832a-401e-9624-c133eb098017"
      },
      "source": [
        "df.isnull().sum()"
      ],
      "id": "a2e6c59e",
      "execution_count": null,
      "outputs": [
        {
          "output_type": "execute_result",
          "data": {
            "text/plain": [
              "Ptid                              0\n",
              "Persistency_Flag                  0\n",
              "Gender                            0\n",
              "Race                              0\n",
              "Ethnicity                         0\n",
              "                                 ..\n",
              "Risk_Hysterectomy_Oophorectomy    0\n",
              "Risk_Estrogen_Deficiency          0\n",
              "Risk_Immobilization               0\n",
              "Risk_Recurring_Falls              0\n",
              "Count_Of_Risks                    0\n",
              "Length: 69, dtype: int64"
            ]
          },
          "metadata": {
            "tags": []
          },
          "execution_count": 9
        }
      ]
    },
    {
      "cell_type": "markdown",
      "metadata": {
        "id": "31cca3a3"
      },
      "source": [
        "# Basic Exploratory Data Analysis"
      ],
      "id": "31cca3a3"
    },
    {
      "cell_type": "markdown",
      "metadata": {
        "id": "62015ccf"
      },
      "source": [
        "## Examining Categorical Variables"
      ],
      "id": "62015ccf"
    },
    {
      "cell_type": "markdown",
      "metadata": {
        "id": "d69b32c8"
      },
      "source": [
        "## Demographics"
      ],
      "id": "d69b32c8"
    },
    {
      "cell_type": "code",
      "metadata": {
        "id": "2c52983f",
        "outputId": "c71d76d5-b2e9-42cf-b54d-09785a3fd308"
      },
      "source": [
        "df[\"Ethnicity\"].value_counts()"
      ],
      "id": "2c52983f",
      "execution_count": null,
      "outputs": [
        {
          "output_type": "execute_result",
          "data": {
            "text/plain": [
              "Not Hispanic    3235\n",
              "Hispanic          98\n",
              "Unknown           91\n",
              "Name: Ethnicity, dtype: int64"
            ]
          },
          "metadata": {
            "tags": []
          },
          "execution_count": 10
        }
      ]
    },
    {
      "cell_type": "code",
      "metadata": {
        "id": "29642442",
        "outputId": "c79f99dc-863a-4fb9-f602-be419afa0010"
      },
      "source": [
        "df[\"Ethnicity\"].value_counts().plot.barh();"
      ],
      "id": "29642442",
      "execution_count": null,
      "outputs": [
        {
          "output_type": "display_data",
          "data": {
            "image/png": "[encoded data removed]",
            "text/plain": [
              "<Figure size 432x288 with 1 Axes>"
            ]
          },
          "metadata": {
            "tags": [],
            "needs_background": "light"
          }
        }
      ]
    },
    {
      "cell_type": "markdown",
      "metadata": {
        "id": "138ba4c8"
      },
      "source": [
        "## Conclusion: \n",
        "\n",
        "Not Hispanic people dominates the Ethinicty. "
      ],
      "id": "138ba4c8"
    },
    {
      "cell_type": "code",
      "metadata": {
        "id": "561d33c1",
        "outputId": "9b1fc24f-5aa6-4dd3-809d-db36499099c9"
      },
      "source": [
        "#Target Variable\n",
        "df[\"Persistency_Flag\"].value_counts()"
      ],
      "id": "561d33c1",
      "execution_count": null,
      "outputs": [
        {
          "output_type": "execute_result",
          "data": {
            "text/plain": [
              "Non-Persistent    2135\n",
              "Persistent        1289\n",
              "Name: Persistency_Flag, dtype: int64"
            ]
          },
          "metadata": {
            "tags": []
          },
          "execution_count": 12
        }
      ]
    },
    {
      "cell_type": "code",
      "metadata": {
        "id": "b595ed6f",
        "outputId": "c839af40-77f8-4741-fb10-32932e3cd697"
      },
      "source": [
        "df[\"Region\"].value_counts()"
      ],
      "id": "b595ed6f",
      "execution_count": null,
      "outputs": [
        {
          "output_type": "execute_result",
          "data": {
            "text/plain": [
              "Midwest          1383\n",
              "South            1247\n",
              "West              502\n",
              "Northeast         232\n",
              "Other/Unknown      60\n",
              "Name: Region, dtype: int64"
            ]
          },
          "metadata": {
            "tags": []
          },
          "execution_count": 13
        }
      ]
    },
    {
      "cell_type": "code",
      "metadata": {
        "id": "451d8ae8",
        "outputId": "18cc0d0c-5083-49c8-c9cf-29cbed8ab5d6"
      },
      "source": [
        "df[\"Region\"].value_counts().plot.barh()"
      ],
      "id": "451d8ae8",
      "execution_count": null,
      "outputs": [
        {
          "output_type": "execute_result",
          "data": {
            "text/plain": [
              "<AxesSubplot:>"
            ]
          },
          "metadata": {
            "tags": []
          },
          "execution_count": 14
        },
        {
          "output_type": "display_data",
          "data": {
            "image/png": "[encoded data removed]",
            "text/plain": [
              "<Figure size 432x288 with 1 Axes>"
            ]
          },
          "metadata": {
            "tags": [],
            "needs_background": "light"
          }
        }
      ]
    },
    {
      "cell_type": "markdown",
      "metadata": {
        "id": "f4eac0f3"
      },
      "source": [
        "## Conclusion: \n",
        "\n",
        "Midwest and South Regions have the highest proportion."
      ],
      "id": "f4eac0f3"
    },
    {
      "cell_type": "code",
      "metadata": {
        "id": "afd7ef6b",
        "outputId": "0420a4e4-10b0-4d9c-9c61-67ce7879b3cc"
      },
      "source": [
        "df[\"Idn_Indicator\"].value_counts()"
      ],
      "id": "afd7ef6b",
      "execution_count": null,
      "outputs": [
        {
          "output_type": "execute_result",
          "data": {
            "text/plain": [
              "Y    2557\n",
              "N     867\n",
              "Name: Idn_Indicator, dtype: int64"
            ]
          },
          "metadata": {
            "tags": []
          },
          "execution_count": 15
        }
      ]
    },
    {
      "cell_type": "code",
      "metadata": {
        "id": "947ca3c9",
        "outputId": "71bed218-2580-4962-9226-2e176398d823"
      },
      "source": [
        "df[\"Age_Bucket\"].value_counts()"
      ],
      "id": "947ca3c9",
      "execution_count": null,
      "outputs": [
        {
          "output_type": "execute_result",
          "data": {
            "text/plain": [
              ">75      1439\n",
              "65-75    1086\n",
              "55-65     733\n",
              "<55       166\n",
              "Name: Age_Bucket, dtype: int64"
            ]
          },
          "metadata": {
            "tags": []
          },
          "execution_count": 16
        }
      ]
    },
    {
      "cell_type": "code",
      "metadata": {
        "id": "5298394c",
        "outputId": "beb23539-2247-40f8-a8d9-ce581ab092c3"
      },
      "source": [
        "df[\"Age_Bucket\"].value_counts().plot.barh();"
      ],
      "id": "5298394c",
      "execution_count": null,
      "outputs": [
        {
          "output_type": "display_data",
          "data": {
            "image/png": "[encoded data removed]",
            "text/plain": [
              "<Figure size 432x288 with 1 Axes>"
            ]
          },
          "metadata": {
            "tags": [],
            "needs_background": "light"
          }
        }
      ]
    },
    {
      "cell_type": "markdown",
      "metadata": {
        "id": "7d4fe0c9"
      },
      "source": [
        "## Conclusion: \n",
        "\n",
        "Being of age > 55 can be related to have flag_persistecy."
      ],
      "id": "7d4fe0c9"
    },
    {
      "cell_type": "code",
      "metadata": {
        "id": "ce50ef2b",
        "outputId": "233c2166-7c52-4a48-97f0-275bf5287ce2"
      },
      "source": [
        "df[\"Race\"].value_counts()"
      ],
      "id": "ce50ef2b",
      "execution_count": null,
      "outputs": [
        {
          "output_type": "execute_result",
          "data": {
            "text/plain": [
              "Caucasian           3148\n",
              "Other/Unknown         97\n",
              "African American      95\n",
              "Asian                 84\n",
              "Name: Race, dtype: int64"
            ]
          },
          "metadata": {
            "tags": []
          },
          "execution_count": 18
        }
      ]
    },
    {
      "cell_type": "code",
      "metadata": {
        "id": "5b122617",
        "outputId": "eec5c268-38cf-45d3-f0e0-4ee036c2d223"
      },
      "source": [
        "df[\"Race\"].value_counts().plot.barh();"
      ],
      "id": "5b122617",
      "execution_count": null,
      "outputs": [
        {
          "output_type": "display_data",
          "data": {
            "image/png": "[encoded data removed]",
            "text/plain": [
              "<Figure size 432x288 with 1 Axes>"
            ]
          },
          "metadata": {
            "tags": [],
            "needs_background": "light"
          }
        }
      ]
    },
    {
      "cell_type": "markdown",
      "metadata": {
        "id": "62735123"
      },
      "source": [
        "## Conclusion: \n",
        "\n",
        "The rate of being from \"Caucasion\" is higher. So, being caucasion can affect flag_persistency (target variable)."
      ],
      "id": "62735123"
    },
    {
      "cell_type": "code",
      "metadata": {
        "id": "56b681c2",
        "outputId": "c23aeeb0-0e23-4c8a-83c0-2f9858f75ff6"
      },
      "source": [
        "df[\"Gender\"].value_counts()"
      ],
      "id": "56b681c2",
      "execution_count": null,
      "outputs": [
        {
          "output_type": "execute_result",
          "data": {
            "text/plain": [
              "Female    3230\n",
              "Male       194\n",
              "Name: Gender, dtype: int64"
            ]
          },
          "metadata": {
            "tags": []
          },
          "execution_count": 20
        }
      ]
    },
    {
      "cell_type": "code",
      "metadata": {
        "id": "5af27624",
        "outputId": "4aeefb98-515c-488d-cdca-1b1700dac33c"
      },
      "source": [
        "df[\"Gender\"].value_counts().plot.barh();"
      ],
      "id": "5af27624",
      "execution_count": null,
      "outputs": [
        {
          "output_type": "display_data",
          "data": {
            "image/png": "[encoded data removed]",
            "text/plain": [
              "<Figure size 432x288 with 1 Axes>"
            ]
          },
          "metadata": {
            "tags": [],
            "needs_background": "light"
          }
        }
      ]
    },
    {
      "cell_type": "markdown",
      "metadata": {
        "id": "c78e8476"
      },
      "source": [
        "## Conclusion: \n",
        "\n",
        "Being female can be highly related with flag_persistency."
      ],
      "id": "c78e8476"
    },
    {
      "cell_type": "code",
      "metadata": {
        "id": "d2556bc5",
        "outputId": "e4f08ffd-28b8-491f-e72e-d3664715f767"
      },
      "source": [
        "# Checking the ratio of the target variable (Persistency_Flag)\n",
        "\n",
        "plt.bar(['0', '1'], df['Persistency_Flag'].value_counts(ascending=True))\n",
        "plt.show()"
      ],
      "id": "d2556bc5",
      "execution_count": null,
      "outputs": [
        {
          "output_type": "display_data",
          "data": {
            "image/png": "[encoded data removed]",
            "text/plain": [
              "<Figure size 432x288 with 1 Axes>"
            ]
          },
          "metadata": {
            "tags": [],
            "needs_background": "light"
          }
        }
      ]
    },
    {
      "cell_type": "markdown",
      "metadata": {
        "id": "f2a99875"
      },
      "source": [
        " ## Gender wise analysis"
      ],
      "id": "f2a99875"
    },
    {
      "cell_type": "code",
      "metadata": {
        "id": "597933d4",
        "outputId": "e6403bb5-9d6d-4e5a-ee5e-0b6066ef3151"
      },
      "source": [
        "pd.crosstab(df['Gender'], df['Persistency_Flag']).plot(kind='bar', figsize=(15, 6))\n",
        "plt.title('Frequency for Gender')\n",
        "plt.xlabel('Gender')\n",
        "plt.legend(['Not Persistent', 'Persistent'])\n",
        "plt.show()"
      ],
      "id": "597933d4",
      "execution_count": null,
      "outputs": [
        {
          "output_type": "display_data",
          "data": {
            "image/png": "[encoded data removed]",
            "text/plain": [
              "<Figure size 1080x432 with 1 Axes>"
            ]
          },
          "metadata": {
            "tags": [],
            "needs_background": "light"
          }
        }
      ]
    },
    {
      "cell_type": "markdown",
      "metadata": {
        "id": "3f9a6171"
      },
      "source": [
        "## Count_Of_Risks and Percictency_Flag Relation:"
      ],
      "id": "3f9a6171"
    },
    {
      "cell_type": "code",
      "metadata": {
        "id": "d89f4181",
        "outputId": "9ab85334-e7bf-47f5-ac9d-15b74f5e2d40"
      },
      "source": [
        "pd.crosstab(df['Count_Of_Risks'], df['Persistency_Flag']).plot(kind='bar', figsize=(15, 6))\n",
        "plt.legend(['Not Persistent', 'Persistent'])\n",
        "plt.show()"
      ],
      "id": "d89f4181",
      "execution_count": null,
      "outputs": [
        {
          "output_type": "display_data",
          "data": {
            "image/png": "[encoded data removed]",
            "text/plain": [
              "<Figure size 1080x432 with 1 Axes>"
            ]
          },
          "metadata": {
            "tags": [],
            "needs_background": "light"
          }
        }
      ]
    },
    {
      "cell_type": "markdown",
      "metadata": {
        "id": "a4038c07"
      },
      "source": [
        "## Region wise Analysis"
      ],
      "id": "a4038c07"
    },
    {
      "cell_type": "code",
      "metadata": {
        "id": "4d606870",
        "outputId": "3b8e9260-b4b6-4ae5-ccc4-7049d8ad93cc"
      },
      "source": [
        "pd.crosstab(df['Region'], df['Persistency_Flag']).plot(kind='bar', figsize=(15, 6))\n",
        "plt.legend(['Not Persistent', 'Persistent'])\n",
        "plt.show()"
      ],
      "id": "4d606870",
      "execution_count": null,
      "outputs": [
        {
          "output_type": "display_data",
          "data": {
            "image/png": "[encoded data removed]",
            "text/plain": [
              "<Figure size 1080x432 with 1 Axes>"
            ]
          },
          "metadata": {
            "tags": [],
            "needs_background": "light"
          }
        }
      ]
    },
    {
      "cell_type": "code",
      "metadata": {
        "id": "77beb9dc",
        "outputId": "9b1651fd-6b2f-4f19-bbd5-5f40e549f022"
      },
      "source": [
        "plt.figure(figsize=(10, 5))\n",
        "sns.swarmplot(x=df[\"Region\"], y=\"Dexa_Freq_During_Rx\", hue=\"Persistency_Flag\", data=df)"
      ],
      "id": "77beb9dc",
      "execution_count": null,
      "outputs": [
        {
          "output_type": "stream",
          "text": [
            "C:\\Users\\hmeli\\anaconda3\\lib\\site-packages\\seaborn\\categorical.py:1296: UserWarning: 71.1% of the points cannot be placed; you may want to decrease the size of the markers or use stripplot.\n",
            "  warnings.warn(msg, UserWarning)\n",
            "C:\\Users\\hmeli\\anaconda3\\lib\\site-packages\\seaborn\\categorical.py:1296: UserWarning: 90.2% of the points cannot be placed; you may want to decrease the size of the markers or use stripplot.\n",
            "  warnings.warn(msg, UserWarning)\n",
            "C:\\Users\\hmeli\\anaconda3\\lib\\site-packages\\seaborn\\categorical.py:1296: UserWarning: 90.0% of the points cannot be placed; you may want to decrease the size of the markers or use stripplot.\n",
            "  warnings.warn(msg, UserWarning)\n",
            "C:\\Users\\hmeli\\anaconda3\\lib\\site-packages\\seaborn\\categorical.py:1296: UserWarning: 41.7% of the points cannot be placed; you may want to decrease the size of the markers or use stripplot.\n",
            "  warnings.warn(msg, UserWarning)\n",
            "C:\\Users\\hmeli\\anaconda3\\lib\\site-packages\\seaborn\\categorical.py:1296: UserWarning: 67.7% of the points cannot be placed; you may want to decrease the size of the markers or use stripplot.\n",
            "  warnings.warn(msg, UserWarning)\n"
          ],
          "name": "stderr"
        },
        {
          "output_type": "execute_result",
          "data": {
            "text/plain": [
              "<AxesSubplot:xlabel='Region', ylabel='Dexa_Freq_During_Rx'>"
            ]
          },
          "metadata": {
            "tags": []
          },
          "execution_count": 26
        },
        {
          "output_type": "display_data",
          "data": {
            "image/png": "[encoded data removed]",
            "text/plain": [
              "<Figure size 720x360 with 1 Axes>"
            ]
          },
          "metadata": {
            "tags": [],
            "needs_background": "light"
          }
        }
      ]
    },
    {
      "cell_type": "markdown",
      "metadata": {
        "id": "78a9aea1"
      },
      "source": [
        "# Provider Attributes"
      ],
      "id": "78a9aea1"
    },
    {
      "cell_type": "markdown",
      "metadata": {
        "id": "5741d62e"
      },
      "source": [
        "##  Ntm Speciality is  the specialty of the HCP that prescribed the NTM Rx."
      ],
      "id": "5741d62e"
    },
    {
      "cell_type": "code",
      "metadata": {
        "id": "9f457e93",
        "outputId": "e5bacb2d-3702-4307-f72a-d44e99256e6e"
      },
      "source": [
        "df[\"Ntm_Speciality\"].value_counts()"
      ],
      "id": "9f457e93",
      "execution_count": null,
      "outputs": [
        {
          "output_type": "execute_result",
          "data": {
            "text/plain": [
              "GENERAL PRACTITIONER                                              1535\n",
              "RHEUMATOLOGY                                                       604\n",
              "ENDOCRINOLOGY                                                      458\n",
              "Unknown                                                            310\n",
              "ONCOLOGY                                                           225\n",
              "OBSTETRICS AND GYNECOLOGY                                           90\n",
              "UROLOGY                                                             33\n",
              "ORTHOPEDIC SURGERY                                                  30\n",
              "CARDIOLOGY                                                          22\n",
              "PATHOLOGY                                                           16\n",
              "OTOLARYNGOLOGY                                                      14\n",
              "HEMATOLOGY & ONCOLOGY                                               14\n",
              "PEDIATRICS                                                          13\n",
              "PHYSICAL MEDICINE AND REHABILITATION                                11\n",
              "PULMONARY MEDICINE                                                   8\n",
              "SURGERY AND SURGICAL SPECIALTIES                                     8\n",
              "PSYCHIATRY AND NEUROLOGY                                             4\n",
              "ORTHOPEDICS                                                          3\n",
              "NEPHROLOGY                                                           3\n",
              "PLASTIC SURGERY                                                      2\n",
              "GERIATRIC MEDICINE                                                   2\n",
              "TRANSPLANT SURGERY                                                   2\n",
              "VASCULAR SURGERY                                                     2\n",
              "HOSPICE AND PALLIATIVE MEDICINE                                      2\n",
              "GASTROENTEROLOGY                                                     2\n",
              "NEUROLOGY                                                            1\n",
              "NUCLEAR MEDICINE                                                     1\n",
              "EMERGENCY MEDICINE                                                   1\n",
              "PAIN MEDICINE                                                        1\n",
              "PODIATRY                                                             1\n",
              "OCCUPATIONAL MEDICINE                                                1\n",
              "HOSPITAL MEDICINE                                                    1\n",
              "RADIOLOGY                                                            1\n",
              "OPHTHALMOLOGY                                                        1\n",
              "OBSTETRICS & OBSTETRICS & GYNECOLOGY & OBSTETRICS & GYNECOLOGY       1\n",
              "CLINICAL NURSE SPECIALIST                                            1\n",
              "Name: Ntm_Speciality, dtype: int64"
            ]
          },
          "metadata": {
            "tags": []
          },
          "execution_count": 27
        }
      ]
    },
    {
      "cell_type": "code",
      "metadata": {
        "id": "3aafa7d1",
        "outputId": "6f1fe138-c4a3-4a6f-c435-cd7aea0ef67f"
      },
      "source": [
        "df[\"Ntm_Specialist_Flag\"].value_counts()"
      ],
      "id": "3aafa7d1",
      "execution_count": null,
      "outputs": [
        {
          "output_type": "execute_result",
          "data": {
            "text/plain": [
              "Others        2013\n",
              "Specialist    1411\n",
              "Name: Ntm_Specialist_Flag, dtype: int64"
            ]
          },
          "metadata": {
            "tags": []
          },
          "execution_count": 28
        }
      ]
    },
    {
      "cell_type": "code",
      "metadata": {
        "id": "a5c9c6bc",
        "outputId": "b6c5276e-ac37-4137-9a32-857348f96dfb"
      },
      "source": [
        "df[\"Ntm_Speciality_Bucket\"].value_counts()"
      ],
      "id": "a5c9c6bc",
      "execution_count": null,
      "outputs": [
        {
          "output_type": "execute_result",
          "data": {
            "text/plain": [
              "OB/GYN/Others/PCP/Unknown    2104\n",
              "Endo/Onc/Uro                  716\n",
              "Rheum                         604\n",
              "Name: Ntm_Speciality_Bucket, dtype: int64"
            ]
          },
          "metadata": {
            "tags": []
          },
          "execution_count": 29
        }
      ]
    },
    {
      "cell_type": "markdown",
      "metadata": {
        "id": "43ec7de0"
      },
      "source": [
        "## Conclusion: \n",
        "\n",
        "General Practitioner, Rheumatology, Endocrinology and Oncology specialists prescribed the NTM Rx most. "
      ],
      "id": "43ec7de0"
    },
    {
      "cell_type": "markdown",
      "metadata": {
        "id": "cc7c8ef4"
      },
      "source": [
        "## Clinical Factors"
      ],
      "id": "cc7c8ef4"
    },
    {
      "cell_type": "code",
      "metadata": {
        "id": "85c6815c",
        "outputId": "040817df-d4ce-405b-b47a-1ceacf7ac60e"
      },
      "source": [
        "df.head()"
      ],
      "id": "85c6815c",
      "execution_count": null,
      "outputs": [
        {
          "output_type": "execute_result",
          "data": {
            "text/html": [
              "<div>\n",
              "<style scoped>\n",
              "    .dataframe tbody tr th:only-of-type {\n",
              "        vertical-align: middle;\n",
              "    }\n",
              "\n",
              "    .dataframe tbody tr th {\n",
              "        vertical-align: top;\n",
              "    }\n",
              "\n",
              "    .dataframe thead th {\n",
              "        text-align: right;\n",
              "    }\n",
              "</style>\n",
              "<table border=\"1\" class=\"dataframe\">\n",
              "  <thead>\n",
              "    <tr style=\"text-align: right;\">\n",
              "      <th></th>\n",
              "      <th>Ptid</th>\n",
              "      <th>Persistency_Flag</th>\n",
              "      <th>Gender</th>\n",
              "      <th>Race</th>\n",
              "      <th>Ethnicity</th>\n",
              "      <th>Region</th>\n",
              "      <th>Age_Bucket</th>\n",
              "      <th>Ntm_Speciality</th>\n",
              "      <th>Ntm_Specialist_Flag</th>\n",
              "      <th>Ntm_Speciality_Bucket</th>\n",
              "      <th>...</th>\n",
              "      <th>Risk_Family_History_Of_Osteoporosis</th>\n",
              "      <th>Risk_Low_Calcium_Intake</th>\n",
              "      <th>Risk_Vitamin_D_Insufficiency</th>\n",
              "      <th>Risk_Poor_Health_Frailty</th>\n",
              "      <th>Risk_Excessive_Thinness</th>\n",
              "      <th>Risk_Hysterectomy_Oophorectomy</th>\n",
              "      <th>Risk_Estrogen_Deficiency</th>\n",
              "      <th>Risk_Immobilization</th>\n",
              "      <th>Risk_Recurring_Falls</th>\n",
              "      <th>Count_Of_Risks</th>\n",
              "    </tr>\n",
              "  </thead>\n",
              "  <tbody>\n",
              "    <tr>\n",
              "      <th>0</th>\n",
              "      <td>P1</td>\n",
              "      <td>Persistent</td>\n",
              "      <td>Male</td>\n",
              "      <td>Caucasian</td>\n",
              "      <td>Not Hispanic</td>\n",
              "      <td>West</td>\n",
              "      <td>&gt;75</td>\n",
              "      <td>GENERAL PRACTITIONER</td>\n",
              "      <td>Others</td>\n",
              "      <td>OB/GYN/Others/PCP/Unknown</td>\n",
              "      <td>...</td>\n",
              "      <td>N</td>\n",
              "      <td>N</td>\n",
              "      <td>N</td>\n",
              "      <td>N</td>\n",
              "      <td>N</td>\n",
              "      <td>N</td>\n",
              "      <td>N</td>\n",
              "      <td>N</td>\n",
              "      <td>N</td>\n",
              "      <td>0</td>\n",
              "    </tr>\n",
              "    <tr>\n",
              "      <th>1</th>\n",
              "      <td>P2</td>\n",
              "      <td>Non-Persistent</td>\n",
              "      <td>Male</td>\n",
              "      <td>Asian</td>\n",
              "      <td>Not Hispanic</td>\n",
              "      <td>West</td>\n",
              "      <td>55-65</td>\n",
              "      <td>GENERAL PRACTITIONER</td>\n",
              "      <td>Others</td>\n",
              "      <td>OB/GYN/Others/PCP/Unknown</td>\n",
              "      <td>...</td>\n",
              "      <td>N</td>\n",
              "      <td>N</td>\n",
              "      <td>N</td>\n",
              "      <td>N</td>\n",
              "      <td>N</td>\n",
              "      <td>N</td>\n",
              "      <td>N</td>\n",
              "      <td>N</td>\n",
              "      <td>N</td>\n",
              "      <td>0</td>\n",
              "    </tr>\n",
              "    <tr>\n",
              "      <th>2</th>\n",
              "      <td>P3</td>\n",
              "      <td>Non-Persistent</td>\n",
              "      <td>Female</td>\n",
              "      <td>Other/Unknown</td>\n",
              "      <td>Hispanic</td>\n",
              "      <td>Midwest</td>\n",
              "      <td>65-75</td>\n",
              "      <td>GENERAL PRACTITIONER</td>\n",
              "      <td>Others</td>\n",
              "      <td>OB/GYN/Others/PCP/Unknown</td>\n",
              "      <td>...</td>\n",
              "      <td>N</td>\n",
              "      <td>Y</td>\n",
              "      <td>N</td>\n",
              "      <td>N</td>\n",
              "      <td>N</td>\n",
              "      <td>N</td>\n",
              "      <td>N</td>\n",
              "      <td>N</td>\n",
              "      <td>N</td>\n",
              "      <td>2</td>\n",
              "    </tr>\n",
              "    <tr>\n",
              "      <th>3</th>\n",
              "      <td>P4</td>\n",
              "      <td>Non-Persistent</td>\n",
              "      <td>Female</td>\n",
              "      <td>Caucasian</td>\n",
              "      <td>Not Hispanic</td>\n",
              "      <td>Midwest</td>\n",
              "      <td>&gt;75</td>\n",
              "      <td>GENERAL PRACTITIONER</td>\n",
              "      <td>Others</td>\n",
              "      <td>OB/GYN/Others/PCP/Unknown</td>\n",
              "      <td>...</td>\n",
              "      <td>N</td>\n",
              "      <td>N</td>\n",
              "      <td>N</td>\n",
              "      <td>N</td>\n",
              "      <td>N</td>\n",
              "      <td>N</td>\n",
              "      <td>N</td>\n",
              "      <td>N</td>\n",
              "      <td>N</td>\n",
              "      <td>1</td>\n",
              "    </tr>\n",
              "    <tr>\n",
              "      <th>4</th>\n",
              "      <td>P5</td>\n",
              "      <td>Non-Persistent</td>\n",
              "      <td>Female</td>\n",
              "      <td>Caucasian</td>\n",
              "      <td>Not Hispanic</td>\n",
              "      <td>Midwest</td>\n",
              "      <td>&gt;75</td>\n",
              "      <td>GENERAL PRACTITIONER</td>\n",
              "      <td>Others</td>\n",
              "      <td>OB/GYN/Others/PCP/Unknown</td>\n",
              "      <td>...</td>\n",
              "      <td>N</td>\n",
              "      <td>N</td>\n",
              "      <td>N</td>\n",
              "      <td>N</td>\n",
              "      <td>N</td>\n",
              "      <td>N</td>\n",
              "      <td>N</td>\n",
              "      <td>N</td>\n",
              "      <td>N</td>\n",
              "      <td>1</td>\n",
              "    </tr>\n",
              "  </tbody>\n",
              "</table>\n",
              "<p>5 rows × 69 columns</p>\n",
              "</div>"
            ],
            "text/plain": [
              "  Ptid Persistency_Flag  Gender           Race     Ethnicity   Region  \\\n",
              "0   P1       Persistent    Male      Caucasian  Not Hispanic     West   \n",
              "1   P2   Non-Persistent    Male          Asian  Not Hispanic     West   \n",
              "2   P3   Non-Persistent  Female  Other/Unknown      Hispanic  Midwest   \n",
              "3   P4   Non-Persistent  Female      Caucasian  Not Hispanic  Midwest   \n",
              "4   P5   Non-Persistent  Female      Caucasian  Not Hispanic  Midwest   \n",
              "\n",
              "  Age_Bucket        Ntm_Speciality Ntm_Specialist_Flag  \\\n",
              "0        >75  GENERAL PRACTITIONER              Others   \n",
              "1      55-65  GENERAL PRACTITIONER              Others   \n",
              "2      65-75  GENERAL PRACTITIONER              Others   \n",
              "3        >75  GENERAL PRACTITIONER              Others   \n",
              "4        >75  GENERAL PRACTITIONER              Others   \n",
              "\n",
              "       Ntm_Speciality_Bucket  ... Risk_Family_History_Of_Osteoporosis  \\\n",
              "0  OB/GYN/Others/PCP/Unknown  ...                                   N   \n",
              "1  OB/GYN/Others/PCP/Unknown  ...                                   N   \n",
              "2  OB/GYN/Others/PCP/Unknown  ...                                   N   \n",
              "3  OB/GYN/Others/PCP/Unknown  ...                                   N   \n",
              "4  OB/GYN/Others/PCP/Unknown  ...                                   N   \n",
              "\n",
              "  Risk_Low_Calcium_Intake  Risk_Vitamin_D_Insufficiency  \\\n",
              "0                       N                             N   \n",
              "1                       N                             N   \n",
              "2                       Y                             N   \n",
              "3                       N                             N   \n",
              "4                       N                             N   \n",
              "\n",
              "  Risk_Poor_Health_Frailty Risk_Excessive_Thinness  \\\n",
              "0                        N                       N   \n",
              "1                        N                       N   \n",
              "2                        N                       N   \n",
              "3                        N                       N   \n",
              "4                        N                       N   \n",
              "\n",
              "  Risk_Hysterectomy_Oophorectomy Risk_Estrogen_Deficiency Risk_Immobilization  \\\n",
              "0                              N                        N                   N   \n",
              "1                              N                        N                   N   \n",
              "2                              N                        N                   N   \n",
              "3                              N                        N                   N   \n",
              "4                              N                        N                   N   \n",
              "\n",
              "  Risk_Recurring_Falls Count_Of_Risks  \n",
              "0                    N              0  \n",
              "1                    N              0  \n",
              "2                    N              2  \n",
              "3                    N              1  \n",
              "4                    N              1  \n",
              "\n",
              "[5 rows x 69 columns]"
            ]
          },
          "metadata": {
            "tags": []
          },
          "execution_count": 30
        }
      ]
    },
    {
      "cell_type": "markdown",
      "metadata": {
        "id": "0ae5991c"
      },
      "source": [
        "## Risk Segment of the patient at the time of the NTM Rx (within 2 years days prior from rxdate)."
      ],
      "id": "0ae5991c"
    },
    {
      "cell_type": "code",
      "metadata": {
        "id": "d2de31b8",
        "outputId": "83ed9f98-8115-4685-a321-8b4af694986b"
      },
      "source": [
        "df[\"Risk_Segment_Prior_Ntm\"].value_counts()"
      ],
      "id": "d2de31b8",
      "execution_count": null,
      "outputs": [
        {
          "output_type": "execute_result",
          "data": {
            "text/plain": [
              "VLR_LR    1931\n",
              "HR_VHR    1493\n",
              "Name: Risk_Segment_Prior_Ntm, dtype: int64"
            ]
          },
          "metadata": {
            "tags": []
          },
          "execution_count": 31
        }
      ]
    },
    {
      "cell_type": "code",
      "metadata": {
        "id": "b72b1090",
        "outputId": "a7bef5c4-359d-411f-face-4949a14dd635"
      },
      "source": [
        "df[\"Risk_Segment_During_Rx\"].value_counts()"
      ],
      "id": "b72b1090",
      "execution_count": null,
      "outputs": [
        {
          "output_type": "execute_result",
          "data": {
            "text/plain": [
              "Unknown    1497\n",
              "HR_VHR      965\n",
              "VLR_LR      962\n",
              "Name: Risk_Segment_During_Rx, dtype: int64"
            ]
          },
          "metadata": {
            "tags": []
          },
          "execution_count": 32
        }
      ]
    },
    {
      "cell_type": "code",
      "metadata": {
        "id": "29859bdc",
        "outputId": "37318822-b6bf-40e4-d37f-3321653cec14"
      },
      "source": [
        "pd.crosstab(df[\"Risk_Segment_Prior_Ntm\"], df[\"Risk_Segment_During_Rx\"]).plot(kind='bar', figsize=(15, 6))\n",
        "plt.show()"
      ],
      "id": "29859bdc",
      "execution_count": null,
      "outputs": [
        {
          "output_type": "display_data",
          "data": {
            "image/png": "[encoded data removed]",
            "text/plain": [
              "<Figure size 1080x432 with 1 Axes>"
            ]
          },
          "metadata": {
            "tags": [],
            "needs_background": "light"
          }
        }
      ]
    },
    {
      "cell_type": "markdown",
      "metadata": {
        "id": "55e9a5d2"
      },
      "source": [
        "## Change in Risk Segment before starting with any therapy and after receiving therapy"
      ],
      "id": "55e9a5d2"
    },
    {
      "cell_type": "code",
      "metadata": {
        "id": "53de17e7",
        "outputId": "53fd0196-85a0-4064-f419-05b944426f55"
      },
      "source": [
        "df[\"Change_Risk_Segment\"].value_counts()"
      ],
      "id": "53de17e7",
      "execution_count": null,
      "outputs": [
        {
          "output_type": "execute_result",
          "data": {
            "text/plain": [
              "Unknown      2229\n",
              "No change    1052\n",
              "Worsened      121\n",
              "Improved       22\n",
              "Name: Change_Risk_Segment, dtype: int64"
            ]
          },
          "metadata": {
            "tags": []
          },
          "execution_count": 34
        }
      ]
    },
    {
      "cell_type": "code",
      "metadata": {
        "id": "27461916",
        "outputId": "d3192a03-56b2-47a4-8443-db4228f7c7d8"
      },
      "source": [
        "df[\"Change_Risk_Segment\"].value_counts().plot.barh();"
      ],
      "id": "27461916",
      "execution_count": null,
      "outputs": [
        {
          "output_type": "display_data",
          "data": {
            "image/png": "[encoded data removed]",
            "text/plain": [
              "<Figure size 432x288 with 1 Axes>"
            ]
          },
          "metadata": {
            "tags": [],
            "needs_background": "light"
          }
        }
      ]
    },
    {
      "cell_type": "markdown",
      "metadata": {
        "id": "d82f3481"
      },
      "source": [
        "## Conclusion: \n",
        "\n",
        "The ratio of the patients which are stable is much more higher than of the ratio of the worsened and improved patients."
      ],
      "id": "d82f3481"
    },
    {
      "cell_type": "code",
      "metadata": {
        "id": "1d2a1168",
        "outputId": "e1c95245-6b6f-4aed-caae-89bc051f4eef"
      },
      "source": [
        "df[\"Gluco_Record_Prior_Ntm\"].value_counts()"
      ],
      "id": "1d2a1168",
      "execution_count": null,
      "outputs": [
        {
          "output_type": "execute_result",
          "data": {
            "text/plain": [
              "N    2619\n",
              "Y     805\n",
              "Name: Gluco_Record_Prior_Ntm, dtype: int64"
            ]
          },
          "metadata": {
            "tags": []
          },
          "execution_count": 36
        }
      ]
    },
    {
      "cell_type": "code",
      "metadata": {
        "id": "2e008e57",
        "outputId": "17bc1ced-06eb-4e3d-dbbd-3f3e0aa45311"
      },
      "source": [
        "df[\"Gluco_Record_During_Rx\"].value_counts()"
      ],
      "id": "2e008e57",
      "execution_count": null,
      "outputs": [
        {
          "output_type": "execute_result",
          "data": {
            "text/plain": [
              "N    2522\n",
              "Y     902\n",
              "Name: Gluco_Record_During_Rx, dtype: int64"
            ]
          },
          "metadata": {
            "tags": []
          },
          "execution_count": 37
        }
      ]
    },
    {
      "cell_type": "code",
      "metadata": {
        "id": "d9355dc7",
        "outputId": "07c79773-92d7-4971-a484-2131e47669fc"
      },
      "source": [
        "pd.crosstab(df[\"Gluco_Record_Prior_Ntm\"], df[\"Gluco_Record_During_Rx\"]).plot(kind='bar', figsize=(15, 6))\n",
        "plt.show()"
      ],
      "id": "d9355dc7",
      "execution_count": null,
      "outputs": [
        {
          "output_type": "display_data",
          "data": {
            "image/png": "[encoded data removed]",
            "text/plain": [
              "<Figure size 1080x432 with 1 Axes>"
            ]
          },
          "metadata": {
            "tags": [],
            "needs_background": "light"
          }
        }
      ]
    },
    {
      "cell_type": "markdown",
      "metadata": {
        "id": "9e353347"
      },
      "source": [
        "## Dexa\n",
        "\n",
        "NTM - Dexa Scan Frequency: Number of DEXA scans taken prior to the first NTM Rx date (within 365 days prior from rxdate).\n",
        "\n",
        "NTM - Dexa Scan Recency: Flag indicating the presence of Dexa Scan before the NTM Rx (within 2 years prior from rxdate or between their first Rx and Switched Rx; whichever is smaller and applicable).\n",
        "\n",
        "Dexa During Therapy: Flag indicating if the patient had a Dexa Scan during their first continuous therapy."
      ],
      "id": "9e353347"
    },
    {
      "cell_type": "code",
      "metadata": {
        "id": "00804c3e",
        "outputId": "44c12bb2-7edc-49f2-d431-8677b07c92f7"
      },
      "source": [
        "df[\"Dexa_Freq_During_Rx\"].value_counts()"
      ],
      "id": "00804c3e",
      "execution_count": null,
      "outputs": [
        {
          "output_type": "execute_result",
          "data": {
            "text/plain": [
              "0      2488\n",
              "5       114\n",
              "6       107\n",
              "7        93\n",
              "8        71\n",
              "4        68\n",
              "10       55\n",
              "12       52\n",
              "3        46\n",
              "14       38\n",
              "9        32\n",
              "11       30\n",
              "2        24\n",
              "1        24\n",
              "13       19\n",
              "20       15\n",
              "16       14\n",
              "18       14\n",
              "22       13\n",
              "26       10\n",
              "24       10\n",
              "15        9\n",
              "21        7\n",
              "17        7\n",
              "28        7\n",
              "30        7\n",
              "36        5\n",
              "32        3\n",
              "34        3\n",
              "19        3\n",
              "42        3\n",
              "39        2\n",
              "58        2\n",
              "48        2\n",
              "88        2\n",
              "25        2\n",
              "52        2\n",
              "69        1\n",
              "37        1\n",
              "45        1\n",
              "27        1\n",
              "29        1\n",
              "33        1\n",
              "35        1\n",
              "23        1\n",
              "68        1\n",
              "146       1\n",
              "118       1\n",
              "110       1\n",
              "108       1\n",
              "72        1\n",
              "66        1\n",
              "54        1\n",
              "50        1\n",
              "44        1\n",
              "40        1\n",
              "38        1\n",
              "81        1\n",
              "Name: Dexa_Freq_During_Rx, dtype: int64"
            ]
          },
          "metadata": {
            "tags": []
          },
          "execution_count": 39
        }
      ]
    },
    {
      "cell_type": "code",
      "metadata": {
        "id": "74ca4565",
        "outputId": "14c2de29-c12c-4321-c812-bd209868ffeb"
      },
      "source": [
        "df[\"Dexa_During_Rx\"].value_counts()"
      ],
      "id": "74ca4565",
      "execution_count": null,
      "outputs": [
        {
          "output_type": "execute_result",
          "data": {
            "text/plain": [
              "N    2488\n",
              "Y     936\n",
              "Name: Dexa_During_Rx, dtype: int64"
            ]
          },
          "metadata": {
            "tags": []
          },
          "execution_count": 40
        }
      ]
    },
    {
      "cell_type": "code",
      "metadata": {
        "id": "3c9b7ccd",
        "outputId": "61eede75-6cd5-4945-fe1e-726318f71621"
      },
      "source": [
        "subplt1 = sns.countplot(x=df[\"Dexa_During_Rx\"], hue=\"Persistency_Flag\", data=df)"
      ],
      "id": "3c9b7ccd",
      "execution_count": null,
      "outputs": [
        {
          "output_type": "display_data",
          "data": {
            "image/png": "[encoded data removed]",
            "text/plain": [
              "<Figure size 432x288 with 1 Axes>"
            ]
          },
          "metadata": {
            "tags": [],
            "needs_background": "light"
          }
        }
      ]
    },
    {
      "cell_type": "markdown",
      "metadata": {
        "id": "451bd02f"
      },
      "source": [
        "## Conclusion: The number of patients without having Dexa scan is higher. "
      ],
      "id": "451bd02f"
    },
    {
      "cell_type": "markdown",
      "metadata": {
        "id": "fb34d129"
      },
      "source": [
        "## Fragility\n",
        "\n",
        "NTM - Fragility Fracture Recency: Flag indicating if the patient had a recent fragility fracture (within 365 days prior from rxdate).\n",
        "\n",
        "Fragility Fracture During Therapy: Flag indicating if the patient had fragility fracture  during their first continuous therapy."
      ],
      "id": "fb34d129"
    },
    {
      "cell_type": "code",
      "metadata": {
        "id": "4f031aa8",
        "outputId": "f2206218-691e-454f-fbd6-d6c518c2ae3e"
      },
      "source": [
        "df[\"Frag_Frac_Prior_Ntm\"].value_counts()"
      ],
      "id": "4f031aa8",
      "execution_count": null,
      "outputs": [
        {
          "output_type": "execute_result",
          "data": {
            "text/plain": [
              "N    2872\n",
              "Y     552\n",
              "Name: Frag_Frac_Prior_Ntm, dtype: int64"
            ]
          },
          "metadata": {
            "tags": []
          },
          "execution_count": 42
        }
      ]
    },
    {
      "cell_type": "code",
      "metadata": {
        "id": "0f6734a0",
        "outputId": "0e47616b-e04e-42ec-f9d3-86dd3afeec0e"
      },
      "source": [
        "df[\"Frag_Frac_During_Rx\"].value_counts()"
      ],
      "id": "0f6734a0",
      "execution_count": null,
      "outputs": [
        {
          "output_type": "execute_result",
          "data": {
            "text/plain": [
              "N    3007\n",
              "Y     417\n",
              "Name: Frag_Frac_During_Rx, dtype: int64"
            ]
          },
          "metadata": {
            "tags": []
          },
          "execution_count": 43
        }
      ]
    },
    {
      "cell_type": "code",
      "metadata": {
        "id": "cf78c33a",
        "outputId": "c49d2942-39e9-453a-cd0e-bf3e97e9cc98"
      },
      "source": [
        "R1= df[\"Frag_Frac_Prior_Ntm\"]\n",
        "R2= df[\"Frag_Frac_During_Rx\"]\n",
        "mycrosstable=pd.crosstab(R1,R2)\n",
        "mycrosstable"
      ],
      "id": "cf78c33a",
      "execution_count": null,
      "outputs": [
        {
          "output_type": "execute_result",
          "data": {
            "text/html": [
              "<div>\n",
              "<style scoped>\n",
              "    .dataframe tbody tr th:only-of-type {\n",
              "        vertical-align: middle;\n",
              "    }\n",
              "\n",
              "    .dataframe tbody tr th {\n",
              "        vertical-align: top;\n",
              "    }\n",
              "\n",
              "    .dataframe thead th {\n",
              "        text-align: right;\n",
              "    }\n",
              "</style>\n",
              "<table border=\"1\" class=\"dataframe\">\n",
              "  <thead>\n",
              "    <tr style=\"text-align: right;\">\n",
              "      <th>Frag_Frac_During_Rx</th>\n",
              "      <th>N</th>\n",
              "      <th>Y</th>\n",
              "    </tr>\n",
              "    <tr>\n",
              "      <th>Frag_Frac_Prior_Ntm</th>\n",
              "      <th></th>\n",
              "      <th></th>\n",
              "    </tr>\n",
              "  </thead>\n",
              "  <tbody>\n",
              "    <tr>\n",
              "      <th>N</th>\n",
              "      <td>2691</td>\n",
              "      <td>181</td>\n",
              "    </tr>\n",
              "    <tr>\n",
              "      <th>Y</th>\n",
              "      <td>316</td>\n",
              "      <td>236</td>\n",
              "    </tr>\n",
              "  </tbody>\n",
              "</table>\n",
              "</div>"
            ],
            "text/plain": [
              "Frag_Frac_During_Rx     N    Y\n",
              "Frag_Frac_Prior_Ntm           \n",
              "N                    2691  181\n",
              "Y                     316  236"
            ]
          },
          "metadata": {
            "tags": []
          },
          "execution_count": 44
        }
      ]
    },
    {
      "cell_type": "markdown",
      "metadata": {
        "id": "cac4845f"
      },
      "source": [
        "## Conclusion:  \n",
        "\n",
        "The number of patients that have the fragility fracture has decreased a little. "
      ],
      "id": "cac4845f"
    },
    {
      "cell_type": "markdown",
      "metadata": {
        "id": "b3c8c107"
      },
      "source": [
        "## T-Score:\n",
        "\n",
        "NTM - T-Score : T Score of the patient at the time of the NTM Rx (within 2 years prior from rxdate).\n",
        "\n",
        "Change in T Score: Change in Tscore before starting with any therapy and after receiving therapy"
      ],
      "id": "b3c8c107"
    },
    {
      "cell_type": "code",
      "metadata": {
        "id": "993cf330",
        "outputId": "c6003411-1268-46f0-87ba-272cd6727405"
      },
      "source": [
        "df[\"Tscore_Bucket_Prior_Ntm\"]"
      ],
      "id": "993cf330",
      "execution_count": null,
      "outputs": [
        {
          "output_type": "execute_result",
          "data": {
            "text/plain": [
              "0        >-2.5\n",
              "1        >-2.5\n",
              "2       <=-2.5\n",
              "3        >-2.5\n",
              "4       <=-2.5\n",
              "         ...  \n",
              "3419     >-2.5\n",
              "3420    <=-2.5\n",
              "3421     >-2.5\n",
              "3422     >-2.5\n",
              "3423     >-2.5\n",
              "Name: Tscore_Bucket_Prior_Ntm, Length: 3424, dtype: object"
            ]
          },
          "metadata": {
            "tags": []
          },
          "execution_count": 45
        }
      ]
    },
    {
      "cell_type": "code",
      "metadata": {
        "id": "39437792",
        "outputId": "82970e5b-c4af-4d8c-86b3-68d0d3123514"
      },
      "source": [
        "df[\"Tscore_Bucket_Prior_Ntm\"].value_counts()"
      ],
      "id": "39437792",
      "execution_count": null,
      "outputs": [
        {
          "output_type": "execute_result",
          "data": {
            "text/plain": [
              ">-2.5     1951\n",
              "<=-2.5    1473\n",
              "Name: Tscore_Bucket_Prior_Ntm, dtype: int64"
            ]
          },
          "metadata": {
            "tags": []
          },
          "execution_count": 46
        }
      ]
    },
    {
      "cell_type": "code",
      "metadata": {
        "id": "2db18b9a",
        "outputId": "191a0b61-734e-4648-95b4-2e92cdda2e36"
      },
      "source": [
        "df[\"Tscore_Bucket_Prior_Ntm\"].value_counts().plot.barh()"
      ],
      "id": "2db18b9a",
      "execution_count": null,
      "outputs": [
        {
          "output_type": "execute_result",
          "data": {
            "text/plain": [
              "<AxesSubplot:>"
            ]
          },
          "metadata": {
            "tags": []
          },
          "execution_count": 47
        },
        {
          "output_type": "display_data",
          "data": {
            "image/png": "[encoded data removed]",
            "text/plain": [
              "<Figure size 432x288 with 1 Axes>"
            ]
          },
          "metadata": {
            "tags": [],
            "needs_background": "light"
          }
        }
      ]
    },
    {
      "cell_type": "code",
      "metadata": {
        "id": "54f534f6",
        "outputId": "1ee8dea5-882d-4115-91a2-0f516113386a"
      },
      "source": [
        "df[\"Tscore_Bucket_During_Rx\"].value_counts()"
      ],
      "id": "54f534f6",
      "execution_count": null,
      "outputs": [
        {
          "output_type": "execute_result",
          "data": {
            "text/plain": [
              "Unknown    1497\n",
              "<=-2.5     1017\n",
              ">-2.5       910\n",
              "Name: Tscore_Bucket_During_Rx, dtype: int64"
            ]
          },
          "metadata": {
            "tags": []
          },
          "execution_count": 48
        }
      ]
    },
    {
      "cell_type": "code",
      "metadata": {
        "id": "3c1769d5",
        "outputId": "bc90f73d-9f8f-4088-edda-40f955deaa26"
      },
      "source": [
        "df[\"Tscore_Bucket_During_Rx\"].value_counts().plot.barh();"
      ],
      "id": "3c1769d5",
      "execution_count": null,
      "outputs": [
        {
          "output_type": "display_data",
          "data": {
            "image/png": "[encoded data removed]",
            "text/plain": [
              "<Figure size 432x288 with 1 Axes>"
            ]
          },
          "metadata": {
            "tags": [],
            "needs_background": "light"
          }
        }
      ]
    },
    {
      "cell_type": "code",
      "metadata": {
        "id": "ad399309",
        "outputId": "22f1a4ad-2a6e-4773-ceb4-94e7b5deefc3"
      },
      "source": [
        "df[\"Change_T_Score\"].value_counts()"
      ],
      "id": "ad399309",
      "execution_count": null,
      "outputs": [
        {
          "output_type": "execute_result",
          "data": {
            "text/plain": [
              "No change    1660\n",
              "Unknown      1497\n",
              "Worsened      173\n",
              "Improved       94\n",
              "Name: Change_T_Score, dtype: int64"
            ]
          },
          "metadata": {
            "tags": []
          },
          "execution_count": 50
        }
      ]
    },
    {
      "cell_type": "code",
      "metadata": {
        "id": "12bb2a28",
        "outputId": "af76cef0-4958-49a7-b716-43437d89f1dd"
      },
      "source": [
        "df[\"Change_T_Score\"].value_counts().plot.barh()"
      ],
      "id": "12bb2a28",
      "execution_count": null,
      "outputs": [
        {
          "output_type": "execute_result",
          "data": {
            "text/plain": [
              "<AxesSubplot:>"
            ]
          },
          "metadata": {
            "tags": []
          },
          "execution_count": 51
        },
        {
          "output_type": "display_data",
          "data": {
            "image/png": "[encoded data removed]",
            "text/plain": [
              "<Figure size 432x288 with 1 Axes>"
            ]
          },
          "metadata": {
            "tags": [],
            "needs_background": "light"
          }
        }
      ]
    },
    {
      "cell_type": "markdown",
      "metadata": {
        "id": "e830f8c7"
      },
      "source": [
        "## Conclusion on T-score: \n",
        "\n",
        "Tscores with \"<=-2.5\" and \">-2.5\" have decresed. "
      ],
      "id": "e830f8c7"
    },
    {
      "cell_type": "markdown",
      "metadata": {
        "id": "1033f85b"
      },
      "source": [
        "## Injectible Experience:\n",
        "\n",
        "NTM - Injectable Experience: Flag indicating any injectable drug usage in the recent 12 months before the NTM OP Rx."
      ],
      "id": "1033f85b"
    },
    {
      "cell_type": "code",
      "metadata": {
        "id": "ff478857",
        "outputId": "dd9e32b9-1de8-4638-fefa-255dcf17ad0f"
      },
      "source": [
        "df[\"Injectable_Experience_During_Rx\"].value_counts()"
      ],
      "id": "ff478857",
      "execution_count": null,
      "outputs": [
        {
          "output_type": "execute_result",
          "data": {
            "text/plain": [
              "Y    3056\n",
              "N     368\n",
              "Name: Injectable_Experience_During_Rx, dtype: int64"
            ]
          },
          "metadata": {
            "tags": []
          },
          "execution_count": 52
        }
      ]
    },
    {
      "cell_type": "code",
      "metadata": {
        "id": "f65fd319",
        "outputId": "5343ebd5-5988-41a4-d9e4-5401e89639d2"
      },
      "source": [
        "df[\"Injectable_Experience_During_Rx\"].value_counts().plot.barh();"
      ],
      "id": "f65fd319",
      "execution_count": null,
      "outputs": [
        {
          "output_type": "display_data",
          "data": {
            "image/png": "[encoded data removed]",
            "text/plain": [
              "<Figure size 432x288 with 1 Axes>"
            ]
          },
          "metadata": {
            "tags": [],
            "needs_background": "light"
          }
        }
      ]
    },
    {
      "cell_type": "markdown",
      "metadata": {
        "id": "b7c7395b"
      },
      "source": [
        "## Examining Disease/Treatment Factors"
      ],
      "id": "b7c7395b"
    },
    {
      "cell_type": "markdown",
      "metadata": {
        "id": "c9bf4415"
      },
      "source": [
        "## Comorbidity : \n",
        "\n",
        "The simultaneous presence of two or more diseases or medical conditions in a patient.\n",
        "\n",
        "NTM - Comorbidity : Comorbidities are divided into two main categories - Acute and chronic, based on the ICD codes. For chronic disease we are taking complete look back from the first Rx date of NTM therapy and for acute diseases, time period  before the NTM OP Rx with one year lookback has been applied"
      ],
      "id": "c9bf4415"
    },
    {
      "cell_type": "code",
      "metadata": {
        "id": "671f101f",
        "outputId": "75ebe48f-2a67-42bb-cc63-e63d559793eb"
      },
      "source": [
        "df[\"Comorb_Encounter_For_Screening_For_Malignant_Neoplasms\"].value_counts()"
      ],
      "id": "671f101f",
      "execution_count": null,
      "outputs": [
        {
          "output_type": "execute_result",
          "data": {
            "text/plain": [
              "N    1891\n",
              "Y    1533\n",
              "Name: Comorb_Encounter_For_Screening_For_Malignant_Neoplasms, dtype: int64"
            ]
          },
          "metadata": {
            "tags": []
          },
          "execution_count": 54
        }
      ]
    },
    {
      "cell_type": "code",
      "metadata": {
        "id": "afb300e6",
        "outputId": "2df8578d-bb31-40c1-a475-f2c4eb051b99"
      },
      "source": [
        "df[\"Comorb_Encounter_For_Immunization\"].value_counts()"
      ],
      "id": "afb300e6",
      "execution_count": null,
      "outputs": [
        {
          "output_type": "execute_result",
          "data": {
            "text/plain": [
              "N    1911\n",
              "Y    1513\n",
              "Name: Comorb_Encounter_For_Immunization, dtype: int64"
            ]
          },
          "metadata": {
            "tags": []
          },
          "execution_count": 55
        }
      ]
    },
    {
      "cell_type": "code",
      "metadata": {
        "id": "79828a81",
        "outputId": "02578fd4-294b-4730-a2d2-3b0eceb29352"
      },
      "source": [
        "sns.countplot(x=df[\"Comorb_Encounter_For_Immunization\"], hue=\"Persistency_Flag\", data=df)"
      ],
      "id": "79828a81",
      "execution_count": null,
      "outputs": [
        {
          "output_type": "execute_result",
          "data": {
            "text/plain": [
              "<AxesSubplot:xlabel='Comorb_Encounter_For_Immunization', ylabel='count'>"
            ]
          },
          "metadata": {
            "tags": []
          },
          "execution_count": 56
        },
        {
          "output_type": "display_data",
          "data": {
            "image/png": "[encoded data removed]",
            "text/plain": [
              "<Figure size 432x288 with 1 Axes>"
            ]
          },
          "metadata": {
            "tags": [],
            "needs_background": "light"
          }
        }
      ]
    },
    {
      "cell_type": "code",
      "metadata": {
        "id": "7d6dbe83",
        "outputId": "8d620144-7e2b-4c35-bcef-45dd04334c5f"
      },
      "source": [
        "df[\"Comorb_Vitamin_D_Deficiency\"].value_counts()"
      ],
      "id": "7d6dbe83",
      "execution_count": null,
      "outputs": [
        {
          "output_type": "execute_result",
          "data": {
            "text/plain": [
              "N    2331\n",
              "Y    1093\n",
              "Name: Comorb_Vitamin_D_Deficiency, dtype: int64"
            ]
          },
          "metadata": {
            "tags": []
          },
          "execution_count": 57
        }
      ]
    },
    {
      "cell_type": "code",
      "metadata": {
        "id": "0fe7ea42",
        "outputId": "e02ff168-c0ed-4d48-e462-e8da79d90502"
      },
      "source": [
        "sns.countplot(x=df[\"Comorb_Vitamin_D_Deficiency\"], hue=\"Persistency_Flag\", data=df)"
      ],
      "id": "0fe7ea42",
      "execution_count": null,
      "outputs": [
        {
          "output_type": "execute_result",
          "data": {
            "text/plain": [
              "<AxesSubplot:xlabel='Comorb_Vitamin_D_Deficiency', ylabel='count'>"
            ]
          },
          "metadata": {
            "tags": []
          },
          "execution_count": 58
        },
        {
          "output_type": "display_data",
          "data": {
            "image/png": "[encoded data removed]",
            "text/plain": [
              "<Figure size 432x288 with 1 Axes>"
            ]
          },
          "metadata": {
            "tags": [],
            "needs_background": "light"
          }
        }
      ]
    },
    {
      "cell_type": "code",
      "metadata": {
        "id": "1944c66e",
        "outputId": "9bc62509-0612-4f75-b92d-bfde3824400f"
      },
      "source": [
        "df[\"Comorb_Encntr_For_General_Exam_W_O_Complaint,_Susp_Or_Reprtd_Dx\"].value_counts()"
      ],
      "id": "1944c66e",
      "execution_count": null,
      "outputs": [
        {
          "output_type": "execute_result",
          "data": {
            "text/plain": [
              "N    2072\n",
              "Y    1352\n",
              "Name: Comorb_Encntr_For_General_Exam_W_O_Complaint,_Susp_Or_Reprtd_Dx, dtype: int64"
            ]
          },
          "metadata": {
            "tags": []
          },
          "execution_count": 59
        }
      ]
    },
    {
      "cell_type": "code",
      "metadata": {
        "id": "49f04e0a",
        "outputId": "b7a9c348-819a-418f-acad-c3297f7fcfe1"
      },
      "source": [
        "df[\"Comorb_Other_Joint_Disorder_Not_Elsewhere_Classified\"].value_counts()"
      ],
      "id": "49f04e0a",
      "execution_count": null,
      "outputs": [
        {
          "output_type": "execute_result",
          "data": {
            "text/plain": [
              "N    2425\n",
              "Y     999\n",
              "Name: Comorb_Other_Joint_Disorder_Not_Elsewhere_Classified, dtype: int64"
            ]
          },
          "metadata": {
            "tags": []
          },
          "execution_count": 60
        }
      ]
    },
    {
      "cell_type": "code",
      "metadata": {
        "id": "8027078d",
        "outputId": "29dab8df-c264-4e43-8f68-1f2b32448810"
      },
      "source": [
        "df[\"Comorb_Encntr_For_Oth_Sp_Exam_W_O_Complaint_Suspected_Or_Reprtd_Dx\"].value_counts()"
      ],
      "id": "8027078d",
      "execution_count": null,
      "outputs": [
        {
          "output_type": "execute_result",
          "data": {
            "text/plain": [
              "N    2633\n",
              "Y     791\n",
              "Name: Comorb_Encntr_For_Oth_Sp_Exam_W_O_Complaint_Suspected_Or_Reprtd_Dx, dtype: int64"
            ]
          },
          "metadata": {
            "tags": []
          },
          "execution_count": 61
        }
      ]
    },
    {
      "cell_type": "code",
      "metadata": {
        "id": "5506d19e",
        "outputId": "4af77b97-56c1-4b83-ce2c-eeb543f2e6d2"
      },
      "source": [
        "df[\"Comorb_Long_Term_Current_Drug_Therapy\"].value_counts()"
      ],
      "id": "5506d19e",
      "execution_count": null,
      "outputs": [
        {
          "output_type": "execute_result",
          "data": {
            "text/plain": [
              "N    2607\n",
              "Y     817\n",
              "Name: Comorb_Long_Term_Current_Drug_Therapy, dtype: int64"
            ]
          },
          "metadata": {
            "tags": []
          },
          "execution_count": 62
        }
      ]
    },
    {
      "cell_type": "code",
      "metadata": {
        "id": "4698cdef",
        "outputId": "c6509017-21dc-4e4f-c991-36f347df50b8"
      },
      "source": [
        "sns.countplot(x=df[\"Comorb_Long_Term_Current_Drug_Therapy\"], hue=\"Persistency_Flag\", data=df)"
      ],
      "id": "4698cdef",
      "execution_count": null,
      "outputs": [
        {
          "output_type": "execute_result",
          "data": {
            "text/plain": [
              "<AxesSubplot:xlabel='Comorb_Long_Term_Current_Drug_Therapy', ylabel='count'>"
            ]
          },
          "metadata": {
            "tags": []
          },
          "execution_count": 63
        },
        {
          "output_type": "display_data",
          "data": {
            "image/png": "[encoded data removed]",
            "text/plain": [
              "<Figure size 432x288 with 1 Axes>"
            ]
          },
          "metadata": {
            "tags": [],
            "needs_background": "light"
          }
        }
      ]
    },
    {
      "cell_type": "code",
      "metadata": {
        "id": "b12f88cc",
        "outputId": "7e55085d-3a7a-407c-82a5-d2807979a4bc"
      },
      "source": [
        "df[\"Comorb_Dorsalgia\"].value_counts()"
      ],
      "id": "b12f88cc",
      "execution_count": null,
      "outputs": [
        {
          "output_type": "execute_result",
          "data": {
            "text/plain": [
              "N    2645\n",
              "Y     779\n",
              "Name: Comorb_Dorsalgia, dtype: int64"
            ]
          },
          "metadata": {
            "tags": []
          },
          "execution_count": 64
        }
      ]
    },
    {
      "cell_type": "code",
      "metadata": {
        "id": "400fc5c4",
        "outputId": "2e0f8afe-a231-42f2-dd4a-afb10e9eda13"
      },
      "source": [
        "df[\"Comorb_Personal_History_Of_Other_Diseases_And_Conditions\"].value_counts()"
      ],
      "id": "400fc5c4",
      "execution_count": null,
      "outputs": [
        {
          "output_type": "execute_result",
          "data": {
            "text/plain": [
              "N    2747\n",
              "Y     677\n",
              "Name: Comorb_Personal_History_Of_Other_Diseases_And_Conditions, dtype: int64"
            ]
          },
          "metadata": {
            "tags": []
          },
          "execution_count": 65
        }
      ]
    },
    {
      "cell_type": "code",
      "metadata": {
        "id": "af173812",
        "outputId": "24f577e0-edde-4ff1-9d48-8219db7415d2"
      },
      "source": [
        "df[\"Comorb_Other_Disorders_Of_Bone_Density_And_Structure\"].value_counts()"
      ],
      "id": "af173812",
      "execution_count": null,
      "outputs": [
        {
          "output_type": "execute_result",
          "data": {
            "text/plain": [
              "N    2906\n",
              "Y     518\n",
              "Name: Comorb_Other_Disorders_Of_Bone_Density_And_Structure, dtype: int64"
            ]
          },
          "metadata": {
            "tags": []
          },
          "execution_count": 66
        }
      ]
    },
    {
      "cell_type": "code",
      "metadata": {
        "id": "2a7dcb45",
        "outputId": "eefea11e-b9b5-42c8-ab2a-4107f63c141d"
      },
      "source": [
        "df[\"Comorb_Disorders_of_lipoprotein_metabolism_and_other_lipidemias\"].value_counts()"
      ],
      "id": "2a7dcb45",
      "execution_count": null,
      "outputs": [
        {
          "output_type": "execute_result",
          "data": {
            "text/plain": [
              "Y    1765\n",
              "N    1659\n",
              "Name: Comorb_Disorders_of_lipoprotein_metabolism_and_other_lipidemias, dtype: int64"
            ]
          },
          "metadata": {
            "tags": []
          },
          "execution_count": 67
        }
      ]
    },
    {
      "cell_type": "code",
      "metadata": {
        "id": "1449a9a4",
        "outputId": "6341ae90-0bbd-4b29-d06e-b595d5709fc6"
      },
      "source": [
        "sns.countplot(x=df[\"Comorb_Disorders_of_lipoprotein_metabolism_and_other_lipidemias\"], hue=\"Persistency_Flag\", data=df)"
      ],
      "id": "1449a9a4",
      "execution_count": null,
      "outputs": [
        {
          "output_type": "execute_result",
          "data": {
            "text/plain": [
              "<AxesSubplot:xlabel='Comorb_Disorders_of_lipoprotein_metabolism_and_other_lipidemias', ylabel='count'>"
            ]
          },
          "metadata": {
            "tags": []
          },
          "execution_count": 68
        },
        {
          "output_type": "display_data",
          "data": {
            "image/png": "[encoded data removed]",
            "text/plain": [
              "<Figure size 432x288 with 1 Axes>"
            ]
          },
          "metadata": {
            "tags": [],
            "needs_background": "light"
          }
        }
      ]
    },
    {
      "cell_type": "code",
      "metadata": {
        "id": "b9087973",
        "outputId": "fc2de919-1561-4732-aeb5-0ffefdb44863"
      },
      "source": [
        "df[\"Comorb_Osteoporosis_without_current_pathological_fracture\"].value_counts()"
      ],
      "id": "b9087973",
      "execution_count": null,
      "outputs": [
        {
          "output_type": "execute_result",
          "data": {
            "text/plain": [
              "N    2507\n",
              "Y     917\n",
              "Name: Comorb_Osteoporosis_without_current_pathological_fracture, dtype: int64"
            ]
          },
          "metadata": {
            "tags": []
          },
          "execution_count": 69
        }
      ]
    },
    {
      "cell_type": "code",
      "metadata": {
        "id": "a80e0e33",
        "outputId": "913d781e-720d-4d45-b78a-29d603877420"
      },
      "source": [
        "df[\"Comorb_Personal_history_of_malignant_neoplasm\"].value_counts()"
      ],
      "id": "a80e0e33",
      "execution_count": null,
      "outputs": [
        {
          "output_type": "execute_result",
          "data": {
            "text/plain": [
              "N    2775\n",
              "Y     649\n",
              "Name: Comorb_Personal_history_of_malignant_neoplasm, dtype: int64"
            ]
          },
          "metadata": {
            "tags": []
          },
          "execution_count": 70
        }
      ]
    },
    {
      "cell_type": "code",
      "metadata": {
        "id": "9e093dd3",
        "outputId": "21a9392c-2976-447e-d4a8-2954269f56e2"
      },
      "source": [
        "sns.countplot(x=df[\"Comorb_Encounter_For_Screening_For_Malignant_Neoplasms\"], hue=\"Persistency_Flag\", data=df)"
      ],
      "id": "9e093dd3",
      "execution_count": null,
      "outputs": [
        {
          "output_type": "execute_result",
          "data": {
            "text/plain": [
              "<AxesSubplot:xlabel='Comorb_Encounter_For_Screening_For_Malignant_Neoplasms', ylabel='count'>"
            ]
          },
          "metadata": {
            "tags": []
          },
          "execution_count": 71
        },
        {
          "output_type": "display_data",
          "data": {
            "image/png": "[encoded data removed]",
            "text/plain": [
              "<Figure size 432x288 with 1 Axes>"
            ]
          },
          "metadata": {
            "tags": [],
            "needs_background": "light"
          }
        }
      ]
    },
    {
      "cell_type": "code",
      "metadata": {
        "id": "814ed98c",
        "outputId": "be735ac9-55a0-4494-f8ae-c4ff9e88c377"
      },
      "source": [
        "df[\"Comorb_Gastro_esophageal_reflux_disease\"].value_counts()"
      ],
      "id": "814ed98c",
      "execution_count": null,
      "outputs": [
        {
          "output_type": "execute_result",
          "data": {
            "text/plain": [
              "N    2794\n",
              "Y     630\n",
              "Name: Comorb_Gastro_esophageal_reflux_disease, dtype: int64"
            ]
          },
          "metadata": {
            "tags": []
          },
          "execution_count": 72
        }
      ]
    },
    {
      "cell_type": "markdown",
      "metadata": {
        "id": "433f1d61"
      },
      "source": [
        "## Conclusion on Comorbidity\n",
        "\n",
        "As we seen above, the number of Ns are higher than the number of Ys in  most cases.\n",
        "For the following features since the number of Ns and Ys are close to each other, we think that they could affect \"Persistancy_Flag\":\n",
        "\n",
        "1) Comorb_Encounter_For_Screening_For_Malignant_Neoplasms\n",
        "\n",
        "2) Comorb_Disorders_of_lipoprotein_metabolism_and_other_lipidemias\n",
        "\n",
        "3) Comorb_Encounter_For_Immunization."
      ],
      "id": "433f1d61"
    },
    {
      "cell_type": "markdown",
      "metadata": {
        "id": "0b73a00f"
      },
      "source": [
        "## Concomitancy:\n",
        "\n",
        "NTM - Concomitancy: Concomitant drugs recorded prior to starting with a therapy(within 365 days prior from first rxdate)."
      ],
      "id": "0b73a00f"
    },
    {
      "cell_type": "code",
      "metadata": {
        "id": "23d78097",
        "outputId": "44c3a9fc-19d9-438e-def3-f6c7591a28ee"
      },
      "source": [
        "df[\"Concom_Cholesterol_And_Triglyceride_Regulating_Preparations\"].value_counts()"
      ],
      "id": "23d78097",
      "execution_count": null,
      "outputs": [
        {
          "output_type": "execute_result",
          "data": {
            "text/plain": [
              "N    2242\n",
              "Y    1182\n",
              "Name: Concom_Cholesterol_And_Triglyceride_Regulating_Preparations, dtype: int64"
            ]
          },
          "metadata": {
            "tags": []
          },
          "execution_count": 73
        }
      ]
    },
    {
      "cell_type": "code",
      "metadata": {
        "id": "d9c02a41",
        "outputId": "42ca364b-4ef1-45cf-a62a-1b9da35898f9"
      },
      "source": [
        "df[\"Concom_Narcotics\"].value_counts()"
      ],
      "id": "d9c02a41",
      "execution_count": null,
      "outputs": [
        {
          "output_type": "execute_result",
          "data": {
            "text/plain": [
              "N    2191\n",
              "Y    1233\n",
              "Name: Concom_Narcotics, dtype: int64"
            ]
          },
          "metadata": {
            "tags": []
          },
          "execution_count": 74
        }
      ]
    },
    {
      "cell_type": "code",
      "metadata": {
        "id": "d1e198c6",
        "outputId": "94771cce-830e-4a06-eaf1-98918c6faf0e"
      },
      "source": [
        "df[\"Concom_Systemic_Corticosteroids_Plain\"].value_counts()"
      ],
      "id": "d1e198c6",
      "execution_count": null,
      "outputs": [
        {
          "output_type": "execute_result",
          "data": {
            "text/plain": [
              "N    2451\n",
              "Y     973\n",
              "Name: Concom_Systemic_Corticosteroids_Plain, dtype: int64"
            ]
          },
          "metadata": {
            "tags": []
          },
          "execution_count": 75
        }
      ]
    },
    {
      "cell_type": "code",
      "metadata": {
        "id": "1dcdc6d5",
        "outputId": "c5c58945-a07f-4940-c335-54f9e258821a"
      },
      "source": [
        "df[\"Concom_Anti_Depressants_And_Mood_Stabilisers\"].value_counts()"
      ],
      "id": "1dcdc6d5",
      "execution_count": null,
      "outputs": [
        {
          "output_type": "execute_result",
          "data": {
            "text/plain": [
              "N    2465\n",
              "Y     959\n",
              "Name: Concom_Anti_Depressants_And_Mood_Stabilisers, dtype: int64"
            ]
          },
          "metadata": {
            "tags": []
          },
          "execution_count": 76
        }
      ]
    },
    {
      "cell_type": "code",
      "metadata": {
        "id": "aaa9ab95",
        "outputId": "72e022f0-0e1b-4351-9222-652c7ffb64a2"
      },
      "source": [
        "df[\"Concom_Fluoroquinolones\"].value_counts()"
      ],
      "id": "aaa9ab95",
      "execution_count": null,
      "outputs": [
        {
          "output_type": "execute_result",
          "data": {
            "text/plain": [
              "N    2787\n",
              "Y     637\n",
              "Name: Concom_Fluoroquinolones, dtype: int64"
            ]
          },
          "metadata": {
            "tags": []
          },
          "execution_count": 77
        }
      ]
    },
    {
      "cell_type": "code",
      "metadata": {
        "id": "c88b160a",
        "outputId": "59002d98-ec57-4e98-a299-501167abbf08"
      },
      "source": [
        "df[\"Concom_Cephalosporins\"].value_counts()"
      ],
      "id": "c88b160a",
      "execution_count": null,
      "outputs": [
        {
          "output_type": "execute_result",
          "data": {
            "text/plain": [
              "N    2821\n",
              "Y     603\n",
              "Name: Concom_Cephalosporins, dtype: int64"
            ]
          },
          "metadata": {
            "tags": []
          },
          "execution_count": 78
        }
      ]
    },
    {
      "cell_type": "code",
      "metadata": {
        "id": "9739cae4",
        "outputId": "c1d5f9cb-5fbe-428c-daba-3d8a1b1ffbcf"
      },
      "source": [
        "df[\"Concom_Macrolides_And_Similar_Types\"].value_counts()"
      ],
      "id": "9739cae4",
      "execution_count": null,
      "outputs": [
        {
          "output_type": "execute_result",
          "data": {
            "text/plain": [
              "N    2853\n",
              "Y     571\n",
              "Name: Concom_Macrolides_And_Similar_Types, dtype: int64"
            ]
          },
          "metadata": {
            "tags": []
          },
          "execution_count": 79
        }
      ]
    },
    {
      "cell_type": "code",
      "metadata": {
        "id": "14898ea4",
        "outputId": "ac35366b-f7ea-4590-ba09-8799a1e33b06"
      },
      "source": [
        "df[\"Concom_Broad_Spectrum_Penicillins\"].value_counts()"
      ],
      "id": "14898ea4",
      "execution_count": null,
      "outputs": [
        {
          "output_type": "execute_result",
          "data": {
            "text/plain": [
              "N    2985\n",
              "Y     439\n",
              "Name: Concom_Broad_Spectrum_Penicillins, dtype: int64"
            ]
          },
          "metadata": {
            "tags": []
          },
          "execution_count": 80
        }
      ]
    },
    {
      "cell_type": "code",
      "metadata": {
        "id": "f3b771c3",
        "outputId": "8aab09ad-6eea-48a9-dd70-f7e9177bfd5e"
      },
      "source": [
        "df[\"Concom_Anaesthetics_General\"].value_counts()"
      ],
      "id": "f3b771c3",
      "execution_count": null,
      "outputs": [
        {
          "output_type": "execute_result",
          "data": {
            "text/plain": [
              "N    2927\n",
              "Y     497\n",
              "Name: Concom_Anaesthetics_General, dtype: int64"
            ]
          },
          "metadata": {
            "tags": []
          },
          "execution_count": 81
        }
      ]
    },
    {
      "cell_type": "code",
      "metadata": {
        "scrolled": true,
        "id": "0fd5f421",
        "outputId": "4ae796b2-9662-4637-e8cc-6becd6dad857"
      },
      "source": [
        "df[\"Concom_Viral_Vaccines\"].value_counts()"
      ],
      "id": "0fd5f421",
      "execution_count": null,
      "outputs": [
        {
          "output_type": "execute_result",
          "data": {
            "text/plain": [
              "N    3071\n",
              "Y     353\n",
              "Name: Concom_Viral_Vaccines, dtype: int64"
            ]
          },
          "metadata": {
            "tags": []
          },
          "execution_count": 82
        }
      ]
    },
    {
      "cell_type": "markdown",
      "metadata": {
        "id": "f9d87989"
      },
      "source": [
        "## Conclusion:  \n",
        "\n",
        "As we seen above, the number of Ns are higher than the number of Ys in all cases."
      ],
      "id": "f9d87989"
    },
    {
      "cell_type": "markdown",
      "metadata": {
        "id": "4d3f745b"
      },
      "source": [
        "## Risk Factors:\n",
        "\n",
        "NTM - Risk Factors-Risk Factors that the patient is falling into. For chronic Risk Factors complete lookback to be applied and for non-chronic Risk Factors, one year lookback from the date of first OP Rx."
      ],
      "id": "4d3f745b"
    },
    {
      "cell_type": "code",
      "metadata": {
        "id": "a2c200e1",
        "outputId": "1a504f4d-1908-4b71-e721-c2e92bfc3f00"
      },
      "source": [
        "df[\"Risk_Type_1_Insulin_Dependent_Diabetes\"].value_counts()"
      ],
      "id": "a2c200e1",
      "execution_count": null,
      "outputs": [
        {
          "output_type": "execute_result",
          "data": {
            "text/plain": [
              "N    3285\n",
              "Y     139\n",
              "Name: Risk_Type_1_Insulin_Dependent_Diabetes, dtype: int64"
            ]
          },
          "metadata": {
            "tags": []
          },
          "execution_count": 83
        }
      ]
    },
    {
      "cell_type": "code",
      "metadata": {
        "id": "bf704643",
        "outputId": "a8a5c09a-936d-436c-d00c-d98b5960d775"
      },
      "source": [
        "df[\"Risk_Osteogenesis_Imperfecta\"].value_counts()"
      ],
      "id": "bf704643",
      "execution_count": null,
      "outputs": [
        {
          "output_type": "execute_result",
          "data": {
            "text/plain": [
              "N    3421\n",
              "Y       3\n",
              "Name: Risk_Osteogenesis_Imperfecta, dtype: int64"
            ]
          },
          "metadata": {
            "tags": []
          },
          "execution_count": 84
        }
      ]
    },
    {
      "cell_type": "code",
      "metadata": {
        "id": "c808f0e4",
        "outputId": "39d0136c-281c-46fc-c4eb-7b5aa5d0b702"
      },
      "source": [
        "df[\"Risk_Rheumatoid_Arthritis\"].value_counts()"
      ],
      "id": "c808f0e4",
      "execution_count": null,
      "outputs": [
        {
          "output_type": "execute_result",
          "data": {
            "text/plain": [
              "N    3294\n",
              "Y     130\n",
              "Name: Risk_Rheumatoid_Arthritis, dtype: int64"
            ]
          },
          "metadata": {
            "tags": []
          },
          "execution_count": 85
        }
      ]
    },
    {
      "cell_type": "code",
      "metadata": {
        "id": "fca5b2e5",
        "outputId": "decbd8b7-c946-4924-f164-5c8e2e7b23f3"
      },
      "source": [
        "df[\"Risk_Untreated_Chronic_Hyperthyroidism\"].value_counts()"
      ],
      "id": "fca5b2e5",
      "execution_count": null,
      "outputs": [
        {
          "output_type": "execute_result",
          "data": {
            "text/plain": [
              "N    3422\n",
              "Y       2\n",
              "Name: Risk_Untreated_Chronic_Hyperthyroidism, dtype: int64"
            ]
          },
          "metadata": {
            "tags": []
          },
          "execution_count": 86
        }
      ]
    },
    {
      "cell_type": "code",
      "metadata": {
        "id": "c811c1da",
        "outputId": "008e8630-edbd-4bca-e527-2bfe252e91d0"
      },
      "source": [
        "df[\"Risk_Untreated_Chronic_Hypogonadism\"].value_counts()"
      ],
      "id": "c811c1da",
      "execution_count": null,
      "outputs": [
        {
          "output_type": "execute_result",
          "data": {
            "text/plain": [
              "N    3297\n",
              "Y     127\n",
              "Name: Risk_Untreated_Chronic_Hypogonadism, dtype: int64"
            ]
          },
          "metadata": {
            "tags": []
          },
          "execution_count": 87
        }
      ]
    },
    {
      "cell_type": "code",
      "metadata": {
        "id": "1f6ded77",
        "outputId": "6bc7c202-5092-4e49-fb69-bf04e9dec3ab"
      },
      "source": [
        "df[\"Risk_Untreated_Early_Menopause\"].value_counts()"
      ],
      "id": "1f6ded77",
      "execution_count": null,
      "outputs": [
        {
          "output_type": "execute_result",
          "data": {
            "text/plain": [
              "N    3412\n",
              "Y      12\n",
              "Name: Risk_Untreated_Early_Menopause, dtype: int64"
            ]
          },
          "metadata": {
            "tags": []
          },
          "execution_count": 88
        }
      ]
    },
    {
      "cell_type": "code",
      "metadata": {
        "id": "de7057e3",
        "outputId": "79c7a1f9-785b-438a-b507-688736933161"
      },
      "source": [
        "df[\"Risk_Patient_Parent_Fractured_Their_Hip\"].value_counts()"
      ],
      "id": "de7057e3",
      "execution_count": null,
      "outputs": [
        {
          "output_type": "execute_result",
          "data": {
            "text/plain": [
              "N    3168\n",
              "Y     256\n",
              "Name: Risk_Patient_Parent_Fractured_Their_Hip, dtype: int64"
            ]
          },
          "metadata": {
            "tags": []
          },
          "execution_count": 89
        }
      ]
    },
    {
      "cell_type": "code",
      "metadata": {
        "id": "95050b4e",
        "outputId": "95f3fbfe-ce0c-4481-fba0-2e131cdbc998"
      },
      "source": [
        "df[\"Risk_Smoking_Tobacco\"].value_counts()"
      ],
      "id": "95050b4e",
      "execution_count": null,
      "outputs": [
        {
          "output_type": "execute_result",
          "data": {
            "text/plain": [
              "N    2780\n",
              "Y     644\n",
              "Name: Risk_Smoking_Tobacco, dtype: int64"
            ]
          },
          "metadata": {
            "tags": []
          },
          "execution_count": 90
        }
      ]
    },
    {
      "cell_type": "code",
      "metadata": {
        "id": "34cf43ed",
        "outputId": "dfa1f5f7-7f80-4e50-8f79-968350b2f656"
      },
      "source": [
        "df[\"Risk_Chronic_Malnutrition_Or_Malabsorption\"].value_counts()"
      ],
      "id": "34cf43ed",
      "execution_count": null,
      "outputs": [
        {
          "output_type": "execute_result",
          "data": {
            "text/plain": [
              "N    2954\n",
              "Y     470\n",
              "Name: Risk_Chronic_Malnutrition_Or_Malabsorption, dtype: int64"
            ]
          },
          "metadata": {
            "tags": []
          },
          "execution_count": 91
        }
      ]
    },
    {
      "cell_type": "code",
      "metadata": {
        "id": "5d6497ea",
        "outputId": "93d3aa7a-701a-48e7-b4f9-439ebdf2540f"
      },
      "source": [
        "df[\"Risk_Chronic_Liver_Disease\"].value_counts()"
      ],
      "id": "5d6497ea",
      "execution_count": null,
      "outputs": [
        {
          "output_type": "execute_result",
          "data": {
            "text/plain": [
              "N    3406\n",
              "Y      18\n",
              "Name: Risk_Chronic_Liver_Disease, dtype: int64"
            ]
          },
          "metadata": {
            "tags": []
          },
          "execution_count": 92
        }
      ]
    },
    {
      "cell_type": "code",
      "metadata": {
        "id": "b595231e",
        "outputId": "4e80b872-6d65-47b9-9565-3f17b6dd3e14"
      },
      "source": [
        "df[\"Risk_Family_History_Of_Osteoporosis\"].value_counts()"
      ],
      "id": "b595231e",
      "execution_count": null,
      "outputs": [
        {
          "output_type": "execute_result",
          "data": {
            "text/plain": [
              "N    3066\n",
              "Y     358\n",
              "Name: Risk_Family_History_Of_Osteoporosis, dtype: int64"
            ]
          },
          "metadata": {
            "tags": []
          },
          "execution_count": 93
        }
      ]
    },
    {
      "cell_type": "code",
      "metadata": {
        "id": "758e00fe",
        "outputId": "5aed7d51-9eea-449e-8c65-ff8693daeab5"
      },
      "source": [
        "df[\"Risk_Low_Calcium_Intake\"].value_counts()"
      ],
      "id": "758e00fe",
      "execution_count": null,
      "outputs": [
        {
          "output_type": "execute_result",
          "data": {
            "text/plain": [
              "N    3382\n",
              "Y      42\n",
              "Name: Risk_Low_Calcium_Intake, dtype: int64"
            ]
          },
          "metadata": {
            "tags": []
          },
          "execution_count": 94
        }
      ]
    },
    {
      "cell_type": "code",
      "metadata": {
        "id": "caabb630",
        "outputId": "e4a2b456-cce7-402b-a4fd-3206ee1d0860"
      },
      "source": [
        "df[\"Risk_Vitamin_D_Insufficiency\"].value_counts()"
      ],
      "id": "caabb630",
      "execution_count": null,
      "outputs": [
        {
          "output_type": "execute_result",
          "data": {
            "text/plain": [
              "N    1788\n",
              "Y    1636\n",
              "Name: Risk_Vitamin_D_Insufficiency, dtype: int64"
            ]
          },
          "metadata": {
            "tags": []
          },
          "execution_count": 95
        }
      ]
    },
    {
      "cell_type": "code",
      "metadata": {
        "id": "fb32a976",
        "outputId": "0b10e278-b6cf-4643-ae97-d58468ecd08f"
      },
      "source": [
        "sns.countplot(x=df[\"Risk_Vitamin_D_Insufficiency\"], hue=\"Persistency_Flag\", data=df)"
      ],
      "id": "fb32a976",
      "execution_count": null,
      "outputs": [
        {
          "output_type": "execute_result",
          "data": {
            "text/plain": [
              "<AxesSubplot:xlabel='Risk_Vitamin_D_Insufficiency', ylabel='count'>"
            ]
          },
          "metadata": {
            "tags": []
          },
          "execution_count": 96
        },
        {
          "output_type": "display_data",
          "data": {
            "image/png": "[encoded data removed]",
            "text/plain": [
              "<Figure size 432x288 with 1 Axes>"
            ]
          },
          "metadata": {
            "tags": [],
            "needs_background": "light"
          }
        }
      ]
    },
    {
      "cell_type": "code",
      "metadata": {
        "id": "91f385a4",
        "outputId": "b345da68-f704-47a6-aced-dde1fea61144"
      },
      "source": [
        "df[\"Risk_Poor_Health_Frailty\"].value_counts()"
      ],
      "id": "91f385a4",
      "execution_count": null,
      "outputs": [
        {
          "output_type": "execute_result",
          "data": {
            "text/plain": [
              "N    3232\n",
              "Y     192\n",
              "Name: Risk_Poor_Health_Frailty, dtype: int64"
            ]
          },
          "metadata": {
            "tags": []
          },
          "execution_count": 97
        }
      ]
    },
    {
      "cell_type": "code",
      "metadata": {
        "id": "14952aa6",
        "outputId": "dff57e34-8acc-48e0-997a-68468bfb4c4b"
      },
      "source": [
        "df[\"Risk_Excessive_Thinness\"].value_counts()"
      ],
      "id": "14952aa6",
      "execution_count": null,
      "outputs": [
        {
          "output_type": "execute_result",
          "data": {
            "text/plain": [
              "N    3357\n",
              "Y      67\n",
              "Name: Risk_Excessive_Thinness, dtype: int64"
            ]
          },
          "metadata": {
            "tags": []
          },
          "execution_count": 98
        }
      ]
    },
    {
      "cell_type": "code",
      "metadata": {
        "id": "b7b263c9",
        "outputId": "e10b0d64-2006-448c-a47d-a39b67362467"
      },
      "source": [
        "df[\"Risk_Hysterectomy_Oophorectomy\"].value_counts()"
      ],
      "id": "b7b263c9",
      "execution_count": null,
      "outputs": [
        {
          "output_type": "execute_result",
          "data": {
            "text/plain": [
              "N    3370\n",
              "Y      54\n",
              "Name: Risk_Hysterectomy_Oophorectomy, dtype: int64"
            ]
          },
          "metadata": {
            "tags": []
          },
          "execution_count": 99
        }
      ]
    },
    {
      "cell_type": "code",
      "metadata": {
        "id": "aeb268ee",
        "outputId": "1d0394a8-3c0a-440e-9572-046e26dfcd62"
      },
      "source": [
        "df[\"Risk_Estrogen_Deficiency\"].value_counts()"
      ],
      "id": "aeb268ee",
      "execution_count": null,
      "outputs": [
        {
          "output_type": "execute_result",
          "data": {
            "text/plain": [
              "N    3413\n",
              "Y      11\n",
              "Name: Risk_Estrogen_Deficiency, dtype: int64"
            ]
          },
          "metadata": {
            "tags": []
          },
          "execution_count": 100
        }
      ]
    },
    {
      "cell_type": "code",
      "metadata": {
        "id": "76d254b5",
        "outputId": "c2011fd8-d830-476c-9c26-3e80127e8915"
      },
      "source": [
        "df[\"Risk_Immobilization\"].value_counts()"
      ],
      "id": "76d254b5",
      "execution_count": null,
      "outputs": [
        {
          "output_type": "execute_result",
          "data": {
            "text/plain": [
              "N    3410\n",
              "Y      14\n",
              "Name: Risk_Immobilization, dtype: int64"
            ]
          },
          "metadata": {
            "tags": []
          },
          "execution_count": 101
        }
      ]
    },
    {
      "cell_type": "code",
      "metadata": {
        "id": "31a03290",
        "outputId": "2ba80fc4-80b9-4efb-f7f5-709c63baa963"
      },
      "source": [
        "df[\"Risk_Recurring_Falls\"].value_counts()"
      ],
      "id": "31a03290",
      "execution_count": null,
      "outputs": [
        {
          "output_type": "execute_result",
          "data": {
            "text/plain": [
              "N    3355\n",
              "Y      69\n",
              "Name: Risk_Recurring_Falls, dtype: int64"
            ]
          },
          "metadata": {
            "tags": []
          },
          "execution_count": 102
        }
      ]
    },
    {
      "cell_type": "markdown",
      "metadata": {
        "id": "a536a162"
      },
      "source": [
        "## Conclusion on Risk Factors:  \n",
        "\n",
        "As we seen above, the number of Ns are higher than the number of Ys in most cases. For the following features since the number of Ns and Ys are close to each other, we think that they could affect \"Persistancy_Flag\":\n",
        "\n",
        "1)Risk_Vitamin_D_Insufficiency. \n"
      ],
      "id": "a536a162"
    },
    {
      "cell_type": "code",
      "metadata": {
        "id": "a4f4cdd4",
        "outputId": "97e4cee5-a7ea-4f1d-f64d-a23d7474c106"
      },
      "source": [
        "df[\"Count_Of_Risks\"].value_counts()"
      ],
      "id": "a4f4cdd4",
      "execution_count": null,
      "outputs": [
        {
          "output_type": "execute_result",
          "data": {
            "text/plain": [
              "1    1242\n",
              "0     970\n",
              "2     781\n",
              "3     317\n",
              "4      91\n",
              "5      15\n",
              "6       6\n",
              "7       2\n",
              "Name: Count_Of_Risks, dtype: int64"
            ]
          },
          "metadata": {
            "tags": []
          },
          "execution_count": 103
        }
      ]
    },
    {
      "cell_type": "markdown",
      "metadata": {
        "id": "c2dcb477"
      },
      "source": [
        "## Adherence:\n",
        "\n",
        "Adherence for the therapies"
      ],
      "id": "c2dcb477"
    },
    {
      "cell_type": "code",
      "metadata": {
        "id": "c0c334f8",
        "outputId": "5d62ce8f-fdc8-43e6-c976-646de707af4c"
      },
      "source": [
        "df[\"Adherent_Flag\"].value_counts()"
      ],
      "id": "c0c334f8",
      "execution_count": null,
      "outputs": [
        {
          "output_type": "execute_result",
          "data": {
            "text/plain": [
              "Adherent        3251\n",
              "Non-Adherent     173\n",
              "Name: Adherent_Flag, dtype: int64"
            ]
          },
          "metadata": {
            "tags": []
          },
          "execution_count": 104
        }
      ]
    },
    {
      "cell_type": "markdown",
      "metadata": {
        "id": "447d72de"
      },
      "source": [
        "## Examining Continues Variables:"
      ],
      "id": "447d72de"
    },
    {
      "cell_type": "code",
      "metadata": {
        "id": "9d3d58ca",
        "outputId": "c513cedb-037c-4303-d0ad-869eb5c8148e"
      },
      "source": [
        "df.describe().T"
      ],
      "id": "9d3d58ca",
      "execution_count": null,
      "outputs": [
        {
          "output_type": "execute_result",
          "data": {
            "text/html": [
              "<div>\n",
              "<style scoped>\n",
              "    .dataframe tbody tr th:only-of-type {\n",
              "        vertical-align: middle;\n",
              "    }\n",
              "\n",
              "    .dataframe tbody tr th {\n",
              "        vertical-align: top;\n",
              "    }\n",
              "\n",
              "    .dataframe thead th {\n",
              "        text-align: right;\n",
              "    }\n",
              "</style>\n",
              "<table border=\"1\" class=\"dataframe\">\n",
              "  <thead>\n",
              "    <tr style=\"text-align: right;\">\n",
              "      <th></th>\n",
              "      <th>count</th>\n",
              "      <th>mean</th>\n",
              "      <th>std</th>\n",
              "      <th>min</th>\n",
              "      <th>25%</th>\n",
              "      <th>50%</th>\n",
              "      <th>75%</th>\n",
              "      <th>max</th>\n",
              "    </tr>\n",
              "  </thead>\n",
              "  <tbody>\n",
              "    <tr>\n",
              "      <th>Dexa_Freq_During_Rx</th>\n",
              "      <td>3424.0</td>\n",
              "      <td>3.016063</td>\n",
              "      <td>8.136545</td>\n",
              "      <td>0.0</td>\n",
              "      <td>0.0</td>\n",
              "      <td>0.0</td>\n",
              "      <td>3.0</td>\n",
              "      <td>146.0</td>\n",
              "    </tr>\n",
              "    <tr>\n",
              "      <th>Count_Of_Risks</th>\n",
              "      <td>3424.0</td>\n",
              "      <td>1.239486</td>\n",
              "      <td>1.094914</td>\n",
              "      <td>0.0</td>\n",
              "      <td>0.0</td>\n",
              "      <td>1.0</td>\n",
              "      <td>2.0</td>\n",
              "      <td>7.0</td>\n",
              "    </tr>\n",
              "  </tbody>\n",
              "</table>\n",
              "</div>"
            ],
            "text/plain": [
              "                      count      mean       std  min  25%  50%  75%    max\n",
              "Dexa_Freq_During_Rx  3424.0  3.016063  8.136545  0.0  0.0  0.0  3.0  146.0\n",
              "Count_Of_Risks       3424.0  1.239486  1.094914  0.0  0.0  1.0  2.0    7.0"
            ]
          },
          "metadata": {
            "tags": []
          },
          "execution_count": 105
        }
      ]
    },
    {
      "cell_type": "code",
      "metadata": {
        "id": "c8d5f58e",
        "outputId": "dea3b729-fc86-42dd-8f2c-a9631e0227d0"
      },
      "source": [
        "sns.pairplot(df)"
      ],
      "id": "c8d5f58e",
      "execution_count": null,
      "outputs": [
        {
          "output_type": "execute_result",
          "data": {
            "text/plain": [
              "<seaborn.axisgrid.PairGrid at 0x211c55ba970>"
            ]
          },
          "metadata": {
            "tags": []
          },
          "execution_count": 106
        },
        {
          "output_type": "display_data",
          "data": {
            "image/png": "[encoded data removed]",
            "text/plain": [
              "<Figure size 360x360 with 6 Axes>"
            ]
          },
          "metadata": {
            "tags": [],
            "needs_background": "light"
          }
        }
      ]
    },
    {
      "cell_type": "code",
      "metadata": {
        "id": "b8fc2dcf",
        "outputId": "ee7a2d5a-b8d8-42e8-9376-3502dcc8fac9"
      },
      "source": [
        "plt.hist(df[\"Dexa_Freq_During_Rx\"], color= \"blue\", edgecolor = 'black');"
      ],
      "id": "b8fc2dcf",
      "execution_count": null,
      "outputs": [
        {
          "output_type": "display_data",
          "data": {
            "image/png": "[encoded data removed]",
            "text/plain": [
              "<Figure size 432x288 with 1 Axes>"
            ]
          },
          "metadata": {
            "tags": [],
            "needs_background": "light"
          }
        }
      ]
    },
    {
      "cell_type": "code",
      "metadata": {
        "id": "51be5249",
        "outputId": "1cff259c-9039-4a67-aaab-cfbdcdb513da"
      },
      "source": [
        "plt.hist(df[\"Count_Of_Risks\"], color= \"blue\", edgecolor = 'black');"
      ],
      "id": "51be5249",
      "execution_count": null,
      "outputs": [
        {
          "output_type": "display_data",
          "data": {
            "image/png": "[encoded data removed]",
            "text/plain": [
              "<Figure size 432x288 with 1 Axes>"
            ]
          },
          "metadata": {
            "tags": [],
            "needs_background": "light"
          }
        }
      ]
    },
    {
      "cell_type": "markdown",
      "metadata": {
        "id": "253bde12"
      },
      "source": [
        "## Detecting Outliers"
      ],
      "id": "253bde12"
    },
    {
      "cell_type": "code",
      "metadata": {
        "id": "4311af93"
      },
      "source": [
        "df_Dexa= df[\"Dexa_Freq_During_Rx\"]"
      ],
      "id": "4311af93",
      "execution_count": null,
      "outputs": []
    },
    {
      "cell_type": "code",
      "metadata": {
        "id": "43913e7e",
        "outputId": "d5ba13c1-3ba2-48ff-91b2-8b75dff69bce"
      },
      "source": [
        "sns.boxplot(x=df_Dexa);"
      ],
      "id": "43913e7e",
      "execution_count": null,
      "outputs": [
        {
          "output_type": "display_data",
          "data": {
            "image/png": "[encoded data removed]",
            "text/plain": [
              "<Figure size 432x288 with 1 Axes>"
            ]
          },
          "metadata": {
            "tags": [],
            "needs_background": "light"
          }
        }
      ]
    },
    {
      "cell_type": "code",
      "metadata": {
        "id": "25322a6f"
      },
      "source": [
        "Q1=df_Dexa.quantile(0.25)\n",
        "Q3=df_Dexa.quantile(0.75)\n",
        "IQR=Q3-Q1"
      ],
      "id": "25322a6f",
      "execution_count": null,
      "outputs": []
    },
    {
      "cell_type": "code",
      "metadata": {
        "id": "47aab4c4"
      },
      "source": [
        "lower_bound= Q1-1.5*IQR\n",
        "upper_bound= Q3+ 1.5*IQR"
      ],
      "id": "47aab4c4",
      "execution_count": null,
      "outputs": []
    },
    {
      "cell_type": "code",
      "metadata": {
        "id": "431a577b",
        "outputId": "3b3ff9bd-8186-47f8-d97c-00beb8d90f77"
      },
      "source": [
        "upper_bound"
      ],
      "id": "431a577b",
      "execution_count": null,
      "outputs": [
        {
          "output_type": "execute_result",
          "data": {
            "text/plain": [
              "7.5"
            ]
          },
          "metadata": {
            "tags": []
          },
          "execution_count": 113
        }
      ]
    },
    {
      "cell_type": "code",
      "metadata": {
        "id": "60d54e55",
        "outputId": "eaea952b-4705-454d-9940-118b2b1525d4"
      },
      "source": [
        "outlier_dexa= (df_Dexa< lower_bound) | (df_Dexa> upper_bound)\n",
        "outlier_dexa.head()"
      ],
      "id": "60d54e55",
      "execution_count": null,
      "outputs": [
        {
          "output_type": "execute_result",
          "data": {
            "text/plain": [
              "0    False\n",
              "1    False\n",
              "2    False\n",
              "3    False\n",
              "4    False\n",
              "Name: Dexa_Freq_During_Rx, dtype: bool"
            ]
          },
          "metadata": {
            "tags": []
          },
          "execution_count": 114
        }
      ]
    },
    {
      "cell_type": "code",
      "metadata": {
        "id": "38dae3a2",
        "outputId": "3f6f1c85-5076-411c-a314-2a221410c187"
      },
      "source": [
        "df[outlier_dexa]"
      ],
      "id": "38dae3a2",
      "execution_count": null,
      "outputs": [
        {
          "output_type": "execute_result",
          "data": {
            "text/html": [
              "<div>\n",
              "<style scoped>\n",
              "    .dataframe tbody tr th:only-of-type {\n",
              "        vertical-align: middle;\n",
              "    }\n",
              "\n",
              "    .dataframe tbody tr th {\n",
              "        vertical-align: top;\n",
              "    }\n",
              "\n",
              "    .dataframe thead th {\n",
              "        text-align: right;\n",
              "    }\n",
              "</style>\n",
              "<table border=\"1\" class=\"dataframe\">\n",
              "  <thead>\n",
              "    <tr style=\"text-align: right;\">\n",
              "      <th></th>\n",
              "      <th>Ptid</th>\n",
              "      <th>Persistency_Flag</th>\n",
              "      <th>Gender</th>\n",
              "      <th>Race</th>\n",
              "      <th>Ethnicity</th>\n",
              "      <th>Region</th>\n",
              "      <th>Age_Bucket</th>\n",
              "      <th>Ntm_Speciality</th>\n",
              "      <th>Ntm_Specialist_Flag</th>\n",
              "      <th>Ntm_Speciality_Bucket</th>\n",
              "      <th>...</th>\n",
              "      <th>Risk_Family_History_Of_Osteoporosis</th>\n",
              "      <th>Risk_Low_Calcium_Intake</th>\n",
              "      <th>Risk_Vitamin_D_Insufficiency</th>\n",
              "      <th>Risk_Poor_Health_Frailty</th>\n",
              "      <th>Risk_Excessive_Thinness</th>\n",
              "      <th>Risk_Hysterectomy_Oophorectomy</th>\n",
              "      <th>Risk_Estrogen_Deficiency</th>\n",
              "      <th>Risk_Immobilization</th>\n",
              "      <th>Risk_Recurring_Falls</th>\n",
              "      <th>Count_Of_Risks</th>\n",
              "    </tr>\n",
              "  </thead>\n",
              "  <tbody>\n",
              "    <tr>\n",
              "      <th>32</th>\n",
              "      <td>P33</td>\n",
              "      <td>Non-Persistent</td>\n",
              "      <td>Female</td>\n",
              "      <td>Caucasian</td>\n",
              "      <td>Not Hispanic</td>\n",
              "      <td>Midwest</td>\n",
              "      <td>&gt;75</td>\n",
              "      <td>Unknown</td>\n",
              "      <td>Others</td>\n",
              "      <td>OB/GYN/Others/PCP/Unknown</td>\n",
              "      <td>...</td>\n",
              "      <td>N</td>\n",
              "      <td>N</td>\n",
              "      <td>N</td>\n",
              "      <td>N</td>\n",
              "      <td>N</td>\n",
              "      <td>N</td>\n",
              "      <td>N</td>\n",
              "      <td>N</td>\n",
              "      <td>N</td>\n",
              "      <td>0</td>\n",
              "    </tr>\n",
              "    <tr>\n",
              "      <th>33</th>\n",
              "      <td>P34</td>\n",
              "      <td>Non-Persistent</td>\n",
              "      <td>Female</td>\n",
              "      <td>Caucasian</td>\n",
              "      <td>Not Hispanic</td>\n",
              "      <td>Midwest</td>\n",
              "      <td>&gt;75</td>\n",
              "      <td>GENERAL PRACTITIONER</td>\n",
              "      <td>Others</td>\n",
              "      <td>OB/GYN/Others/PCP/Unknown</td>\n",
              "      <td>...</td>\n",
              "      <td>N</td>\n",
              "      <td>N</td>\n",
              "      <td>N</td>\n",
              "      <td>N</td>\n",
              "      <td>N</td>\n",
              "      <td>N</td>\n",
              "      <td>N</td>\n",
              "      <td>N</td>\n",
              "      <td>N</td>\n",
              "      <td>0</td>\n",
              "    </tr>\n",
              "    <tr>\n",
              "      <th>62</th>\n",
              "      <td>P63</td>\n",
              "      <td>Non-Persistent</td>\n",
              "      <td>Female</td>\n",
              "      <td>Caucasian</td>\n",
              "      <td>Not Hispanic</td>\n",
              "      <td>Midwest</td>\n",
              "      <td>65-75</td>\n",
              "      <td>GENERAL PRACTITIONER</td>\n",
              "      <td>Others</td>\n",
              "      <td>OB/GYN/Others/PCP/Unknown</td>\n",
              "      <td>...</td>\n",
              "      <td>N</td>\n",
              "      <td>N</td>\n",
              "      <td>N</td>\n",
              "      <td>N</td>\n",
              "      <td>N</td>\n",
              "      <td>N</td>\n",
              "      <td>N</td>\n",
              "      <td>N</td>\n",
              "      <td>N</td>\n",
              "      <td>0</td>\n",
              "    </tr>\n",
              "    <tr>\n",
              "      <th>65</th>\n",
              "      <td>P66</td>\n",
              "      <td>Persistent</td>\n",
              "      <td>Female</td>\n",
              "      <td>Asian</td>\n",
              "      <td>Not Hispanic</td>\n",
              "      <td>Midwest</td>\n",
              "      <td>65-75</td>\n",
              "      <td>GENERAL PRACTITIONER</td>\n",
              "      <td>Others</td>\n",
              "      <td>OB/GYN/Others/PCP/Unknown</td>\n",
              "      <td>...</td>\n",
              "      <td>N</td>\n",
              "      <td>N</td>\n",
              "      <td>N</td>\n",
              "      <td>N</td>\n",
              "      <td>N</td>\n",
              "      <td>N</td>\n",
              "      <td>N</td>\n",
              "      <td>N</td>\n",
              "      <td>N</td>\n",
              "      <td>2</td>\n",
              "    </tr>\n",
              "    <tr>\n",
              "      <th>89</th>\n",
              "      <td>P90</td>\n",
              "      <td>Non-Persistent</td>\n",
              "      <td>Female</td>\n",
              "      <td>Other/Unknown</td>\n",
              "      <td>Not Hispanic</td>\n",
              "      <td>Midwest</td>\n",
              "      <td>65-75</td>\n",
              "      <td>GENERAL PRACTITIONER</td>\n",
              "      <td>Others</td>\n",
              "      <td>OB/GYN/Others/PCP/Unknown</td>\n",
              "      <td>...</td>\n",
              "      <td>Y</td>\n",
              "      <td>N</td>\n",
              "      <td>Y</td>\n",
              "      <td>N</td>\n",
              "      <td>N</td>\n",
              "      <td>N</td>\n",
              "      <td>N</td>\n",
              "      <td>N</td>\n",
              "      <td>N</td>\n",
              "      <td>3</td>\n",
              "    </tr>\n",
              "    <tr>\n",
              "      <th>...</th>\n",
              "      <td>...</td>\n",
              "      <td>...</td>\n",
              "      <td>...</td>\n",
              "      <td>...</td>\n",
              "      <td>...</td>\n",
              "      <td>...</td>\n",
              "      <td>...</td>\n",
              "      <td>...</td>\n",
              "      <td>...</td>\n",
              "      <td>...</td>\n",
              "      <td>...</td>\n",
              "      <td>...</td>\n",
              "      <td>...</td>\n",
              "      <td>...</td>\n",
              "      <td>...</td>\n",
              "      <td>...</td>\n",
              "      <td>...</td>\n",
              "      <td>...</td>\n",
              "      <td>...</td>\n",
              "      <td>...</td>\n",
              "      <td>...</td>\n",
              "    </tr>\n",
              "    <tr>\n",
              "      <th>3384</th>\n",
              "      <td>P3385</td>\n",
              "      <td>Persistent</td>\n",
              "      <td>Female</td>\n",
              "      <td>Caucasian</td>\n",
              "      <td>Not Hispanic</td>\n",
              "      <td>South</td>\n",
              "      <td>&gt;75</td>\n",
              "      <td>ORTHOPEDIC SURGERY</td>\n",
              "      <td>Others</td>\n",
              "      <td>OB/GYN/Others/PCP/Unknown</td>\n",
              "      <td>...</td>\n",
              "      <td>Y</td>\n",
              "      <td>N</td>\n",
              "      <td>Y</td>\n",
              "      <td>N</td>\n",
              "      <td>N</td>\n",
              "      <td>N</td>\n",
              "      <td>N</td>\n",
              "      <td>N</td>\n",
              "      <td>N</td>\n",
              "      <td>2</td>\n",
              "    </tr>\n",
              "    <tr>\n",
              "      <th>3396</th>\n",
              "      <td>P3397</td>\n",
              "      <td>Persistent</td>\n",
              "      <td>Female</td>\n",
              "      <td>Caucasian</td>\n",
              "      <td>Not Hispanic</td>\n",
              "      <td>South</td>\n",
              "      <td>65-75</td>\n",
              "      <td>GENERAL PRACTITIONER</td>\n",
              "      <td>Others</td>\n",
              "      <td>OB/GYN/Others/PCP/Unknown</td>\n",
              "      <td>...</td>\n",
              "      <td>N</td>\n",
              "      <td>N</td>\n",
              "      <td>Y</td>\n",
              "      <td>N</td>\n",
              "      <td>N</td>\n",
              "      <td>N</td>\n",
              "      <td>N</td>\n",
              "      <td>N</td>\n",
              "      <td>N</td>\n",
              "      <td>1</td>\n",
              "    </tr>\n",
              "    <tr>\n",
              "      <th>3400</th>\n",
              "      <td>P3401</td>\n",
              "      <td>Non-Persistent</td>\n",
              "      <td>Female</td>\n",
              "      <td>Caucasian</td>\n",
              "      <td>Not Hispanic</td>\n",
              "      <td>West</td>\n",
              "      <td>55-65</td>\n",
              "      <td>GENERAL PRACTITIONER</td>\n",
              "      <td>Others</td>\n",
              "      <td>OB/GYN/Others/PCP/Unknown</td>\n",
              "      <td>...</td>\n",
              "      <td>N</td>\n",
              "      <td>N</td>\n",
              "      <td>N</td>\n",
              "      <td>N</td>\n",
              "      <td>N</td>\n",
              "      <td>N</td>\n",
              "      <td>N</td>\n",
              "      <td>N</td>\n",
              "      <td>N</td>\n",
              "      <td>2</td>\n",
              "    </tr>\n",
              "    <tr>\n",
              "      <th>3411</th>\n",
              "      <td>P3412</td>\n",
              "      <td>Persistent</td>\n",
              "      <td>Female</td>\n",
              "      <td>Caucasian</td>\n",
              "      <td>Not Hispanic</td>\n",
              "      <td>South</td>\n",
              "      <td>65-75</td>\n",
              "      <td>GENERAL PRACTITIONER</td>\n",
              "      <td>Others</td>\n",
              "      <td>OB/GYN/Others/PCP/Unknown</td>\n",
              "      <td>...</td>\n",
              "      <td>N</td>\n",
              "      <td>N</td>\n",
              "      <td>Y</td>\n",
              "      <td>N</td>\n",
              "      <td>N</td>\n",
              "      <td>N</td>\n",
              "      <td>N</td>\n",
              "      <td>N</td>\n",
              "      <td>N</td>\n",
              "      <td>1</td>\n",
              "    </tr>\n",
              "    <tr>\n",
              "      <th>3414</th>\n",
              "      <td>P3415</td>\n",
              "      <td>Persistent</td>\n",
              "      <td>Female</td>\n",
              "      <td>Caucasian</td>\n",
              "      <td>Not Hispanic</td>\n",
              "      <td>South</td>\n",
              "      <td>&gt;75</td>\n",
              "      <td>GENERAL PRACTITIONER</td>\n",
              "      <td>Others</td>\n",
              "      <td>OB/GYN/Others/PCP/Unknown</td>\n",
              "      <td>...</td>\n",
              "      <td>N</td>\n",
              "      <td>N</td>\n",
              "      <td>N</td>\n",
              "      <td>N</td>\n",
              "      <td>N</td>\n",
              "      <td>N</td>\n",
              "      <td>N</td>\n",
              "      <td>N</td>\n",
              "      <td>N</td>\n",
              "      <td>0</td>\n",
              "    </tr>\n",
              "  </tbody>\n",
              "</table>\n",
              "<p>460 rows × 69 columns</p>\n",
              "</div>"
            ],
            "text/plain": [
              "       Ptid Persistency_Flag  Gender           Race     Ethnicity   Region  \\\n",
              "32      P33   Non-Persistent  Female      Caucasian  Not Hispanic  Midwest   \n",
              "33      P34   Non-Persistent  Female      Caucasian  Not Hispanic  Midwest   \n",
              "62      P63   Non-Persistent  Female      Caucasian  Not Hispanic  Midwest   \n",
              "65      P66       Persistent  Female          Asian  Not Hispanic  Midwest   \n",
              "89      P90   Non-Persistent  Female  Other/Unknown  Not Hispanic  Midwest   \n",
              "...     ...              ...     ...            ...           ...      ...   \n",
              "3384  P3385       Persistent  Female      Caucasian  Not Hispanic    South   \n",
              "3396  P3397       Persistent  Female      Caucasian  Not Hispanic    South   \n",
              "3400  P3401   Non-Persistent  Female      Caucasian  Not Hispanic     West   \n",
              "3411  P3412       Persistent  Female      Caucasian  Not Hispanic    South   \n",
              "3414  P3415       Persistent  Female      Caucasian  Not Hispanic    South   \n",
              "\n",
              "     Age_Bucket        Ntm_Speciality Ntm_Specialist_Flag  \\\n",
              "32          >75               Unknown              Others   \n",
              "33          >75  GENERAL PRACTITIONER              Others   \n",
              "62        65-75  GENERAL PRACTITIONER              Others   \n",
              "65        65-75  GENERAL PRACTITIONER              Others   \n",
              "89        65-75  GENERAL PRACTITIONER              Others   \n",
              "...         ...                   ...                 ...   \n",
              "3384        >75    ORTHOPEDIC SURGERY              Others   \n",
              "3396      65-75  GENERAL PRACTITIONER              Others   \n",
              "3400      55-65  GENERAL PRACTITIONER              Others   \n",
              "3411      65-75  GENERAL PRACTITIONER              Others   \n",
              "3414        >75  GENERAL PRACTITIONER              Others   \n",
              "\n",
              "          Ntm_Speciality_Bucket  ... Risk_Family_History_Of_Osteoporosis  \\\n",
              "32    OB/GYN/Others/PCP/Unknown  ...                                   N   \n",
              "33    OB/GYN/Others/PCP/Unknown  ...                                   N   \n",
              "62    OB/GYN/Others/PCP/Unknown  ...                                   N   \n",
              "65    OB/GYN/Others/PCP/Unknown  ...                                   N   \n",
              "89    OB/GYN/Others/PCP/Unknown  ...                                   Y   \n",
              "...                         ...  ...                                 ...   \n",
              "3384  OB/GYN/Others/PCP/Unknown  ...                                   Y   \n",
              "3396  OB/GYN/Others/PCP/Unknown  ...                                   N   \n",
              "3400  OB/GYN/Others/PCP/Unknown  ...                                   N   \n",
              "3411  OB/GYN/Others/PCP/Unknown  ...                                   N   \n",
              "3414  OB/GYN/Others/PCP/Unknown  ...                                   N   \n",
              "\n",
              "     Risk_Low_Calcium_Intake  Risk_Vitamin_D_Insufficiency  \\\n",
              "32                         N                             N   \n",
              "33                         N                             N   \n",
              "62                         N                             N   \n",
              "65                         N                             N   \n",
              "89                         N                             Y   \n",
              "...                      ...                           ...   \n",
              "3384                       N                             Y   \n",
              "3396                       N                             Y   \n",
              "3400                       N                             N   \n",
              "3411                       N                             Y   \n",
              "3414                       N                             N   \n",
              "\n",
              "     Risk_Poor_Health_Frailty Risk_Excessive_Thinness  \\\n",
              "32                          N                       N   \n",
              "33                          N                       N   \n",
              "62                          N                       N   \n",
              "65                          N                       N   \n",
              "89                          N                       N   \n",
              "...                       ...                     ...   \n",
              "3384                        N                       N   \n",
              "3396                        N                       N   \n",
              "3400                        N                       N   \n",
              "3411                        N                       N   \n",
              "3414                        N                       N   \n",
              "\n",
              "     Risk_Hysterectomy_Oophorectomy Risk_Estrogen_Deficiency  \\\n",
              "32                                N                        N   \n",
              "33                                N                        N   \n",
              "62                                N                        N   \n",
              "65                                N                        N   \n",
              "89                                N                        N   \n",
              "...                             ...                      ...   \n",
              "3384                              N                        N   \n",
              "3396                              N                        N   \n",
              "3400                              N                        N   \n",
              "3411                              N                        N   \n",
              "3414                              N                        N   \n",
              "\n",
              "     Risk_Immobilization Risk_Recurring_Falls Count_Of_Risks  \n",
              "32                     N                    N              0  \n",
              "33                     N                    N              0  \n",
              "62                     N                    N              0  \n",
              "65                     N                    N              2  \n",
              "89                     N                    N              3  \n",
              "...                  ...                  ...            ...  \n",
              "3384                   N                    N              2  \n",
              "3396                   N                    N              1  \n",
              "3400                   N                    N              2  \n",
              "3411                   N                    N              1  \n",
              "3414                   N                    N              0  \n",
              "\n",
              "[460 rows x 69 columns]"
            ]
          },
          "metadata": {
            "tags": []
          },
          "execution_count": 115
        }
      ]
    },
    {
      "cell_type": "code",
      "metadata": {
        "id": "75e08c4a",
        "outputId": "5f58f86e-b751-42e5-de9d-0b5c120007ed"
      },
      "source": [
        "df[outlier_dexa].index"
      ],
      "id": "75e08c4a",
      "execution_count": null,
      "outputs": [
        {
          "output_type": "execute_result",
          "data": {
            "text/plain": [
              "Int64Index([  32,   33,   62,   65,   89,  101,  110,  116,  164,  180,\n",
              "            ...\n",
              "            3311, 3325, 3363, 3378, 3382, 3384, 3396, 3400, 3411, 3414],\n",
              "           dtype='int64', length=460)"
            ]
          },
          "metadata": {
            "tags": []
          },
          "execution_count": 116
        }
      ]
    },
    {
      "cell_type": "markdown",
      "metadata": {
        "id": "07554297"
      },
      "source": [
        "## Computing the number of outliers:"
      ],
      "id": "07554297"
    },
    {
      "cell_type": "code",
      "metadata": {
        "id": "021beaf3",
        "outputId": "8beba1ae-7709-4519-e1e7-b9ac04efd399"
      },
      "source": [
        "type(outlier_dexa)"
      ],
      "id": "021beaf3",
      "execution_count": null,
      "outputs": [
        {
          "output_type": "execute_result",
          "data": {
            "text/plain": [
              "pandas.core.series.Series"
            ]
          },
          "metadata": {
            "tags": []
          },
          "execution_count": 120
        }
      ]
    },
    {
      "cell_type": "code",
      "metadata": {
        "id": "890e2ead"
      },
      "source": [
        "outlier_dexa=pd.DataFrame(outlier_dexa)"
      ],
      "id": "890e2ead",
      "execution_count": null,
      "outputs": []
    },
    {
      "cell_type": "code",
      "metadata": {
        "id": "ca6c4135",
        "outputId": "e7f3a783-cb9a-4de8-dabe-0c06c25565e2"
      },
      "source": [
        "outlier_dexa.shape"
      ],
      "id": "ca6c4135",
      "execution_count": null,
      "outputs": [
        {
          "output_type": "execute_result",
          "data": {
            "text/plain": [
              "(3424, 1)"
            ]
          },
          "metadata": {
            "tags": []
          },
          "execution_count": 122
        }
      ]
    },
    {
      "cell_type": "code",
      "metadata": {
        "scrolled": true,
        "id": "f2e3a32c",
        "outputId": "18f2e831-85bc-4576-fe64-b6bf1e5ca890"
      },
      "source": [
        "n_outlier_dexa= outlier_dexa[~ ((df_Dexa< (lower_bound)) | (df_Dexa> (upper_bound)))]\n",
        "n_outlier_dexa.shape"
      ],
      "id": "f2e3a32c",
      "execution_count": null,
      "outputs": [
        {
          "output_type": "execute_result",
          "data": {
            "text/plain": [
              "(3424, 1)"
            ]
          },
          "metadata": {
            "tags": []
          },
          "execution_count": 123
        }
      ]
    },
    {
      "cell_type": "markdown",
      "metadata": {
        "id": "02b77f08"
      },
      "source": [
        "## Conclusion: We have 3424-2964= 460 outlier variables."
      ],
      "id": "02b77f08"
    },
    {
      "cell_type": "markdown",
      "metadata": {
        "id": "0cbf604a"
      },
      "source": [
        "## Outliers for Count of Risks:\n"
      ],
      "id": "0cbf604a"
    },
    {
      "cell_type": "code",
      "metadata": {
        "id": "59bbbea3"
      },
      "source": [
        "df_Risks=df[\"Count_Of_Risks\"]"
      ],
      "id": "59bbbea3",
      "execution_count": null,
      "outputs": []
    },
    {
      "cell_type": "code",
      "metadata": {
        "id": "d1631c07",
        "outputId": "00432db1-1534-4cc0-8fc9-4fe42084ce1e"
      },
      "source": [
        "sns.boxplot(x=df_Risks)"
      ],
      "id": "d1631c07",
      "execution_count": null,
      "outputs": [
        {
          "output_type": "execute_result",
          "data": {
            "text/plain": [
              "<AxesSubplot:xlabel='Count_Of_Risks'>"
            ]
          },
          "metadata": {
            "tags": []
          },
          "execution_count": 125
        },
        {
          "output_type": "display_data",
          "data": {
            "image/png": "[encoded data removed]",
            "text/plain": [
              "<Figure size 432x288 with 1 Axes>"
            ]
          },
          "metadata": {
            "tags": [],
            "needs_background": "light"
          }
        }
      ]
    },
    {
      "cell_type": "code",
      "metadata": {
        "id": "97a3c99f"
      },
      "source": [
        "Q1=df_Risks.quantile(0.25)\n",
        "Q3=df_Risks.quantile(0.75)\n",
        "IQR=Q3-Q1"
      ],
      "id": "97a3c99f",
      "execution_count": null,
      "outputs": []
    },
    {
      "cell_type": "code",
      "metadata": {
        "id": "367784da"
      },
      "source": [
        "lower_bound= Q1-1.5*IQR\n",
        "upper_bound= Q3+ 1.5*IQR"
      ],
      "id": "367784da",
      "execution_count": null,
      "outputs": []
    },
    {
      "cell_type": "code",
      "metadata": {
        "id": "da39b200",
        "outputId": "885a2bf2-8eaa-4b55-d12e-6a68b7e09528"
      },
      "source": [
        "outlier_risks= (df_Risks< lower_bound) | (df_Risks> upper_bound)\n",
        "outlier_risks.head()"
      ],
      "id": "da39b200",
      "execution_count": null,
      "outputs": [
        {
          "output_type": "execute_result",
          "data": {
            "text/plain": [
              "0    False\n",
              "1    False\n",
              "2    False\n",
              "3    False\n",
              "4    False\n",
              "Name: Count_Of_Risks, dtype: bool"
            ]
          },
          "metadata": {
            "tags": []
          },
          "execution_count": 128
        }
      ]
    },
    {
      "cell_type": "code",
      "metadata": {
        "id": "2e71c968",
        "outputId": "535a751e-d96f-4b34-86e5-45123fb81c2a"
      },
      "source": [
        "df[outlier_risks]"
      ],
      "id": "2e71c968",
      "execution_count": null,
      "outputs": [
        {
          "output_type": "execute_result",
          "data": {
            "text/html": [
              "<div>\n",
              "<style scoped>\n",
              "    .dataframe tbody tr th:only-of-type {\n",
              "        vertical-align: middle;\n",
              "    }\n",
              "\n",
              "    .dataframe tbody tr th {\n",
              "        vertical-align: top;\n",
              "    }\n",
              "\n",
              "    .dataframe thead th {\n",
              "        text-align: right;\n",
              "    }\n",
              "</style>\n",
              "<table border=\"1\" class=\"dataframe\">\n",
              "  <thead>\n",
              "    <tr style=\"text-align: right;\">\n",
              "      <th></th>\n",
              "      <th>Ptid</th>\n",
              "      <th>Persistency_Flag</th>\n",
              "      <th>Gender</th>\n",
              "      <th>Race</th>\n",
              "      <th>Ethnicity</th>\n",
              "      <th>Region</th>\n",
              "      <th>Age_Bucket</th>\n",
              "      <th>Ntm_Speciality</th>\n",
              "      <th>Ntm_Specialist_Flag</th>\n",
              "      <th>Ntm_Speciality_Bucket</th>\n",
              "      <th>...</th>\n",
              "      <th>Risk_Family_History_Of_Osteoporosis</th>\n",
              "      <th>Risk_Low_Calcium_Intake</th>\n",
              "      <th>Risk_Vitamin_D_Insufficiency</th>\n",
              "      <th>Risk_Poor_Health_Frailty</th>\n",
              "      <th>Risk_Excessive_Thinness</th>\n",
              "      <th>Risk_Hysterectomy_Oophorectomy</th>\n",
              "      <th>Risk_Estrogen_Deficiency</th>\n",
              "      <th>Risk_Immobilization</th>\n",
              "      <th>Risk_Recurring_Falls</th>\n",
              "      <th>Count_Of_Risks</th>\n",
              "    </tr>\n",
              "  </thead>\n",
              "  <tbody>\n",
              "    <tr>\n",
              "      <th>342</th>\n",
              "      <td>P343</td>\n",
              "      <td>Persistent</td>\n",
              "      <td>Female</td>\n",
              "      <td>Caucasian</td>\n",
              "      <td>Not Hispanic</td>\n",
              "      <td>South</td>\n",
              "      <td>&gt;75</td>\n",
              "      <td>ENDOCRINOLOGY</td>\n",
              "      <td>Specialist</td>\n",
              "      <td>Endo/Onc/Uro</td>\n",
              "      <td>...</td>\n",
              "      <td>Y</td>\n",
              "      <td>N</td>\n",
              "      <td>Y</td>\n",
              "      <td>Y</td>\n",
              "      <td>N</td>\n",
              "      <td>N</td>\n",
              "      <td>N</td>\n",
              "      <td>N</td>\n",
              "      <td>N</td>\n",
              "      <td>6</td>\n",
              "    </tr>\n",
              "    <tr>\n",
              "      <th>817</th>\n",
              "      <td>P818</td>\n",
              "      <td>Persistent</td>\n",
              "      <td>Female</td>\n",
              "      <td>African American</td>\n",
              "      <td>Not Hispanic</td>\n",
              "      <td>South</td>\n",
              "      <td>55-65</td>\n",
              "      <td>GENERAL PRACTITIONER</td>\n",
              "      <td>Others</td>\n",
              "      <td>OB/GYN/Others/PCP/Unknown</td>\n",
              "      <td>...</td>\n",
              "      <td>Y</td>\n",
              "      <td>N</td>\n",
              "      <td>Y</td>\n",
              "      <td>Y</td>\n",
              "      <td>N</td>\n",
              "      <td>N</td>\n",
              "      <td>N</td>\n",
              "      <td>N</td>\n",
              "      <td>N</td>\n",
              "      <td>7</td>\n",
              "    </tr>\n",
              "    <tr>\n",
              "      <th>1059</th>\n",
              "      <td>P1060</td>\n",
              "      <td>Non-Persistent</td>\n",
              "      <td>Female</td>\n",
              "      <td>Caucasian</td>\n",
              "      <td>Not Hispanic</td>\n",
              "      <td>South</td>\n",
              "      <td>65-75</td>\n",
              "      <td>GENERAL PRACTITIONER</td>\n",
              "      <td>Others</td>\n",
              "      <td>OB/GYN/Others/PCP/Unknown</td>\n",
              "      <td>...</td>\n",
              "      <td>N</td>\n",
              "      <td>N</td>\n",
              "      <td>Y</td>\n",
              "      <td>Y</td>\n",
              "      <td>Y</td>\n",
              "      <td>N</td>\n",
              "      <td>N</td>\n",
              "      <td>N</td>\n",
              "      <td>Y</td>\n",
              "      <td>7</td>\n",
              "    </tr>\n",
              "    <tr>\n",
              "      <th>2601</th>\n",
              "      <td>P2602</td>\n",
              "      <td>Non-Persistent</td>\n",
              "      <td>Female</td>\n",
              "      <td>Caucasian</td>\n",
              "      <td>Not Hispanic</td>\n",
              "      <td>West</td>\n",
              "      <td>65-75</td>\n",
              "      <td>RHEUMATOLOGY</td>\n",
              "      <td>Specialist</td>\n",
              "      <td>Rheum</td>\n",
              "      <td>...</td>\n",
              "      <td>N</td>\n",
              "      <td>N</td>\n",
              "      <td>Y</td>\n",
              "      <td>Y</td>\n",
              "      <td>Y</td>\n",
              "      <td>N</td>\n",
              "      <td>N</td>\n",
              "      <td>N</td>\n",
              "      <td>Y</td>\n",
              "      <td>6</td>\n",
              "    </tr>\n",
              "    <tr>\n",
              "      <th>2860</th>\n",
              "      <td>P2861</td>\n",
              "      <td>Non-Persistent</td>\n",
              "      <td>Male</td>\n",
              "      <td>Caucasian</td>\n",
              "      <td>Not Hispanic</td>\n",
              "      <td>Northeast</td>\n",
              "      <td>65-75</td>\n",
              "      <td>RHEUMATOLOGY</td>\n",
              "      <td>Specialist</td>\n",
              "      <td>Rheum</td>\n",
              "      <td>...</td>\n",
              "      <td>Y</td>\n",
              "      <td>N</td>\n",
              "      <td>Y</td>\n",
              "      <td>N</td>\n",
              "      <td>N</td>\n",
              "      <td>N</td>\n",
              "      <td>N</td>\n",
              "      <td>N</td>\n",
              "      <td>N</td>\n",
              "      <td>6</td>\n",
              "    </tr>\n",
              "    <tr>\n",
              "      <th>3045</th>\n",
              "      <td>P3046</td>\n",
              "      <td>Persistent</td>\n",
              "      <td>Female</td>\n",
              "      <td>Other/Unknown</td>\n",
              "      <td>Unknown</td>\n",
              "      <td>Midwest</td>\n",
              "      <td>55-65</td>\n",
              "      <td>RHEUMATOLOGY</td>\n",
              "      <td>Specialist</td>\n",
              "      <td>Rheum</td>\n",
              "      <td>...</td>\n",
              "      <td>Y</td>\n",
              "      <td>N</td>\n",
              "      <td>Y</td>\n",
              "      <td>N</td>\n",
              "      <td>N</td>\n",
              "      <td>N</td>\n",
              "      <td>N</td>\n",
              "      <td>N</td>\n",
              "      <td>N</td>\n",
              "      <td>6</td>\n",
              "    </tr>\n",
              "    <tr>\n",
              "      <th>3146</th>\n",
              "      <td>P3147</td>\n",
              "      <td>Non-Persistent</td>\n",
              "      <td>Female</td>\n",
              "      <td>Caucasian</td>\n",
              "      <td>Not Hispanic</td>\n",
              "      <td>Midwest</td>\n",
              "      <td>&lt;55</td>\n",
              "      <td>RHEUMATOLOGY</td>\n",
              "      <td>Specialist</td>\n",
              "      <td>Rheum</td>\n",
              "      <td>...</td>\n",
              "      <td>N</td>\n",
              "      <td>Y</td>\n",
              "      <td>Y</td>\n",
              "      <td>Y</td>\n",
              "      <td>N</td>\n",
              "      <td>N</td>\n",
              "      <td>N</td>\n",
              "      <td>N</td>\n",
              "      <td>N</td>\n",
              "      <td>6</td>\n",
              "    </tr>\n",
              "    <tr>\n",
              "      <th>3340</th>\n",
              "      <td>P3341</td>\n",
              "      <td>Persistent</td>\n",
              "      <td>Female</td>\n",
              "      <td>Caucasian</td>\n",
              "      <td>Not Hispanic</td>\n",
              "      <td>Northeast</td>\n",
              "      <td>&gt;75</td>\n",
              "      <td>ENDOCRINOLOGY</td>\n",
              "      <td>Specialist</td>\n",
              "      <td>Endo/Onc/Uro</td>\n",
              "      <td>...</td>\n",
              "      <td>Y</td>\n",
              "      <td>N</td>\n",
              "      <td>N</td>\n",
              "      <td>N</td>\n",
              "      <td>N</td>\n",
              "      <td>N</td>\n",
              "      <td>N</td>\n",
              "      <td>N</td>\n",
              "      <td>N</td>\n",
              "      <td>6</td>\n",
              "    </tr>\n",
              "  </tbody>\n",
              "</table>\n",
              "<p>8 rows × 69 columns</p>\n",
              "</div>"
            ],
            "text/plain": [
              "       Ptid Persistency_Flag  Gender              Race     Ethnicity  \\\n",
              "342    P343       Persistent  Female         Caucasian  Not Hispanic   \n",
              "817    P818       Persistent  Female  African American  Not Hispanic   \n",
              "1059  P1060   Non-Persistent  Female         Caucasian  Not Hispanic   \n",
              "2601  P2602   Non-Persistent  Female         Caucasian  Not Hispanic   \n",
              "2860  P2861   Non-Persistent    Male         Caucasian  Not Hispanic   \n",
              "3045  P3046       Persistent  Female     Other/Unknown       Unknown   \n",
              "3146  P3147   Non-Persistent  Female         Caucasian  Not Hispanic   \n",
              "3340  P3341       Persistent  Female         Caucasian  Not Hispanic   \n",
              "\n",
              "         Region Age_Bucket        Ntm_Speciality Ntm_Specialist_Flag  \\\n",
              "342       South        >75         ENDOCRINOLOGY          Specialist   \n",
              "817       South      55-65  GENERAL PRACTITIONER              Others   \n",
              "1059      South      65-75  GENERAL PRACTITIONER              Others   \n",
              "2601       West      65-75          RHEUMATOLOGY          Specialist   \n",
              "2860  Northeast      65-75          RHEUMATOLOGY          Specialist   \n",
              "3045    Midwest      55-65          RHEUMATOLOGY          Specialist   \n",
              "3146    Midwest        <55          RHEUMATOLOGY          Specialist   \n",
              "3340  Northeast        >75         ENDOCRINOLOGY          Specialist   \n",
              "\n",
              "          Ntm_Speciality_Bucket  ... Risk_Family_History_Of_Osteoporosis  \\\n",
              "342                Endo/Onc/Uro  ...                                   Y   \n",
              "817   OB/GYN/Others/PCP/Unknown  ...                                   Y   \n",
              "1059  OB/GYN/Others/PCP/Unknown  ...                                   N   \n",
              "2601                      Rheum  ...                                   N   \n",
              "2860                      Rheum  ...                                   Y   \n",
              "3045                      Rheum  ...                                   Y   \n",
              "3146                      Rheum  ...                                   N   \n",
              "3340               Endo/Onc/Uro  ...                                   Y   \n",
              "\n",
              "     Risk_Low_Calcium_Intake  Risk_Vitamin_D_Insufficiency  \\\n",
              "342                        N                             Y   \n",
              "817                        N                             Y   \n",
              "1059                       N                             Y   \n",
              "2601                       N                             Y   \n",
              "2860                       N                             Y   \n",
              "3045                       N                             Y   \n",
              "3146                       Y                             Y   \n",
              "3340                       N                             N   \n",
              "\n",
              "     Risk_Poor_Health_Frailty Risk_Excessive_Thinness  \\\n",
              "342                         Y                       N   \n",
              "817                         Y                       N   \n",
              "1059                        Y                       Y   \n",
              "2601                        Y                       Y   \n",
              "2860                        N                       N   \n",
              "3045                        N                       N   \n",
              "3146                        Y                       N   \n",
              "3340                        N                       N   \n",
              "\n",
              "     Risk_Hysterectomy_Oophorectomy Risk_Estrogen_Deficiency  \\\n",
              "342                               N                        N   \n",
              "817                               N                        N   \n",
              "1059                              N                        N   \n",
              "2601                              N                        N   \n",
              "2860                              N                        N   \n",
              "3045                              N                        N   \n",
              "3146                              N                        N   \n",
              "3340                              N                        N   \n",
              "\n",
              "     Risk_Immobilization Risk_Recurring_Falls Count_Of_Risks  \n",
              "342                    N                    N              6  \n",
              "817                    N                    N              7  \n",
              "1059                   N                    Y              7  \n",
              "2601                   N                    Y              6  \n",
              "2860                   N                    N              6  \n",
              "3045                   N                    N              6  \n",
              "3146                   N                    N              6  \n",
              "3340                   N                    N              6  \n",
              "\n",
              "[8 rows x 69 columns]"
            ]
          },
          "metadata": {
            "tags": []
          },
          "execution_count": 129
        }
      ]
    },
    {
      "cell_type": "code",
      "metadata": {
        "id": "c673e46b",
        "outputId": "903de414-38ad-4b53-f6e4-3728fa41fe66"
      },
      "source": [
        "df[outlier_risks].index"
      ],
      "id": "c673e46b",
      "execution_count": null,
      "outputs": [
        {
          "output_type": "execute_result",
          "data": {
            "text/plain": [
              "Int64Index([342, 817, 1059, 2601, 2860, 3045, 3146, 3340], dtype='int64')"
            ]
          },
          "metadata": {
            "tags": []
          },
          "execution_count": 130
        }
      ]
    },
    {
      "cell_type": "markdown",
      "metadata": {
        "id": "12de552a"
      },
      "source": [
        "## Conclusion: We have 8 outlier variables."
      ],
      "id": "12de552a"
    },
    {
      "cell_type": "code",
      "metadata": {
        "id": "3813e19d",
        "outputId": "72669ceb-8439-46d1-e17b-cd193e8f8d71"
      },
      "source": [
        "#solving the outliers for Count Of Risks\n",
        "df_Risks[outlier_risks]"
      ],
      "id": "3813e19d",
      "execution_count": null,
      "outputs": [
        {
          "output_type": "execute_result",
          "data": {
            "text/plain": [
              "342     6\n",
              "817     7\n",
              "1059    7\n",
              "2601    6\n",
              "2860    6\n",
              "3045    6\n",
              "3146    6\n",
              "3340    6\n",
              "Name: Count_Of_Risks, dtype: int64"
            ]
          },
          "metadata": {
            "tags": []
          },
          "execution_count": 131
        }
      ]
    },
    {
      "cell_type": "code",
      "metadata": {
        "id": "437d20b5",
        "outputId": "b4b76445-92c6-4f98-df6a-23eb11cfd556"
      },
      "source": [
        "upper_bound"
      ],
      "id": "437d20b5",
      "execution_count": null,
      "outputs": [
        {
          "output_type": "execute_result",
          "data": {
            "text/plain": [
              "5.0"
            ]
          },
          "metadata": {
            "tags": []
          },
          "execution_count": 132
        }
      ]
    },
    {
      "cell_type": "code",
      "metadata": {
        "id": "2f928c18",
        "outputId": "9704692b-1b0d-45ac-829f-d8e26c194d8f"
      },
      "source": [
        "df_Risks[outlier_risks]=upper_bound"
      ],
      "id": "2f928c18",
      "execution_count": null,
      "outputs": [
        {
          "output_type": "stream",
          "text": [
            "<ipython-input-133-16770f3f4266>:1: SettingWithCopyWarning: \n",
            "A value is trying to be set on a copy of a slice from a DataFrame\n",
            "\n",
            "See the caveats in the documentation: https://pandas.pydata.org/pandas-docs/stable/user_guide/indexing.html#returning-a-view-versus-a-copy\n",
            "  df_Risks[outlier_risks]=upper_bound\n"
          ],
          "name": "stderr"
        }
      ]
    },
    {
      "cell_type": "code",
      "metadata": {
        "id": "f96b3c62",
        "outputId": "ad082ab2-02ff-41ca-9331-2af073452b32"
      },
      "source": [
        "#checking whether we have changed successfully\n",
        "df_Risks[outlier_risks]"
      ],
      "id": "f96b3c62",
      "execution_count": null,
      "outputs": [
        {
          "output_type": "execute_result",
          "data": {
            "text/plain": [
              "342     5\n",
              "817     5\n",
              "1059    5\n",
              "2601    5\n",
              "2860    5\n",
              "3045    5\n",
              "3146    5\n",
              "3340    5\n",
              "Name: Count_Of_Risks, dtype: int64"
            ]
          },
          "metadata": {
            "tags": []
          },
          "execution_count": 134
        }
      ]
    }
  ]
}