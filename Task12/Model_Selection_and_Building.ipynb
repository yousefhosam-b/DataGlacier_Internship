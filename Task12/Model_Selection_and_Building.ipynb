{
 "cells": [
  {
   "cell_type": "markdown",
   "id": "3346df7d",
   "metadata": {
    "id": "3346df7d"
   },
   "source": [
    "## Importing libraries"
   ]
  },
  {
   "cell_type": "code",
   "execution_count": null,
   "id": "377ed18a",
   "metadata": {
    "id": "377ed18a"
   },
   "outputs": [],
   "source": [
    "import numpy as np\n",
    "import pandas as pd\n",
    "import seaborn as sns\n",
    "from matplotlib import pyplot as plt\n",
    "import scipy.stats as stats\n",
    "from matplotlib.pyplot import figure\n",
    "from sklearn.preprocessing import LabelEncoder\n",
    "from sklearn.feature_selection import SelectKBest\n",
    "from sklearn.feature_selection import chi2\n",
    "from matplotlib import pyplot\n",
    "from sklearn.feature_selection import mutual_info_classif"
   ]
  },
  {
   "cell_type": "markdown",
   "id": "bdf4bf04",
   "metadata": {
    "id": "bdf4bf04"
   },
   "source": [
    "## Reading the Data"
   ]
  },
  {
   "cell_type": "code",
   "execution_count": null,
   "id": "0ef63387",
   "metadata": {
    "id": "0ef63387",
    "outputId": "3374b96e-5384-4dae-d035-d4fb93414d84"
   },
   "outputs": [
    {
     "name": "stdout",
     "output_type": "stream",
     "text": [
      "Data imported successfully!\n"
     ]
    }
   ],
   "source": [
    "dataset= pd.read_excel(r\"C:\\Users\\hmeli\\OneDrive\\Masaüstü\\DataGlacierDataSets\\Project\\Healthcaredata.xlsx\")\n",
    "df=dataset.copy()\n",
    "print(\"Data imported successfully!\")"
   ]
  },
  {
   "cell_type": "markdown",
   "id": "195efc6e",
   "metadata": {
    "id": "195efc6e"
   },
   "source": [
    "## Properties of the Dataset"
   ]
  },
  {
   "cell_type": "code",
   "execution_count": null,
   "id": "b7325aae",
   "metadata": {
    "id": "b7325aae",
    "outputId": "477c9608-dd50-4965-c017-51a6394a7598"
   },
   "outputs": [
    {
     "data": {
      "text/html": [
       "<div>\n",
       "<style scoped>\n",
       "    .dataframe tbody tr th:only-of-type {\n",
       "        vertical-align: middle;\n",
       "    }\n",
       "\n",
       "    .dataframe tbody tr th {\n",
       "        vertical-align: top;\n",
       "    }\n",
       "\n",
       "    .dataframe thead th {\n",
       "        text-align: right;\n",
       "    }\n",
       "</style>\n",
       "<table border=\"1\" class=\"dataframe\">\n",
       "  <thead>\n",
       "    <tr style=\"text-align: right;\">\n",
       "      <th></th>\n",
       "      <th>Ptid</th>\n",
       "      <th>Persistency_Flag</th>\n",
       "      <th>Gender</th>\n",
       "      <th>Race</th>\n",
       "      <th>Ethnicity</th>\n",
       "      <th>Region</th>\n",
       "      <th>Age_Bucket</th>\n",
       "      <th>Ntm_Speciality</th>\n",
       "      <th>Ntm_Specialist_Flag</th>\n",
       "      <th>Ntm_Speciality_Bucket</th>\n",
       "      <th>...</th>\n",
       "      <th>Risk_Family_History_Of_Osteoporosis</th>\n",
       "      <th>Risk_Low_Calcium_Intake</th>\n",
       "      <th>Risk_Vitamin_D_Insufficiency</th>\n",
       "      <th>Risk_Poor_Health_Frailty</th>\n",
       "      <th>Risk_Excessive_Thinness</th>\n",
       "      <th>Risk_Hysterectomy_Oophorectomy</th>\n",
       "      <th>Risk_Estrogen_Deficiency</th>\n",
       "      <th>Risk_Immobilization</th>\n",
       "      <th>Risk_Recurring_Falls</th>\n",
       "      <th>Count_Of_Risks</th>\n",
       "    </tr>\n",
       "  </thead>\n",
       "  <tbody>\n",
       "    <tr>\n",
       "      <th>0</th>\n",
       "      <td>P1</td>\n",
       "      <td>Persistent</td>\n",
       "      <td>Male</td>\n",
       "      <td>Caucasian</td>\n",
       "      <td>Not Hispanic</td>\n",
       "      <td>West</td>\n",
       "      <td>&gt;75</td>\n",
       "      <td>GENERAL PRACTITIONER</td>\n",
       "      <td>Others</td>\n",
       "      <td>OB/GYN/Others/PCP/Unknown</td>\n",
       "      <td>...</td>\n",
       "      <td>N</td>\n",
       "      <td>N</td>\n",
       "      <td>N</td>\n",
       "      <td>N</td>\n",
       "      <td>N</td>\n",
       "      <td>N</td>\n",
       "      <td>N</td>\n",
       "      <td>N</td>\n",
       "      <td>N</td>\n",
       "      <td>0</td>\n",
       "    </tr>\n",
       "    <tr>\n",
       "      <th>1</th>\n",
       "      <td>P2</td>\n",
       "      <td>Non-Persistent</td>\n",
       "      <td>Male</td>\n",
       "      <td>Asian</td>\n",
       "      <td>Not Hispanic</td>\n",
       "      <td>West</td>\n",
       "      <td>55-65</td>\n",
       "      <td>GENERAL PRACTITIONER</td>\n",
       "      <td>Others</td>\n",
       "      <td>OB/GYN/Others/PCP/Unknown</td>\n",
       "      <td>...</td>\n",
       "      <td>N</td>\n",
       "      <td>N</td>\n",
       "      <td>N</td>\n",
       "      <td>N</td>\n",
       "      <td>N</td>\n",
       "      <td>N</td>\n",
       "      <td>N</td>\n",
       "      <td>N</td>\n",
       "      <td>N</td>\n",
       "      <td>0</td>\n",
       "    </tr>\n",
       "    <tr>\n",
       "      <th>2</th>\n",
       "      <td>P3</td>\n",
       "      <td>Non-Persistent</td>\n",
       "      <td>Female</td>\n",
       "      <td>Other/Unknown</td>\n",
       "      <td>Hispanic</td>\n",
       "      <td>Midwest</td>\n",
       "      <td>65-75</td>\n",
       "      <td>GENERAL PRACTITIONER</td>\n",
       "      <td>Others</td>\n",
       "      <td>OB/GYN/Others/PCP/Unknown</td>\n",
       "      <td>...</td>\n",
       "      <td>N</td>\n",
       "      <td>Y</td>\n",
       "      <td>N</td>\n",
       "      <td>N</td>\n",
       "      <td>N</td>\n",
       "      <td>N</td>\n",
       "      <td>N</td>\n",
       "      <td>N</td>\n",
       "      <td>N</td>\n",
       "      <td>2</td>\n",
       "    </tr>\n",
       "    <tr>\n",
       "      <th>3</th>\n",
       "      <td>P4</td>\n",
       "      <td>Non-Persistent</td>\n",
       "      <td>Female</td>\n",
       "      <td>Caucasian</td>\n",
       "      <td>Not Hispanic</td>\n",
       "      <td>Midwest</td>\n",
       "      <td>&gt;75</td>\n",
       "      <td>GENERAL PRACTITIONER</td>\n",
       "      <td>Others</td>\n",
       "      <td>OB/GYN/Others/PCP/Unknown</td>\n",
       "      <td>...</td>\n",
       "      <td>N</td>\n",
       "      <td>N</td>\n",
       "      <td>N</td>\n",
       "      <td>N</td>\n",
       "      <td>N</td>\n",
       "      <td>N</td>\n",
       "      <td>N</td>\n",
       "      <td>N</td>\n",
       "      <td>N</td>\n",
       "      <td>1</td>\n",
       "    </tr>\n",
       "    <tr>\n",
       "      <th>4</th>\n",
       "      <td>P5</td>\n",
       "      <td>Non-Persistent</td>\n",
       "      <td>Female</td>\n",
       "      <td>Caucasian</td>\n",
       "      <td>Not Hispanic</td>\n",
       "      <td>Midwest</td>\n",
       "      <td>&gt;75</td>\n",
       "      <td>GENERAL PRACTITIONER</td>\n",
       "      <td>Others</td>\n",
       "      <td>OB/GYN/Others/PCP/Unknown</td>\n",
       "      <td>...</td>\n",
       "      <td>N</td>\n",
       "      <td>N</td>\n",
       "      <td>N</td>\n",
       "      <td>N</td>\n",
       "      <td>N</td>\n",
       "      <td>N</td>\n",
       "      <td>N</td>\n",
       "      <td>N</td>\n",
       "      <td>N</td>\n",
       "      <td>1</td>\n",
       "    </tr>\n",
       "  </tbody>\n",
       "</table>\n",
       "<p>5 rows × 69 columns</p>\n",
       "</div>"
      ],
      "text/plain": [
       "  Ptid Persistency_Flag  Gender           Race     Ethnicity   Region  \\\n",
       "0   P1       Persistent    Male      Caucasian  Not Hispanic     West   \n",
       "1   P2   Non-Persistent    Male          Asian  Not Hispanic     West   \n",
       "2   P3   Non-Persistent  Female  Other/Unknown      Hispanic  Midwest   \n",
       "3   P4   Non-Persistent  Female      Caucasian  Not Hispanic  Midwest   \n",
       "4   P5   Non-Persistent  Female      Caucasian  Not Hispanic  Midwest   \n",
       "\n",
       "  Age_Bucket        Ntm_Speciality Ntm_Specialist_Flag  \\\n",
       "0        >75  GENERAL PRACTITIONER              Others   \n",
       "1      55-65  GENERAL PRACTITIONER              Others   \n",
       "2      65-75  GENERAL PRACTITIONER              Others   \n",
       "3        >75  GENERAL PRACTITIONER              Others   \n",
       "4        >75  GENERAL PRACTITIONER              Others   \n",
       "\n",
       "       Ntm_Speciality_Bucket  ... Risk_Family_History_Of_Osteoporosis  \\\n",
       "0  OB/GYN/Others/PCP/Unknown  ...                                   N   \n",
       "1  OB/GYN/Others/PCP/Unknown  ...                                   N   \n",
       "2  OB/GYN/Others/PCP/Unknown  ...                                   N   \n",
       "3  OB/GYN/Others/PCP/Unknown  ...                                   N   \n",
       "4  OB/GYN/Others/PCP/Unknown  ...                                   N   \n",
       "\n",
       "  Risk_Low_Calcium_Intake  Risk_Vitamin_D_Insufficiency  \\\n",
       "0                       N                             N   \n",
       "1                       N                             N   \n",
       "2                       Y                             N   \n",
       "3                       N                             N   \n",
       "4                       N                             N   \n",
       "\n",
       "  Risk_Poor_Health_Frailty Risk_Excessive_Thinness  \\\n",
       "0                        N                       N   \n",
       "1                        N                       N   \n",
       "2                        N                       N   \n",
       "3                        N                       N   \n",
       "4                        N                       N   \n",
       "\n",
       "  Risk_Hysterectomy_Oophorectomy Risk_Estrogen_Deficiency Risk_Immobilization  \\\n",
       "0                              N                        N                   N   \n",
       "1                              N                        N                   N   \n",
       "2                              N                        N                   N   \n",
       "3                              N                        N                   N   \n",
       "4                              N                        N                   N   \n",
       "\n",
       "  Risk_Recurring_Falls Count_Of_Risks  \n",
       "0                    N              0  \n",
       "1                    N              0  \n",
       "2                    N              2  \n",
       "3                    N              1  \n",
       "4                    N              1  \n",
       "\n",
       "[5 rows x 69 columns]"
      ]
     },
     "execution_count": 3,
     "metadata": {
      "tags": []
     },
     "output_type": "execute_result"
    }
   ],
   "source": [
    "df.head()"
   ]
  },
  {
   "cell_type": "code",
   "execution_count": null,
   "id": "2c4aaa09",
   "metadata": {
    "id": "2c4aaa09",
    "outputId": "2dae5d38-ecb3-4cfc-b0f5-f018c3eaf7a9"
   },
   "outputs": [
    {
     "data": {
      "text/html": [
       "<div>\n",
       "<style scoped>\n",
       "    .dataframe tbody tr th:only-of-type {\n",
       "        vertical-align: middle;\n",
       "    }\n",
       "\n",
       "    .dataframe tbody tr th {\n",
       "        vertical-align: top;\n",
       "    }\n",
       "\n",
       "    .dataframe thead th {\n",
       "        text-align: right;\n",
       "    }\n",
       "</style>\n",
       "<table border=\"1\" class=\"dataframe\">\n",
       "  <thead>\n",
       "    <tr style=\"text-align: right;\">\n",
       "      <th></th>\n",
       "      <th>Ptid</th>\n",
       "      <th>Persistency_Flag</th>\n",
       "      <th>Gender</th>\n",
       "      <th>Race</th>\n",
       "      <th>Ethnicity</th>\n",
       "      <th>Region</th>\n",
       "      <th>Age_Bucket</th>\n",
       "      <th>Ntm_Speciality</th>\n",
       "      <th>Ntm_Specialist_Flag</th>\n",
       "      <th>Ntm_Speciality_Bucket</th>\n",
       "      <th>...</th>\n",
       "      <th>Risk_Family_History_Of_Osteoporosis</th>\n",
       "      <th>Risk_Low_Calcium_Intake</th>\n",
       "      <th>Risk_Vitamin_D_Insufficiency</th>\n",
       "      <th>Risk_Poor_Health_Frailty</th>\n",
       "      <th>Risk_Excessive_Thinness</th>\n",
       "      <th>Risk_Hysterectomy_Oophorectomy</th>\n",
       "      <th>Risk_Estrogen_Deficiency</th>\n",
       "      <th>Risk_Immobilization</th>\n",
       "      <th>Risk_Recurring_Falls</th>\n",
       "      <th>Count_Of_Risks</th>\n",
       "    </tr>\n",
       "  </thead>\n",
       "  <tbody>\n",
       "    <tr>\n",
       "      <th>3419</th>\n",
       "      <td>P3420</td>\n",
       "      <td>Persistent</td>\n",
       "      <td>Female</td>\n",
       "      <td>Caucasian</td>\n",
       "      <td>Not Hispanic</td>\n",
       "      <td>South</td>\n",
       "      <td>&gt;75</td>\n",
       "      <td>GENERAL PRACTITIONER</td>\n",
       "      <td>Others</td>\n",
       "      <td>OB/GYN/Others/PCP/Unknown</td>\n",
       "      <td>...</td>\n",
       "      <td>N</td>\n",
       "      <td>N</td>\n",
       "      <td>Y</td>\n",
       "      <td>N</td>\n",
       "      <td>N</td>\n",
       "      <td>N</td>\n",
       "      <td>N</td>\n",
       "      <td>N</td>\n",
       "      <td>N</td>\n",
       "      <td>1</td>\n",
       "    </tr>\n",
       "    <tr>\n",
       "      <th>3420</th>\n",
       "      <td>P3421</td>\n",
       "      <td>Persistent</td>\n",
       "      <td>Female</td>\n",
       "      <td>Caucasian</td>\n",
       "      <td>Not Hispanic</td>\n",
       "      <td>South</td>\n",
       "      <td>&gt;75</td>\n",
       "      <td>Unknown</td>\n",
       "      <td>Others</td>\n",
       "      <td>OB/GYN/Others/PCP/Unknown</td>\n",
       "      <td>...</td>\n",
       "      <td>N</td>\n",
       "      <td>N</td>\n",
       "      <td>N</td>\n",
       "      <td>N</td>\n",
       "      <td>N</td>\n",
       "      <td>N</td>\n",
       "      <td>N</td>\n",
       "      <td>N</td>\n",
       "      <td>N</td>\n",
       "      <td>0</td>\n",
       "    </tr>\n",
       "    <tr>\n",
       "      <th>3421</th>\n",
       "      <td>P3422</td>\n",
       "      <td>Persistent</td>\n",
       "      <td>Female</td>\n",
       "      <td>Caucasian</td>\n",
       "      <td>Not Hispanic</td>\n",
       "      <td>South</td>\n",
       "      <td>&gt;75</td>\n",
       "      <td>ENDOCRINOLOGY</td>\n",
       "      <td>Specialist</td>\n",
       "      <td>Endo/Onc/Uro</td>\n",
       "      <td>...</td>\n",
       "      <td>N</td>\n",
       "      <td>N</td>\n",
       "      <td>Y</td>\n",
       "      <td>N</td>\n",
       "      <td>N</td>\n",
       "      <td>N</td>\n",
       "      <td>N</td>\n",
       "      <td>N</td>\n",
       "      <td>N</td>\n",
       "      <td>1</td>\n",
       "    </tr>\n",
       "    <tr>\n",
       "      <th>3422</th>\n",
       "      <td>P3423</td>\n",
       "      <td>Non-Persistent</td>\n",
       "      <td>Female</td>\n",
       "      <td>Caucasian</td>\n",
       "      <td>Not Hispanic</td>\n",
       "      <td>South</td>\n",
       "      <td>55-65</td>\n",
       "      <td>Unknown</td>\n",
       "      <td>Others</td>\n",
       "      <td>OB/GYN/Others/PCP/Unknown</td>\n",
       "      <td>...</td>\n",
       "      <td>N</td>\n",
       "      <td>N</td>\n",
       "      <td>N</td>\n",
       "      <td>N</td>\n",
       "      <td>N</td>\n",
       "      <td>N</td>\n",
       "      <td>N</td>\n",
       "      <td>N</td>\n",
       "      <td>N</td>\n",
       "      <td>0</td>\n",
       "    </tr>\n",
       "    <tr>\n",
       "      <th>3423</th>\n",
       "      <td>P3424</td>\n",
       "      <td>Non-Persistent</td>\n",
       "      <td>Female</td>\n",
       "      <td>Caucasian</td>\n",
       "      <td>Not Hispanic</td>\n",
       "      <td>South</td>\n",
       "      <td>65-75</td>\n",
       "      <td>Unknown</td>\n",
       "      <td>Others</td>\n",
       "      <td>OB/GYN/Others/PCP/Unknown</td>\n",
       "      <td>...</td>\n",
       "      <td>N</td>\n",
       "      <td>N</td>\n",
       "      <td>Y</td>\n",
       "      <td>N</td>\n",
       "      <td>N</td>\n",
       "      <td>N</td>\n",
       "      <td>N</td>\n",
       "      <td>N</td>\n",
       "      <td>N</td>\n",
       "      <td>1</td>\n",
       "    </tr>\n",
       "  </tbody>\n",
       "</table>\n",
       "<p>5 rows × 69 columns</p>\n",
       "</div>"
      ],
      "text/plain": [
       "       Ptid Persistency_Flag  Gender       Race     Ethnicity Region  \\\n",
       "3419  P3420       Persistent  Female  Caucasian  Not Hispanic  South   \n",
       "3420  P3421       Persistent  Female  Caucasian  Not Hispanic  South   \n",
       "3421  P3422       Persistent  Female  Caucasian  Not Hispanic  South   \n",
       "3422  P3423   Non-Persistent  Female  Caucasian  Not Hispanic  South   \n",
       "3423  P3424   Non-Persistent  Female  Caucasian  Not Hispanic  South   \n",
       "\n",
       "     Age_Bucket        Ntm_Speciality Ntm_Specialist_Flag  \\\n",
       "3419        >75  GENERAL PRACTITIONER              Others   \n",
       "3420        >75               Unknown              Others   \n",
       "3421        >75         ENDOCRINOLOGY          Specialist   \n",
       "3422      55-65               Unknown              Others   \n",
       "3423      65-75               Unknown              Others   \n",
       "\n",
       "          Ntm_Speciality_Bucket  ... Risk_Family_History_Of_Osteoporosis  \\\n",
       "3419  OB/GYN/Others/PCP/Unknown  ...                                   N   \n",
       "3420  OB/GYN/Others/PCP/Unknown  ...                                   N   \n",
       "3421               Endo/Onc/Uro  ...                                   N   \n",
       "3422  OB/GYN/Others/PCP/Unknown  ...                                   N   \n",
       "3423  OB/GYN/Others/PCP/Unknown  ...                                   N   \n",
       "\n",
       "     Risk_Low_Calcium_Intake  Risk_Vitamin_D_Insufficiency  \\\n",
       "3419                       N                             Y   \n",
       "3420                       N                             N   \n",
       "3421                       N                             Y   \n",
       "3422                       N                             N   \n",
       "3423                       N                             Y   \n",
       "\n",
       "     Risk_Poor_Health_Frailty Risk_Excessive_Thinness  \\\n",
       "3419                        N                       N   \n",
       "3420                        N                       N   \n",
       "3421                        N                       N   \n",
       "3422                        N                       N   \n",
       "3423                        N                       N   \n",
       "\n",
       "     Risk_Hysterectomy_Oophorectomy Risk_Estrogen_Deficiency  \\\n",
       "3419                              N                        N   \n",
       "3420                              N                        N   \n",
       "3421                              N                        N   \n",
       "3422                              N                        N   \n",
       "3423                              N                        N   \n",
       "\n",
       "     Risk_Immobilization Risk_Recurring_Falls Count_Of_Risks  \n",
       "3419                   N                    N              1  \n",
       "3420                   N                    N              0  \n",
       "3421                   N                    N              1  \n",
       "3422                   N                    N              0  \n",
       "3423                   N                    N              1  \n",
       "\n",
       "[5 rows x 69 columns]"
      ]
     },
     "execution_count": 4,
     "metadata": {
      "tags": []
     },
     "output_type": "execute_result"
    }
   ],
   "source": [
    "df.tail()"
   ]
  },
  {
   "cell_type": "markdown",
   "id": "507e1302",
   "metadata": {
    "id": "507e1302"
   },
   "source": [
    "## Dataset information"
   ]
  },
  {
   "cell_type": "code",
   "execution_count": null,
   "id": "874847fa",
   "metadata": {
    "id": "874847fa",
    "outputId": "0742f2b3-b40f-409f-905a-6ca3bdff8b16"
   },
   "outputs": [
    {
     "name": "stdout",
     "output_type": "stream",
     "text": [
      "<class 'pandas.core.frame.DataFrame'>\n",
      "RangeIndex: 3424 entries, 0 to 3423\n",
      "Data columns (total 69 columns):\n",
      " #   Column                                                              Non-Null Count  Dtype \n",
      "---  ------                                                              --------------  ----- \n",
      " 0   Ptid                                                                3424 non-null   object\n",
      " 1   Persistency_Flag                                                    3424 non-null   object\n",
      " 2   Gender                                                              3424 non-null   object\n",
      " 3   Race                                                                3424 non-null   object\n",
      " 4   Ethnicity                                                           3424 non-null   object\n",
      " 5   Region                                                              3424 non-null   object\n",
      " 6   Age_Bucket                                                          3424 non-null   object\n",
      " 7   Ntm_Speciality                                                      3424 non-null   object\n",
      " 8   Ntm_Specialist_Flag                                                 3424 non-null   object\n",
      " 9   Ntm_Speciality_Bucket                                               3424 non-null   object\n",
      " 10  Gluco_Record_Prior_Ntm                                              3424 non-null   object\n",
      " 11  Gluco_Record_During_Rx                                              3424 non-null   object\n",
      " 12  Dexa_Freq_During_Rx                                                 3424 non-null   int64 \n",
      " 13  Dexa_During_Rx                                                      3424 non-null   object\n",
      " 14  Frag_Frac_Prior_Ntm                                                 3424 non-null   object\n",
      " 15  Frag_Frac_During_Rx                                                 3424 non-null   object\n",
      " 16  Risk_Segment_Prior_Ntm                                              3424 non-null   object\n",
      " 17  Tscore_Bucket_Prior_Ntm                                             3424 non-null   object\n",
      " 18  Risk_Segment_During_Rx                                              3424 non-null   object\n",
      " 19  Tscore_Bucket_During_Rx                                             3424 non-null   object\n",
      " 20  Change_T_Score                                                      3424 non-null   object\n",
      " 21  Change_Risk_Segment                                                 3424 non-null   object\n",
      " 22  Adherent_Flag                                                       3424 non-null   object\n",
      " 23  Idn_Indicator                                                       3424 non-null   object\n",
      " 24  Injectable_Experience_During_Rx                                     3424 non-null   object\n",
      " 25  Comorb_Encounter_For_Screening_For_Malignant_Neoplasms              3424 non-null   object\n",
      " 26  Comorb_Encounter_For_Immunization                                   3424 non-null   object\n",
      " 27  Comorb_Encntr_For_General_Exam_W_O_Complaint,_Susp_Or_Reprtd_Dx     3424 non-null   object\n",
      " 28  Comorb_Vitamin_D_Deficiency                                         3424 non-null   object\n",
      " 29  Comorb_Other_Joint_Disorder_Not_Elsewhere_Classified                3424 non-null   object\n",
      " 30  Comorb_Encntr_For_Oth_Sp_Exam_W_O_Complaint_Suspected_Or_Reprtd_Dx  3424 non-null   object\n",
      " 31  Comorb_Long_Term_Current_Drug_Therapy                               3424 non-null   object\n",
      " 32  Comorb_Dorsalgia                                                    3424 non-null   object\n",
      " 33  Comorb_Personal_History_Of_Other_Diseases_And_Conditions            3424 non-null   object\n",
      " 34  Comorb_Other_Disorders_Of_Bone_Density_And_Structure                3424 non-null   object\n",
      " 35  Comorb_Disorders_of_lipoprotein_metabolism_and_other_lipidemias     3424 non-null   object\n",
      " 36  Comorb_Osteoporosis_without_current_pathological_fracture           3424 non-null   object\n",
      " 37  Comorb_Personal_history_of_malignant_neoplasm                       3424 non-null   object\n",
      " 38  Comorb_Gastro_esophageal_reflux_disease                             3424 non-null   object\n",
      " 39  Concom_Cholesterol_And_Triglyceride_Regulating_Preparations         3424 non-null   object\n",
      " 40  Concom_Narcotics                                                    3424 non-null   object\n",
      " 41  Concom_Systemic_Corticosteroids_Plain                               3424 non-null   object\n",
      " 42  Concom_Anti_Depressants_And_Mood_Stabilisers                        3424 non-null   object\n",
      " 43  Concom_Fluoroquinolones                                             3424 non-null   object\n",
      " 44  Concom_Cephalosporins                                               3424 non-null   object\n",
      " 45  Concom_Macrolides_And_Similar_Types                                 3424 non-null   object\n",
      " 46  Concom_Broad_Spectrum_Penicillins                                   3424 non-null   object\n",
      " 47  Concom_Anaesthetics_General                                         3424 non-null   object\n",
      " 48  Concom_Viral_Vaccines                                               3424 non-null   object\n",
      " 49  Risk_Type_1_Insulin_Dependent_Diabetes                              3424 non-null   object\n",
      " 50  Risk_Osteogenesis_Imperfecta                                        3424 non-null   object\n",
      " 51  Risk_Rheumatoid_Arthritis                                           3424 non-null   object\n",
      " 52  Risk_Untreated_Chronic_Hyperthyroidism                              3424 non-null   object\n",
      " 53  Risk_Untreated_Chronic_Hypogonadism                                 3424 non-null   object\n",
      " 54  Risk_Untreated_Early_Menopause                                      3424 non-null   object\n",
      " 55  Risk_Patient_Parent_Fractured_Their_Hip                             3424 non-null   object\n",
      " 56  Risk_Smoking_Tobacco                                                3424 non-null   object\n",
      " 57  Risk_Chronic_Malnutrition_Or_Malabsorption                          3424 non-null   object\n",
      " 58  Risk_Chronic_Liver_Disease                                          3424 non-null   object\n",
      " 59  Risk_Family_History_Of_Osteoporosis                                 3424 non-null   object\n",
      " 60  Risk_Low_Calcium_Intake                                             3424 non-null   object\n",
      " 61  Risk_Vitamin_D_Insufficiency                                        3424 non-null   object\n",
      " 62  Risk_Poor_Health_Frailty                                            3424 non-null   object\n",
      " 63  Risk_Excessive_Thinness                                             3424 non-null   object\n",
      " 64  Risk_Hysterectomy_Oophorectomy                                      3424 non-null   object\n",
      " 65  Risk_Estrogen_Deficiency                                            3424 non-null   object\n",
      " 66  Risk_Immobilization                                                 3424 non-null   object\n",
      " 67  Risk_Recurring_Falls                                                3424 non-null   object\n",
      " 68  Count_Of_Risks                                                      3424 non-null   int64 \n",
      "dtypes: int64(2), object(67)\n",
      "memory usage: 1.8+ MB\n"
     ]
    }
   ],
   "source": [
    "#overall dataset information\n",
    "df.info()"
   ]
  },
  {
   "cell_type": "code",
   "execution_count": null,
   "id": "e6f4c6db",
   "metadata": {
    "id": "e6f4c6db",
    "outputId": "e4153b3c-893f-48ec-aef6-2d0375896deb"
   },
   "outputs": [
    {
     "data": {
      "text/plain": [
       "Ptid                              object\n",
       "Persistency_Flag                  object\n",
       "Gender                            object\n",
       "Race                              object\n",
       "Ethnicity                         object\n",
       "                                   ...  \n",
       "Risk_Hysterectomy_Oophorectomy    object\n",
       "Risk_Estrogen_Deficiency          object\n",
       "Risk_Immobilization               object\n",
       "Risk_Recurring_Falls              object\n",
       "Count_Of_Risks                     int64\n",
       "Length: 69, dtype: object"
      ]
     },
     "execution_count": 6,
     "metadata": {
      "tags": []
     },
     "output_type": "execute_result"
    }
   ],
   "source": [
    "df.dtypes"
   ]
  },
  {
   "cell_type": "code",
   "execution_count": null,
   "id": "9922b5f1",
   "metadata": {
    "id": "9922b5f1",
    "outputId": "3958bf07-86ce-4a57-cae1-88f4049f2952"
   },
   "outputs": [
    {
     "data": {
      "text/plain": [
       "(3424, 69)"
      ]
     },
     "execution_count": 7,
     "metadata": {
      "tags": []
     },
     "output_type": "execute_result"
    }
   ],
   "source": [
    "#We have 3424 observations and 69 features.\n",
    "df.shape"
   ]
  },
  {
   "cell_type": "markdown",
   "id": "248b0380",
   "metadata": {
    "id": "248b0380"
   },
   "source": [
    "## Checking whether the dataset has any null values"
   ]
  },
  {
   "cell_type": "code",
   "execution_count": null,
   "id": "f7f69fa0",
   "metadata": {
    "id": "f7f69fa0",
    "outputId": "c38bbcd6-fe90-4bfb-a6cf-6b868d77a6fa"
   },
   "outputs": [
    {
     "data": {
      "text/plain": [
       "False"
      ]
     },
     "execution_count": 8,
     "metadata": {
      "tags": []
     },
     "output_type": "execute_result"
    }
   ],
   "source": [
    "df.isnull().values.any()"
   ]
  },
  {
   "cell_type": "code",
   "execution_count": null,
   "id": "a2e6c59e",
   "metadata": {
    "id": "a2e6c59e",
    "outputId": "c81b9bd1-832a-401e-9624-c133eb098017"
   },
   "outputs": [
    {
     "data": {
      "text/plain": [
       "Ptid                              0\n",
       "Persistency_Flag                  0\n",
       "Gender                            0\n",
       "Race                              0\n",
       "Ethnicity                         0\n",
       "                                 ..\n",
       "Risk_Hysterectomy_Oophorectomy    0\n",
       "Risk_Estrogen_Deficiency          0\n",
       "Risk_Immobilization               0\n",
       "Risk_Recurring_Falls              0\n",
       "Count_Of_Risks                    0\n",
       "Length: 69, dtype: int64"
      ]
     },
     "execution_count": 9,
     "metadata": {
      "tags": []
     },
     "output_type": "execute_result"
    }
   ],
   "source": [
    "df.isnull().sum()"
   ]
  },
  {
   "cell_type": "markdown",
   "id": "0396b84b",
   "metadata": {
    "id": "0396b84b"
   },
   "source": [
    "## Reading the Cleaned Data"
   ]
  },
  {
   "cell_type": "code",
   "execution_count": null,
   "id": "d9c9163c",
   "metadata": {
    "id": "d9c9163c",
    "outputId": "54e67fdf-72c6-48fc-9b10-6955883b93f1"
   },
   "outputs": [
    {
     "data": {
      "text/html": [
       "<div>\n",
       "<style scoped>\n",
       "    .dataframe tbody tr th:only-of-type {\n",
       "        vertical-align: middle;\n",
       "    }\n",
       "\n",
       "    .dataframe tbody tr th {\n",
       "        vertical-align: top;\n",
       "    }\n",
       "\n",
       "    .dataframe thead th {\n",
       "        text-align: right;\n",
       "    }\n",
       "</style>\n",
       "<table border=\"1\" class=\"dataframe\">\n",
       "  <thead>\n",
       "    <tr style=\"text-align: right;\">\n",
       "      <th></th>\n",
       "      <th>Ptid</th>\n",
       "      <th>Persistency_Flag</th>\n",
       "      <th>Gender</th>\n",
       "      <th>Race</th>\n",
       "      <th>Ethnicity</th>\n",
       "      <th>Region</th>\n",
       "      <th>Age_Bucket</th>\n",
       "      <th>Ntm_Speciality</th>\n",
       "      <th>Ntm_Specialist_Flag</th>\n",
       "      <th>Ntm_Speciality_Bucket</th>\n",
       "      <th>...</th>\n",
       "      <th>Risk_Family_History_Of_Osteoporosis</th>\n",
       "      <th>Risk_Low_Calcium_Intake</th>\n",
       "      <th>Risk_Vitamin_D_Insufficiency</th>\n",
       "      <th>Risk_Poor_Health_Frailty</th>\n",
       "      <th>Risk_Excessive_Thinness</th>\n",
       "      <th>Risk_Hysterectomy_Oophorectomy</th>\n",
       "      <th>Risk_Estrogen_Deficiency</th>\n",
       "      <th>Risk_Immobilization</th>\n",
       "      <th>Risk_Recurring_Falls</th>\n",
       "      <th>Count_Of_Risks</th>\n",
       "    </tr>\n",
       "  </thead>\n",
       "  <tbody>\n",
       "    <tr>\n",
       "      <th>0</th>\n",
       "      <td>P1</td>\n",
       "      <td>Persistent</td>\n",
       "      <td>Male</td>\n",
       "      <td>Caucasian</td>\n",
       "      <td>Not Hispanic</td>\n",
       "      <td>West</td>\n",
       "      <td>&gt;75</td>\n",
       "      <td>GENERAL PRACTITIONER</td>\n",
       "      <td>Others</td>\n",
       "      <td>OB/GYN/Others/PCP/Unknown</td>\n",
       "      <td>...</td>\n",
       "      <td>N</td>\n",
       "      <td>N</td>\n",
       "      <td>N</td>\n",
       "      <td>N</td>\n",
       "      <td>N</td>\n",
       "      <td>N</td>\n",
       "      <td>N</td>\n",
       "      <td>N</td>\n",
       "      <td>N</td>\n",
       "      <td>0</td>\n",
       "    </tr>\n",
       "    <tr>\n",
       "      <th>1</th>\n",
       "      <td>P2</td>\n",
       "      <td>Non-Persistent</td>\n",
       "      <td>Male</td>\n",
       "      <td>Asian</td>\n",
       "      <td>Not Hispanic</td>\n",
       "      <td>West</td>\n",
       "      <td>55-65</td>\n",
       "      <td>GENERAL PRACTITIONER</td>\n",
       "      <td>Others</td>\n",
       "      <td>OB/GYN/Others/PCP/Unknown</td>\n",
       "      <td>...</td>\n",
       "      <td>N</td>\n",
       "      <td>N</td>\n",
       "      <td>N</td>\n",
       "      <td>N</td>\n",
       "      <td>N</td>\n",
       "      <td>N</td>\n",
       "      <td>N</td>\n",
       "      <td>N</td>\n",
       "      <td>N</td>\n",
       "      <td>0</td>\n",
       "    </tr>\n",
       "    <tr>\n",
       "      <th>2</th>\n",
       "      <td>P3</td>\n",
       "      <td>Non-Persistent</td>\n",
       "      <td>Female</td>\n",
       "      <td>Other/Unknown</td>\n",
       "      <td>Hispanic</td>\n",
       "      <td>Midwest</td>\n",
       "      <td>65-75</td>\n",
       "      <td>GENERAL PRACTITIONER</td>\n",
       "      <td>Others</td>\n",
       "      <td>OB/GYN/Others/PCP/Unknown</td>\n",
       "      <td>...</td>\n",
       "      <td>N</td>\n",
       "      <td>Y</td>\n",
       "      <td>N</td>\n",
       "      <td>N</td>\n",
       "      <td>N</td>\n",
       "      <td>N</td>\n",
       "      <td>N</td>\n",
       "      <td>N</td>\n",
       "      <td>N</td>\n",
       "      <td>2</td>\n",
       "    </tr>\n",
       "    <tr>\n",
       "      <th>3</th>\n",
       "      <td>P4</td>\n",
       "      <td>Non-Persistent</td>\n",
       "      <td>Female</td>\n",
       "      <td>Caucasian</td>\n",
       "      <td>Not Hispanic</td>\n",
       "      <td>Midwest</td>\n",
       "      <td>&gt;75</td>\n",
       "      <td>GENERAL PRACTITIONER</td>\n",
       "      <td>Others</td>\n",
       "      <td>OB/GYN/Others/PCP/Unknown</td>\n",
       "      <td>...</td>\n",
       "      <td>N</td>\n",
       "      <td>N</td>\n",
       "      <td>N</td>\n",
       "      <td>N</td>\n",
       "      <td>N</td>\n",
       "      <td>N</td>\n",
       "      <td>N</td>\n",
       "      <td>N</td>\n",
       "      <td>N</td>\n",
       "      <td>1</td>\n",
       "    </tr>\n",
       "    <tr>\n",
       "      <th>4</th>\n",
       "      <td>P5</td>\n",
       "      <td>Non-Persistent</td>\n",
       "      <td>Female</td>\n",
       "      <td>Caucasian</td>\n",
       "      <td>Not Hispanic</td>\n",
       "      <td>Midwest</td>\n",
       "      <td>&gt;75</td>\n",
       "      <td>GENERAL PRACTITIONER</td>\n",
       "      <td>Others</td>\n",
       "      <td>OB/GYN/Others/PCP/Unknown</td>\n",
       "      <td>...</td>\n",
       "      <td>N</td>\n",
       "      <td>N</td>\n",
       "      <td>N</td>\n",
       "      <td>N</td>\n",
       "      <td>N</td>\n",
       "      <td>N</td>\n",
       "      <td>N</td>\n",
       "      <td>N</td>\n",
       "      <td>N</td>\n",
       "      <td>1</td>\n",
       "    </tr>\n",
       "  </tbody>\n",
       "</table>\n",
       "<p>5 rows × 65 columns</p>\n",
       "</div>"
      ],
      "text/plain": [
       "  Ptid Persistency_Flag  Gender           Race     Ethnicity   Region  \\\n",
       "0   P1       Persistent    Male      Caucasian  Not Hispanic     West   \n",
       "1   P2   Non-Persistent    Male          Asian  Not Hispanic     West   \n",
       "2   P3   Non-Persistent  Female  Other/Unknown      Hispanic  Midwest   \n",
       "3   P4   Non-Persistent  Female      Caucasian  Not Hispanic  Midwest   \n",
       "4   P5   Non-Persistent  Female      Caucasian  Not Hispanic  Midwest   \n",
       "\n",
       "  Age_Bucket        Ntm_Speciality Ntm_Specialist_Flag  \\\n",
       "0        >75  GENERAL PRACTITIONER              Others   \n",
       "1      55-65  GENERAL PRACTITIONER              Others   \n",
       "2      65-75  GENERAL PRACTITIONER              Others   \n",
       "3        >75  GENERAL PRACTITIONER              Others   \n",
       "4        >75  GENERAL PRACTITIONER              Others   \n",
       "\n",
       "       Ntm_Speciality_Bucket  ... Risk_Family_History_Of_Osteoporosis  \\\n",
       "0  OB/GYN/Others/PCP/Unknown  ...                                   N   \n",
       "1  OB/GYN/Others/PCP/Unknown  ...                                   N   \n",
       "2  OB/GYN/Others/PCP/Unknown  ...                                   N   \n",
       "3  OB/GYN/Others/PCP/Unknown  ...                                   N   \n",
       "4  OB/GYN/Others/PCP/Unknown  ...                                   N   \n",
       "\n",
       "  Risk_Low_Calcium_Intake  Risk_Vitamin_D_Insufficiency  \\\n",
       "0                       N                             N   \n",
       "1                       N                             N   \n",
       "2                       Y                             N   \n",
       "3                       N                             N   \n",
       "4                       N                             N   \n",
       "\n",
       "  Risk_Poor_Health_Frailty Risk_Excessive_Thinness  \\\n",
       "0                        N                       N   \n",
       "1                        N                       N   \n",
       "2                        N                       N   \n",
       "3                        N                       N   \n",
       "4                        N                       N   \n",
       "\n",
       "  Risk_Hysterectomy_Oophorectomy Risk_Estrogen_Deficiency Risk_Immobilization  \\\n",
       "0                              N                        N                   N   \n",
       "1                              N                        N                   N   \n",
       "2                              N                        N                   N   \n",
       "3                              N                        N                   N   \n",
       "4                              N                        N                   N   \n",
       "\n",
       "  Risk_Recurring_Falls Count_Of_Risks  \n",
       "0                    N              0  \n",
       "1                    N              0  \n",
       "2                    N              2  \n",
       "3                    N              1  \n",
       "4                    N              1  \n",
       "\n",
       "[5 rows x 65 columns]"
      ]
     },
     "execution_count": 141,
     "metadata": {
      "tags": []
     },
     "output_type": "execute_result"
    }
   ],
   "source": [
    "# Reading the data \n",
    "\n",
    "df0 = pd.read_csv(\"Healthcare_cleaned_dataset.csv\")\n",
    "df0.head()"
   ]
  },
  {
   "cell_type": "markdown",
   "id": "a6f39758",
   "metadata": {
    "id": "a6f39758"
   },
   "source": [
    "# Feature Engineering\n",
    "\n",
    "## Transforming Categorical Data : \n",
    "\n",
    "In this step, we are going, first, to convert features regarding to the numbers of categories (two categories or multiple categories).Then, we are going to convert Y/N values to 1/0."
   ]
  },
  {
   "cell_type": "code",
   "execution_count": null,
   "id": "11811c4a",
   "metadata": {
    "id": "11811c4a"
   },
   "outputs": [],
   "source": [
    "#Converting categorical variables that contains two categories using Label Encoding\n",
    "two_categ = ['Persistency_Flag','Gender','Ntm_Specialist_Flag','Risk_Segment_Prior_Ntm','Adherent_Flag', 'Tscore_Bucket_Prior_Ntm','Gluco_Record_Prior_Ntm','Gluco_Record_During_Rx','Dexa_During_Rx','Frag_Frac_During_Rx','Adherent_Flag','Idn_Indicator','Injectable_Experience_During_Rx','Frag_Frac_Prior_Ntm']\n",
    "\n",
    "labenco = LabelEncoder()\n",
    "for val in two_categ:\n",
    "    df0[val] = labenco.fit_transform(df0[val])"
   ]
  },
  {
   "cell_type": "code",
   "execution_count": null,
   "id": "94f0b0eb",
   "metadata": {
    "id": "94f0b0eb"
   },
   "outputs": [],
   "source": [
    "#Coverting categorical variables with multiple categories using Label Encoding\n",
    "multiple_categ = ['Age_Bucket','Ntm_Speciality','Ntm_Speciality_Bucket','Race','Ethnicity','Region']\n",
    "for column in multiple_categ:\n",
    "    df0[column] = df0[column].astype('category')\n",
    "    df0[column] = labenco.fit_transform(df0[column])"
   ]
  },
  {
   "cell_type": "markdown",
   "id": "0c6e9490",
   "metadata": {
    "id": "0c6e9490"
   },
   "source": [
    "Now, as seen in the table, the rest of non encoding columns categorical are Y and N values. So, we are going to replace all o them by 1 and 0 respectively, without encode each column alone."
   ]
  },
  {
   "cell_type": "code",
   "execution_count": null,
   "id": "511c9f4f",
   "metadata": {
    "id": "511c9f4f",
    "outputId": "e154bc82-6944-4ead-983b-a08d15155865"
   },
   "outputs": [
    {
     "data": {
      "text/html": [
       "<div>\n",
       "<style scoped>\n",
       "    .dataframe tbody tr th:only-of-type {\n",
       "        vertical-align: middle;\n",
       "    }\n",
       "\n",
       "    .dataframe tbody tr th {\n",
       "        vertical-align: top;\n",
       "    }\n",
       "\n",
       "    .dataframe thead th {\n",
       "        text-align: right;\n",
       "    }\n",
       "</style>\n",
       "<table border=\"1\" class=\"dataframe\">\n",
       "  <thead>\n",
       "    <tr style=\"text-align: right;\">\n",
       "      <th></th>\n",
       "      <th>Ptid</th>\n",
       "      <th>Persistency_Flag</th>\n",
       "      <th>Gender</th>\n",
       "      <th>Race</th>\n",
       "      <th>Ethnicity</th>\n",
       "      <th>Region</th>\n",
       "      <th>Age_Bucket</th>\n",
       "      <th>Ntm_Speciality</th>\n",
       "      <th>Ntm_Specialist_Flag</th>\n",
       "      <th>Ntm_Speciality_Bucket</th>\n",
       "      <th>...</th>\n",
       "      <th>Risk_Family_History_Of_Osteoporosis</th>\n",
       "      <th>Risk_Low_Calcium_Intake</th>\n",
       "      <th>Risk_Vitamin_D_Insufficiency</th>\n",
       "      <th>Risk_Poor_Health_Frailty</th>\n",
       "      <th>Risk_Excessive_Thinness</th>\n",
       "      <th>Risk_Hysterectomy_Oophorectomy</th>\n",
       "      <th>Risk_Estrogen_Deficiency</th>\n",
       "      <th>Risk_Immobilization</th>\n",
       "      <th>Risk_Recurring_Falls</th>\n",
       "      <th>Count_Of_Risks</th>\n",
       "    </tr>\n",
       "  </thead>\n",
       "  <tbody>\n",
       "    <tr>\n",
       "      <th>0</th>\n",
       "      <td>P1</td>\n",
       "      <td>1</td>\n",
       "      <td>1</td>\n",
       "      <td>2</td>\n",
       "      <td>1</td>\n",
       "      <td>4</td>\n",
       "      <td>3</td>\n",
       "      <td>5</td>\n",
       "      <td>0</td>\n",
       "      <td>1</td>\n",
       "      <td>...</td>\n",
       "      <td>0</td>\n",
       "      <td>0</td>\n",
       "      <td>0</td>\n",
       "      <td>0</td>\n",
       "      <td>0</td>\n",
       "      <td>0</td>\n",
       "      <td>0</td>\n",
       "      <td>0</td>\n",
       "      <td>0</td>\n",
       "      <td>0</td>\n",
       "    </tr>\n",
       "    <tr>\n",
       "      <th>1</th>\n",
       "      <td>P2</td>\n",
       "      <td>0</td>\n",
       "      <td>1</td>\n",
       "      <td>1</td>\n",
       "      <td>1</td>\n",
       "      <td>4</td>\n",
       "      <td>0</td>\n",
       "      <td>5</td>\n",
       "      <td>0</td>\n",
       "      <td>1</td>\n",
       "      <td>...</td>\n",
       "      <td>0</td>\n",
       "      <td>0</td>\n",
       "      <td>0</td>\n",
       "      <td>0</td>\n",
       "      <td>0</td>\n",
       "      <td>0</td>\n",
       "      <td>0</td>\n",
       "      <td>0</td>\n",
       "      <td>0</td>\n",
       "      <td>0</td>\n",
       "    </tr>\n",
       "    <tr>\n",
       "      <th>2</th>\n",
       "      <td>P3</td>\n",
       "      <td>0</td>\n",
       "      <td>0</td>\n",
       "      <td>3</td>\n",
       "      <td>0</td>\n",
       "      <td>0</td>\n",
       "      <td>1</td>\n",
       "      <td>5</td>\n",
       "      <td>0</td>\n",
       "      <td>1</td>\n",
       "      <td>...</td>\n",
       "      <td>0</td>\n",
       "      <td>1</td>\n",
       "      <td>0</td>\n",
       "      <td>0</td>\n",
       "      <td>0</td>\n",
       "      <td>0</td>\n",
       "      <td>0</td>\n",
       "      <td>0</td>\n",
       "      <td>0</td>\n",
       "      <td>2</td>\n",
       "    </tr>\n",
       "    <tr>\n",
       "      <th>3</th>\n",
       "      <td>P4</td>\n",
       "      <td>0</td>\n",
       "      <td>0</td>\n",
       "      <td>2</td>\n",
       "      <td>1</td>\n",
       "      <td>0</td>\n",
       "      <td>3</td>\n",
       "      <td>5</td>\n",
       "      <td>0</td>\n",
       "      <td>1</td>\n",
       "      <td>...</td>\n",
       "      <td>0</td>\n",
       "      <td>0</td>\n",
       "      <td>0</td>\n",
       "      <td>0</td>\n",
       "      <td>0</td>\n",
       "      <td>0</td>\n",
       "      <td>0</td>\n",
       "      <td>0</td>\n",
       "      <td>0</td>\n",
       "      <td>1</td>\n",
       "    </tr>\n",
       "    <tr>\n",
       "      <th>4</th>\n",
       "      <td>P5</td>\n",
       "      <td>0</td>\n",
       "      <td>0</td>\n",
       "      <td>2</td>\n",
       "      <td>1</td>\n",
       "      <td>0</td>\n",
       "      <td>3</td>\n",
       "      <td>5</td>\n",
       "      <td>0</td>\n",
       "      <td>1</td>\n",
       "      <td>...</td>\n",
       "      <td>0</td>\n",
       "      <td>0</td>\n",
       "      <td>0</td>\n",
       "      <td>0</td>\n",
       "      <td>0</td>\n",
       "      <td>0</td>\n",
       "      <td>0</td>\n",
       "      <td>0</td>\n",
       "      <td>0</td>\n",
       "      <td>1</td>\n",
       "    </tr>\n",
       "    <tr>\n",
       "      <th>...</th>\n",
       "      <td>...</td>\n",
       "      <td>...</td>\n",
       "      <td>...</td>\n",
       "      <td>...</td>\n",
       "      <td>...</td>\n",
       "      <td>...</td>\n",
       "      <td>...</td>\n",
       "      <td>...</td>\n",
       "      <td>...</td>\n",
       "      <td>...</td>\n",
       "      <td>...</td>\n",
       "      <td>...</td>\n",
       "      <td>...</td>\n",
       "      <td>...</td>\n",
       "      <td>...</td>\n",
       "      <td>...</td>\n",
       "      <td>...</td>\n",
       "      <td>...</td>\n",
       "      <td>...</td>\n",
       "      <td>...</td>\n",
       "      <td>...</td>\n",
       "    </tr>\n",
       "    <tr>\n",
       "      <th>3419</th>\n",
       "      <td>P3420</td>\n",
       "      <td>1</td>\n",
       "      <td>0</td>\n",
       "      <td>2</td>\n",
       "      <td>1</td>\n",
       "      <td>3</td>\n",
       "      <td>3</td>\n",
       "      <td>5</td>\n",
       "      <td>0</td>\n",
       "      <td>1</td>\n",
       "      <td>...</td>\n",
       "      <td>0</td>\n",
       "      <td>0</td>\n",
       "      <td>1</td>\n",
       "      <td>0</td>\n",
       "      <td>0</td>\n",
       "      <td>0</td>\n",
       "      <td>0</td>\n",
       "      <td>0</td>\n",
       "      <td>0</td>\n",
       "      <td>1</td>\n",
       "    </tr>\n",
       "    <tr>\n",
       "      <th>3420</th>\n",
       "      <td>P3421</td>\n",
       "      <td>1</td>\n",
       "      <td>0</td>\n",
       "      <td>2</td>\n",
       "      <td>1</td>\n",
       "      <td>3</td>\n",
       "      <td>3</td>\n",
       "      <td>34</td>\n",
       "      <td>0</td>\n",
       "      <td>1</td>\n",
       "      <td>...</td>\n",
       "      <td>0</td>\n",
       "      <td>0</td>\n",
       "      <td>0</td>\n",
       "      <td>0</td>\n",
       "      <td>0</td>\n",
       "      <td>0</td>\n",
       "      <td>0</td>\n",
       "      <td>0</td>\n",
       "      <td>0</td>\n",
       "      <td>0</td>\n",
       "    </tr>\n",
       "    <tr>\n",
       "      <th>3421</th>\n",
       "      <td>P3422</td>\n",
       "      <td>1</td>\n",
       "      <td>0</td>\n",
       "      <td>2</td>\n",
       "      <td>1</td>\n",
       "      <td>3</td>\n",
       "      <td>3</td>\n",
       "      <td>3</td>\n",
       "      <td>1</td>\n",
       "      <td>0</td>\n",
       "      <td>...</td>\n",
       "      <td>0</td>\n",
       "      <td>0</td>\n",
       "      <td>1</td>\n",
       "      <td>0</td>\n",
       "      <td>0</td>\n",
       "      <td>0</td>\n",
       "      <td>0</td>\n",
       "      <td>0</td>\n",
       "      <td>0</td>\n",
       "      <td>1</td>\n",
       "    </tr>\n",
       "    <tr>\n",
       "      <th>3422</th>\n",
       "      <td>P3423</td>\n",
       "      <td>0</td>\n",
       "      <td>0</td>\n",
       "      <td>2</td>\n",
       "      <td>1</td>\n",
       "      <td>3</td>\n",
       "      <td>0</td>\n",
       "      <td>34</td>\n",
       "      <td>0</td>\n",
       "      <td>1</td>\n",
       "      <td>...</td>\n",
       "      <td>0</td>\n",
       "      <td>0</td>\n",
       "      <td>0</td>\n",
       "      <td>0</td>\n",
       "      <td>0</td>\n",
       "      <td>0</td>\n",
       "      <td>0</td>\n",
       "      <td>0</td>\n",
       "      <td>0</td>\n",
       "      <td>0</td>\n",
       "    </tr>\n",
       "    <tr>\n",
       "      <th>3423</th>\n",
       "      <td>P3424</td>\n",
       "      <td>0</td>\n",
       "      <td>0</td>\n",
       "      <td>2</td>\n",
       "      <td>1</td>\n",
       "      <td>3</td>\n",
       "      <td>1</td>\n",
       "      <td>34</td>\n",
       "      <td>0</td>\n",
       "      <td>1</td>\n",
       "      <td>...</td>\n",
       "      <td>0</td>\n",
       "      <td>0</td>\n",
       "      <td>1</td>\n",
       "      <td>0</td>\n",
       "      <td>0</td>\n",
       "      <td>0</td>\n",
       "      <td>0</td>\n",
       "      <td>0</td>\n",
       "      <td>0</td>\n",
       "      <td>1</td>\n",
       "    </tr>\n",
       "  </tbody>\n",
       "</table>\n",
       "<p>3424 rows × 65 columns</p>\n",
       "</div>"
      ],
      "text/plain": [
       "       Ptid  Persistency_Flag  Gender  Race  Ethnicity  Region  Age_Bucket  \\\n",
       "0        P1                 1       1     2          1       4           3   \n",
       "1        P2                 0       1     1          1       4           0   \n",
       "2        P3                 0       0     3          0       0           1   \n",
       "3        P4                 0       0     2          1       0           3   \n",
       "4        P5                 0       0     2          1       0           3   \n",
       "...     ...               ...     ...   ...        ...     ...         ...   \n",
       "3419  P3420                 1       0     2          1       3           3   \n",
       "3420  P3421                 1       0     2          1       3           3   \n",
       "3421  P3422                 1       0     2          1       3           3   \n",
       "3422  P3423                 0       0     2          1       3           0   \n",
       "3423  P3424                 0       0     2          1       3           1   \n",
       "\n",
       "      Ntm_Speciality  Ntm_Specialist_Flag  Ntm_Speciality_Bucket  ...  \\\n",
       "0                  5                    0                      1  ...   \n",
       "1                  5                    0                      1  ...   \n",
       "2                  5                    0                      1  ...   \n",
       "3                  5                    0                      1  ...   \n",
       "4                  5                    0                      1  ...   \n",
       "...              ...                  ...                    ...  ...   \n",
       "3419               5                    0                      1  ...   \n",
       "3420              34                    0                      1  ...   \n",
       "3421               3                    1                      0  ...   \n",
       "3422              34                    0                      1  ...   \n",
       "3423              34                    0                      1  ...   \n",
       "\n",
       "      Risk_Family_History_Of_Osteoporosis  Risk_Low_Calcium_Intake  \\\n",
       "0                                       0                        0   \n",
       "1                                       0                        0   \n",
       "2                                       0                        1   \n",
       "3                                       0                        0   \n",
       "4                                       0                        0   \n",
       "...                                   ...                      ...   \n",
       "3419                                    0                        0   \n",
       "3420                                    0                        0   \n",
       "3421                                    0                        0   \n",
       "3422                                    0                        0   \n",
       "3423                                    0                        0   \n",
       "\n",
       "      Risk_Vitamin_D_Insufficiency  Risk_Poor_Health_Frailty  \\\n",
       "0                                0                         0   \n",
       "1                                0                         0   \n",
       "2                                0                         0   \n",
       "3                                0                         0   \n",
       "4                                0                         0   \n",
       "...                            ...                       ...   \n",
       "3419                             1                         0   \n",
       "3420                             0                         0   \n",
       "3421                             1                         0   \n",
       "3422                             0                         0   \n",
       "3423                             1                         0   \n",
       "\n",
       "      Risk_Excessive_Thinness  Risk_Hysterectomy_Oophorectomy  \\\n",
       "0                           0                               0   \n",
       "1                           0                               0   \n",
       "2                           0                               0   \n",
       "3                           0                               0   \n",
       "4                           0                               0   \n",
       "...                       ...                             ...   \n",
       "3419                        0                               0   \n",
       "3420                        0                               0   \n",
       "3421                        0                               0   \n",
       "3422                        0                               0   \n",
       "3423                        0                               0   \n",
       "\n",
       "      Risk_Estrogen_Deficiency  Risk_Immobilization  Risk_Recurring_Falls  \\\n",
       "0                            0                    0                     0   \n",
       "1                            0                    0                     0   \n",
       "2                            0                    0                     0   \n",
       "3                            0                    0                     0   \n",
       "4                            0                    0                     0   \n",
       "...                        ...                  ...                   ...   \n",
       "3419                         0                    0                     0   \n",
       "3420                         0                    0                     0   \n",
       "3421                         0                    0                     0   \n",
       "3422                         0                    0                     0   \n",
       "3423                         0                    0                     0   \n",
       "\n",
       "      Count_Of_Risks  \n",
       "0                  0  \n",
       "1                  0  \n",
       "2                  2  \n",
       "3                  1  \n",
       "4                  1  \n",
       "...              ...  \n",
       "3419               1  \n",
       "3420               0  \n",
       "3421               1  \n",
       "3422               0  \n",
       "3423               1  \n",
       "\n",
       "[3424 rows x 65 columns]"
      ]
     },
     "execution_count": 144,
     "metadata": {
      "tags": []
     },
     "output_type": "execute_result"
    }
   ],
   "source": [
    "#Convert Y/N values to 1/0\n",
    "df0.replace(('Y', 'N'), (1,0), inplace = True)\n",
    "df0"
   ]
  },
  {
   "cell_type": "markdown",
   "id": "77c59b1a",
   "metadata": {
    "id": "77c59b1a"
   },
   "source": [
    "Now, let's check for data types after data tranformation step."
   ]
  },
  {
   "cell_type": "code",
   "execution_count": null,
   "id": "6d431b4e",
   "metadata": {
    "id": "6d431b4e",
    "outputId": "0c9394b9-9fe1-41fa-9270-c3169bfd5680"
   },
   "outputs": [
    {
     "data": {
      "text/plain": [
       "Ptid                              object\n",
       "Persistency_Flag                   int32\n",
       "Gender                             int32\n",
       "Race                               int32\n",
       "Ethnicity                          int32\n",
       "                                   ...  \n",
       "Risk_Hysterectomy_Oophorectomy     int64\n",
       "Risk_Estrogen_Deficiency           int64\n",
       "Risk_Immobilization                int64\n",
       "Risk_Recurring_Falls               int64\n",
       "Count_Of_Risks                     int64\n",
       "Length: 65, dtype: object"
      ]
     },
     "execution_count": 145,
     "metadata": {
      "tags": []
     },
     "output_type": "execute_result"
    }
   ],
   "source": [
    "df0.dtypes"
   ]
  },
  {
   "cell_type": "code",
   "execution_count": null,
   "id": "13ead4de",
   "metadata": {
    "id": "13ead4de"
   },
   "outputs": [],
   "source": [
    "df.to_csv(\"Healthcare_cleaned_and tranformed_dataset.csv\", index = False)"
   ]
  },
  {
   "cell_type": "markdown",
   "id": "9dbcdfa9",
   "metadata": {
    "id": "9dbcdfa9"
   },
   "source": [
    "## Machine Learning Model Deployment"
   ]
  },
  {
   "cell_type": "code",
   "execution_count": null,
   "id": "e9e31f9c",
   "metadata": {
    "id": "e9e31f9c"
   },
   "outputs": [],
   "source": [
    "X= df0.drop([\"Persistency_Flag\"], axis=1)\n",
    "y= df0[\"Persistency_Flag\"]"
   ]
  },
  {
   "cell_type": "markdown",
   "id": "b175a3e9",
   "metadata": {
    "id": "b175a3e9"
   },
   "source": [
    "## Seperating the dataset into train and test set"
   ]
  },
  {
   "cell_type": "code",
   "execution_count": null,
   "id": "6a3c0b28",
   "metadata": {
    "id": "6a3c0b28"
   },
   "outputs": [],
   "source": [
    "#importing the necessary library\n",
    "from sklearn.model_selection import train_test_split\n",
    "\n",
    "X_train, X_test, y_train, y_test =train_test_split(X, y, test_size=0.20, random_state=42)"
   ]
  },
  {
   "cell_type": "code",
   "execution_count": null,
   "id": "9c43bdae",
   "metadata": {
    "id": "9c43bdae",
    "outputId": "895bdd88-08b9-4d1c-a143-77fd2783602b"
   },
   "outputs": [
    {
     "name": "stdout",
     "output_type": "stream",
     "text": [
      "X_train shape: (2739, 64)\n",
      "y_train shape: (2739,)\n"
     ]
    }
   ],
   "source": [
    "print(\"X_train shape: {}\".format(X_train.shape))\n",
    "print(\"y_train shape: {}\".format(y_train.shape))"
   ]
  },
  {
   "cell_type": "code",
   "execution_count": null,
   "id": "daf88f14",
   "metadata": {
    "id": "daf88f14",
    "outputId": "93fd748b-b6d3-4e40-ec30-ecfe88db498c"
   },
   "outputs": [
    {
     "name": "stdout",
     "output_type": "stream",
     "text": [
      "X_test shape: (685, 64)\n",
      "y_test shape: (685,)\n"
     ]
    }
   ],
   "source": [
    "print(\"X_test shape: {}\".format(X_test.shape))\n",
    "print(\"y_test shape: {}\".format(y_test.shape))"
   ]
  },
  {
   "cell_type": "markdown",
   "id": "cfbf18bd",
   "metadata": {
    "id": "cfbf18bd"
   },
   "source": [
    "## Logistic Regression"
   ]
  },
  {
   "cell_type": "code",
   "execution_count": null,
   "id": "2217c6b8",
   "metadata": {
    "id": "2217c6b8"
   },
   "outputs": [],
   "source": [
    "#Encoding the dataset\n",
    "from sklearn import preprocessing"
   ]
  },
  {
   "cell_type": "code",
   "execution_count": null,
   "id": "f89fdd22",
   "metadata": {
    "id": "f89fdd22",
    "outputId": "7dc297c3-ad48-4a02-df85-3fe6481322d6"
   },
   "outputs": [
    {
     "data": {
      "text/plain": [
       "LabelEncoder()"
      ]
     },
     "execution_count": 152,
     "metadata": {
      "tags": []
     },
     "output_type": "execute_result"
    }
   ],
   "source": [
    "labenco.fit(y_train)\n",
    "labenco.fit(y_test)"
   ]
  },
  {
   "cell_type": "code",
   "execution_count": null,
   "id": "b6585c53",
   "metadata": {
    "id": "b6585c53"
   },
   "outputs": [],
   "source": [
    "y_train_enc=labenco.fit_transform(y_train)\n",
    "y_test_enc=labenco.fit_transform(y_test)"
   ]
  },
  {
   "cell_type": "code",
   "execution_count": null,
   "id": "b6dd9303",
   "metadata": {
    "id": "b6dd9303"
   },
   "outputs": [],
   "source": [
    "oe= preprocessing.OrdinalEncoder()"
   ]
  },
  {
   "cell_type": "code",
   "execution_count": null,
   "id": "dc7042fc",
   "metadata": {
    "id": "dc7042fc",
    "outputId": "1afa4a25-e1cc-4a2e-c187-4336e2cc9e18"
   },
   "outputs": [
    {
     "data": {
      "text/plain": [
       "OrdinalEncoder()"
      ]
     },
     "execution_count": 155,
     "metadata": {
      "tags": []
     },
     "output_type": "execute_result"
    }
   ],
   "source": [
    "oe.fit(X_train)\n",
    "oe.fit(X_test)"
   ]
  },
  {
   "cell_type": "code",
   "execution_count": null,
   "id": "8b24e6ca",
   "metadata": {
    "id": "8b24e6ca"
   },
   "outputs": [],
   "source": [
    "X_train_enc=oe.fit_transform(X_train)\n",
    "X_test_enc=oe.fit_transform(X_test)"
   ]
  },
  {
   "cell_type": "markdown",
   "id": "3b3c75f2",
   "metadata": {
    "id": "3b3c75f2"
   },
   "source": [
    "## Logistic Regression"
   ]
  },
  {
   "cell_type": "code",
   "execution_count": null,
   "id": "eb7e7054",
   "metadata": {
    "id": "eb7e7054"
   },
   "outputs": [],
   "source": [
    "from sklearn.linear_model import LogisticRegression\n",
    "from sklearn.metrics import accuracy_score, confusion_matrix, classification_report \n",
    "from sklearn.model_selection import train_test_split, GridSearchCV, cross_val_score\n",
    "loj= LogisticRegression(solver=\"liblinear\")\n",
    "loj_model= loj.fit(X_train_enc, y_train_enc)"
   ]
  },
  {
   "cell_type": "code",
   "execution_count": null,
   "id": "b24e39aa",
   "metadata": {
    "id": "b24e39aa",
    "outputId": "54c9509b-e983-44c9-dc8d-e29887dbe092"
   },
   "outputs": [
    {
     "data": {
      "text/plain": [
       "array([-2.80785966])"
      ]
     },
     "execution_count": 158,
     "metadata": {
      "tags": []
     },
     "output_type": "execute_result"
    }
   ],
   "source": [
    "loj_model.intercept_"
   ]
  },
  {
   "cell_type": "code",
   "execution_count": null,
   "id": "55f5f809",
   "metadata": {
    "id": "55f5f809",
    "outputId": "dcf4d9d8-019e-454f-97e8-808f633ece7e"
   },
   "outputs": [
    {
     "data": {
      "text/plain": [
       "array([[-1.64567393e-04,  2.28201983e-01, -2.03283562e-01,\n",
       "         4.09774643e-02,  1.15014484e-01,  8.49656687e-02,\n",
       "         1.01179904e-02,  2.76051560e-01, -4.01272130e-01,\n",
       "        -4.87380759e-01,  2.02410288e-01,  2.83551473e-01,\n",
       "         2.42743547e-01, -5.41739177e-01,  3.78689897e-01,\n",
       "         2.54152929e-01, -2.41497931e-01,  3.43570607e-01,\n",
       "         4.63513281e-01,  1.46194070e-01,  6.31719969e-01,\n",
       "         3.98673152e-01,  6.11190510e-01,  8.28441916e-01,\n",
       "         3.05005235e-01,  1.66826472e-01,  1.01074012e+00,\n",
       "         3.19389523e-01,  2.44369050e-01,  7.26438011e-01,\n",
       "         2.18266050e-02, -3.23104082e-01,  1.63275864e-01,\n",
       "         2.95808734e-01, -1.94014849e-01, -3.21291761e-01,\n",
       "         4.14140793e-01,  3.33121507e-02,  4.03517463e-01,\n",
       "         7.46661298e-02,  2.45543111e-01,  5.95109268e-01,\n",
       "         2.60504191e-01,  8.42152840e-01, -6.67696483e-01,\n",
       "         8.73413382e-02,  2.95737450e-01, -6.23195902e-02,\n",
       "         6.66262286e-01,  4.16919252e-02,  4.20198518e-01,\n",
       "         2.87720529e-01,  3.78042066e-01,  4.02237468e-01,\n",
       "        -1.23226260e-01,  2.99058007e-01, -1.55958843e-01,\n",
       "        -4.19683772e-01, -3.18500167e-01, -1.59852193e-01,\n",
       "        -3.06154140e-01, -4.25331325e-01, -4.60124560e-01,\n",
       "        -2.37920950e-01]])"
      ]
     },
     "execution_count": 159,
     "metadata": {
      "tags": []
     },
     "output_type": "execute_result"
    }
   ],
   "source": [
    "loj_model.coef_"
   ]
  },
  {
   "cell_type": "code",
   "execution_count": null,
   "id": "7033711e",
   "metadata": {
    "id": "7033711e"
   },
   "outputs": [],
   "source": [
    "y_pred= loj_model.predict(X_test_enc)"
   ]
  },
  {
   "cell_type": "code",
   "execution_count": null,
   "id": "d0a36393",
   "metadata": {
    "id": "d0a36393",
    "outputId": "97ffd868-b41a-4247-9c90-8a9f5413788d"
   },
   "outputs": [
    {
     "data": {
      "text/plain": [
       "0.8014598540145985"
      ]
     },
     "execution_count": 161,
     "metadata": {
      "tags": []
     },
     "output_type": "execute_result"
    }
   ],
   "source": [
    "#computing the accuracy score\n",
    "accuracy_score(y_test_enc, y_pred)"
   ]
  },
  {
   "cell_type": "code",
   "execution_count": null,
   "id": "7752e263",
   "metadata": {
    "id": "7752e263",
    "outputId": "c6dff5e6-eb6d-47d6-baaa-e331fc563cf3"
   },
   "outputs": [
    {
     "name": "stdout",
     "output_type": "stream",
     "text": [
      "              precision    recall  f1-score   support\n",
      "\n",
      "           0       0.83      0.86      0.85       431\n",
      "           1       0.75      0.70      0.72       254\n",
      "\n",
      "    accuracy                           0.80       685\n",
      "   macro avg       0.79      0.78      0.78       685\n",
      "weighted avg       0.80      0.80      0.80       685\n",
      "\n"
     ]
    }
   ],
   "source": [
    "print(classification_report(y_test_enc, y_pred))"
   ]
  },
  {
   "cell_type": "code",
   "execution_count": null,
   "id": "9d33890d",
   "metadata": {
    "id": "9d33890d",
    "outputId": "053b5762-1415-4c48-b742-0619d21c36b8"
   },
   "outputs": [
    {
     "data": {
      "text/plain": [
       "array([0.76811594, 0.76811594, 0.72463768, 0.73913043, 0.7826087 ,\n",
       "       0.80882353, 0.77941176, 0.82352941, 0.79411765, 0.85294118])"
      ]
     },
     "execution_count": 163,
     "metadata": {
      "tags": []
     },
     "output_type": "execute_result"
    }
   ],
   "source": [
    "cross_val_score(loj_model, X_test_enc, y_test_enc, cv=10)"
   ]
  },
  {
   "cell_type": "code",
   "execution_count": null,
   "id": "4a16b39d",
   "metadata": {
    "id": "4a16b39d",
    "outputId": "9159ad8a-e50b-4c30-ec9a-c04680960ed8"
   },
   "outputs": [
    {
     "data": {
      "text/plain": [
       "0.7841432225063938"
      ]
     },
     "execution_count": 164,
     "metadata": {
      "tags": []
     },
     "output_type": "execute_result"
    }
   ],
   "source": [
    "cross_val_score(loj_model, X_test_enc, y_test_enc, cv=10).mean()"
   ]
  },
  {
   "cell_type": "markdown",
   "id": "644a7f98",
   "metadata": {
    "id": "644a7f98"
   },
   "source": [
    "## KNN Models"
   ]
  },
  {
   "cell_type": "code",
   "execution_count": null,
   "id": "ad9afdd6",
   "metadata": {
    "id": "ad9afdd6"
   },
   "outputs": [],
   "source": [
    "from sklearn.neighbors import KNeighborsClassifier"
   ]
  },
  {
   "cell_type": "code",
   "execution_count": null,
   "id": "0352bfbd",
   "metadata": {
    "id": "0352bfbd",
    "outputId": "5fa8e8eb-56ec-4512-9e61-bb1faf19bd28"
   },
   "outputs": [
    {
     "data": {
      "text/plain": [
       "KNeighborsClassifier()"
      ]
     },
     "execution_count": 166,
     "metadata": {
      "tags": []
     },
     "output_type": "execute_result"
    }
   ],
   "source": [
    "knn=KNeighborsClassifier()\n",
    "knn_model=knn.fit(X_train_enc, y_train_enc)\n",
    "knn_model"
   ]
  },
  {
   "cell_type": "code",
   "execution_count": null,
   "id": "502b42b7",
   "metadata": {
    "id": "502b42b7"
   },
   "outputs": [],
   "source": [
    "y_pred=knn_model.predict(X_test_enc)"
   ]
  },
  {
   "cell_type": "code",
   "execution_count": null,
   "id": "175a7f16",
   "metadata": {
    "id": "175a7f16",
    "outputId": "3e529b3d-4c07-4c8b-854f-0fac979a15c6"
   },
   "outputs": [
    {
     "data": {
      "text/plain": [
       "0.6452554744525547"
      ]
     },
     "execution_count": 168,
     "metadata": {
      "tags": []
     },
     "output_type": "execute_result"
    }
   ],
   "source": [
    "accuracy_score(y_test_enc, y_pred)"
   ]
  },
  {
   "cell_type": "markdown",
   "id": "4d96ccb5",
   "metadata": {
    "id": "4d96ccb5"
   },
   "source": [
    "## Model Tuning for KNN"
   ]
  },
  {
   "cell_type": "code",
   "execution_count": null,
   "id": "4623dab9",
   "metadata": {
    "id": "4623dab9"
   },
   "outputs": [],
   "source": [
    "knn_params={\"n_neighbors\": np.arange(1,20)}"
   ]
  },
  {
   "cell_type": "code",
   "execution_count": null,
   "id": "b67634e5",
   "metadata": {
    "id": "b67634e5"
   },
   "outputs": [],
   "source": [
    "knn=KNeighborsClassifier()\n",
    "knn_cv=GridSearchCV(knn, knn_params, cv=10)"
   ]
  },
  {
   "cell_type": "code",
   "execution_count": null,
   "id": "7fa7849c",
   "metadata": {
    "id": "7fa7849c",
    "outputId": "b79800dd-fc5f-4679-9639-1156552e30b3"
   },
   "outputs": [
    {
     "data": {
      "text/plain": [
       "GridSearchCV(cv=10, estimator=KNeighborsClassifier(),\n",
       "             param_grid={'n_neighbors': array([ 1,  2,  3,  4,  5,  6,  7,  8,  9, 10, 11, 12, 13, 14, 15, 16, 17,\n",
       "       18, 19])})"
      ]
     },
     "execution_count": 171,
     "metadata": {
      "tags": []
     },
     "output_type": "execute_result"
    }
   ],
   "source": [
    "knn_cv.fit(X_train_enc, y_train_enc)"
   ]
  },
  {
   "cell_type": "code",
   "execution_count": null,
   "id": "f8731d8b",
   "metadata": {
    "id": "f8731d8b",
    "outputId": "24b8bac9-0878-4da4-b461-8e869ede7367"
   },
   "outputs": [
    {
     "data": {
      "text/plain": [
       "{'n_neighbors': 2}"
      ]
     },
     "execution_count": 172,
     "metadata": {
      "tags": []
     },
     "output_type": "execute_result"
    }
   ],
   "source": [
    "knn_cv.best_params_"
   ]
  },
  {
   "cell_type": "code",
   "execution_count": null,
   "id": "787b512f",
   "metadata": {
    "id": "787b512f"
   },
   "outputs": [],
   "source": [
    "knn=KNeighborsClassifier(3)"
   ]
  },
  {
   "cell_type": "code",
   "execution_count": null,
   "id": "2d4ed27e",
   "metadata": {
    "id": "2d4ed27e"
   },
   "outputs": [],
   "source": [
    "knn_tuned=knn.fit(X_train_enc, y_train_enc)"
   ]
  },
  {
   "cell_type": "code",
   "execution_count": null,
   "id": "94d95815",
   "metadata": {
    "id": "94d95815"
   },
   "outputs": [],
   "source": [
    "y_pred=knn_tuned.predict(X_test_enc)"
   ]
  },
  {
   "cell_type": "code",
   "execution_count": null,
   "id": "c0c9722f",
   "metadata": {
    "id": "c0c9722f",
    "outputId": "cc0d1453-8a40-4352-e4aa-35e37d5351bd"
   },
   "outputs": [
    {
     "data": {
      "text/plain": [
       "0.6496350364963503"
      ]
     },
     "execution_count": 176,
     "metadata": {
      "tags": []
     },
     "output_type": "execute_result"
    }
   ],
   "source": [
    "accuracy_score(y_test_enc, y_pred)"
   ]
  },
  {
   "cell_type": "code",
   "execution_count": null,
   "id": "5de63a6c",
   "metadata": {
    "id": "5de63a6c",
    "outputId": "73c90055-b099-4b2c-e5f5-5f09cfc94d99"
   },
   "outputs": [
    {
     "name": "stdout",
     "output_type": "stream",
     "text": [
      "              precision    recall  f1-score   support\n",
      "\n",
      "           0       0.71      0.75      0.73       431\n",
      "           1       0.53      0.47      0.50       254\n",
      "\n",
      "    accuracy                           0.65       685\n",
      "   macro avg       0.62      0.61      0.62       685\n",
      "weighted avg       0.64      0.65      0.64       685\n",
      "\n"
     ]
    }
   ],
   "source": [
    "print(classification_report(y_test_enc, y_pred))"
   ]
  },
  {
   "cell_type": "markdown",
   "id": "65285e00",
   "metadata": {
    "id": "65285e00"
   },
   "source": [
    "## Support Vector Machine"
   ]
  },
  {
   "cell_type": "code",
   "execution_count": null,
   "id": "958f3acd",
   "metadata": {
    "id": "958f3acd"
   },
   "outputs": [],
   "source": [
    "from sklearn import svm"
   ]
  },
  {
   "cell_type": "code",
   "execution_count": null,
   "id": "a7963ec2",
   "metadata": {
    "id": "a7963ec2"
   },
   "outputs": [],
   "source": [
    "svc_model=svm.SVC().fit(X_train_enc, y_train_enc)"
   ]
  },
  {
   "cell_type": "code",
   "execution_count": null,
   "id": "c4f698e8",
   "metadata": {
    "id": "c4f698e8"
   },
   "outputs": [],
   "source": [
    "y_pred=svc_model.predict(X_test_enc)"
   ]
  },
  {
   "cell_type": "code",
   "execution_count": null,
   "id": "83cea9ca",
   "metadata": {
    "id": "83cea9ca",
    "outputId": "e621fa7f-f641-449f-f17a-585ad0b6fcb0"
   },
   "outputs": [
    {
     "data": {
      "text/plain": [
       "0.6291970802919709"
      ]
     },
     "execution_count": 181,
     "metadata": {
      "tags": []
     },
     "output_type": "execute_result"
    }
   ],
   "source": [
    "accuracy_score(y_test_enc, y_pred)"
   ]
  },
  {
   "cell_type": "markdown",
   "id": "628c9d69",
   "metadata": {
    "id": "628c9d69"
   },
   "source": [
    "## Model Tuning for SVM"
   ]
  },
  {
   "cell_type": "code",
   "execution_count": null,
   "id": "114ec856",
   "metadata": {
    "id": "114ec856"
   },
   "outputs": [],
   "source": [
    "svc=svm.SVC()"
   ]
  },
  {
   "cell_type": "code",
   "execution_count": null,
   "id": "9d653222",
   "metadata": {
    "id": "9d653222"
   },
   "outputs": [],
   "source": [
    "svc_params={\"C\": np.arange(1,10)}"
   ]
  },
  {
   "cell_type": "code",
   "execution_count": null,
   "id": "a9b125bb",
   "metadata": {
    "id": "a9b125bb"
   },
   "outputs": [],
   "source": [
    "svc_cv_model=GridSearchCV(svc, svc_params, cv=10, n_jobs=-1, verbose=2)"
   ]
  },
  {
   "cell_type": "code",
   "execution_count": null,
   "id": "bce5fb57",
   "metadata": {
    "id": "bce5fb57",
    "outputId": "504b1379-8c21-49e7-98a3-68a7371e5442"
   },
   "outputs": [
    {
     "name": "stdout",
     "output_type": "stream",
     "text": [
      "Fitting 10 folds for each of 9 candidates, totalling 90 fits\n"
     ]
    },
    {
     "data": {
      "text/plain": [
       "GridSearchCV(cv=10, estimator=SVC(), n_jobs=-1,\n",
       "             param_grid={'C': array([1, 2, 3, 4, 5, 6, 7, 8, 9])}, verbose=2)"
      ]
     },
     "execution_count": 185,
     "metadata": {
      "tags": []
     },
     "output_type": "execute_result"
    }
   ],
   "source": [
    "svc_cv_model.fit(X_train_enc, y_train_enc)"
   ]
  },
  {
   "cell_type": "code",
   "execution_count": null,
   "id": "cf5d8229",
   "metadata": {
    "id": "cf5d8229",
    "outputId": "612af5ec-0284-4671-d769-bc1cca486346"
   },
   "outputs": [
    {
     "data": {
      "text/plain": [
       "{'C': 1}"
      ]
     },
     "execution_count": 186,
     "metadata": {
      "tags": []
     },
     "output_type": "execute_result"
    }
   ],
   "source": [
    "svc_cv_model.best_params_"
   ]
  },
  {
   "cell_type": "code",
   "execution_count": null,
   "id": "f27d1350",
   "metadata": {
    "id": "f27d1350",
    "outputId": "c81ecc2f-2256-4db1-d303-37bc319bb471"
   },
   "outputs": [
    {
     "name": "stderr",
     "output_type": "stream",
     "text": [
      "C:\\Users\\hmeli\\anaconda3\\lib\\site-packages\\sklearn\\utils\\validation.py:70: FutureWarning: Pass C=1 as keyword args. From version 1.0 (renaming of 0.25) passing these as positional arguments will result in an error\n",
      "  warnings.warn(f\"Pass {args_msg} as keyword args. From version \"\n"
     ]
    }
   ],
   "source": [
    "svc_tuned=svm.SVC(1).fit(X_train_enc, y_train_enc)"
   ]
  },
  {
   "cell_type": "code",
   "execution_count": null,
   "id": "69f75808",
   "metadata": {
    "id": "69f75808"
   },
   "outputs": [],
   "source": [
    "y_pred=svc_tuned.predict(X_test_enc)"
   ]
  },
  {
   "cell_type": "code",
   "execution_count": null,
   "id": "8385c3a2",
   "metadata": {
    "id": "8385c3a2",
    "outputId": "e43b593d-5b50-4a86-cde8-cc4bcada1e79"
   },
   "outputs": [
    {
     "data": {
      "text/plain": [
       "0.6291970802919709"
      ]
     },
     "execution_count": 189,
     "metadata": {
      "tags": []
     },
     "output_type": "execute_result"
    }
   ],
   "source": [
    "accuracy_score(y_test_enc, y_pred)"
   ]
  },
  {
   "cell_type": "code",
   "execution_count": null,
   "id": "b32f61be",
   "metadata": {
    "id": "b32f61be",
    "outputId": "c7f1fb2d-4ac8-4aa1-a37f-a76c10fc8a1a"
   },
   "outputs": [
    {
     "name": "stdout",
     "output_type": "stream",
     "text": [
      "              precision    recall  f1-score   support\n",
      "\n",
      "           0       0.63      1.00      0.77       431\n",
      "           1       0.00      0.00      0.00       254\n",
      "\n",
      "    accuracy                           0.63       685\n",
      "   macro avg       0.31      0.50      0.39       685\n",
      "weighted avg       0.40      0.63      0.49       685\n",
      "\n"
     ]
    },
    {
     "name": "stderr",
     "output_type": "stream",
     "text": [
      "C:\\Users\\hmeli\\anaconda3\\lib\\site-packages\\sklearn\\metrics\\_classification.py:1245: UndefinedMetricWarning: Precision and F-score are ill-defined and being set to 0.0 in labels with no predicted samples. Use `zero_division` parameter to control this behavior.\n",
      "  _warn_prf(average, modifier, msg_start, len(result))\n",
      "C:\\Users\\hmeli\\anaconda3\\lib\\site-packages\\sklearn\\metrics\\_classification.py:1245: UndefinedMetricWarning: Precision and F-score are ill-defined and being set to 0.0 in labels with no predicted samples. Use `zero_division` parameter to control this behavior.\n",
      "  _warn_prf(average, modifier, msg_start, len(result))\n",
      "C:\\Users\\hmeli\\anaconda3\\lib\\site-packages\\sklearn\\metrics\\_classification.py:1245: UndefinedMetricWarning: Precision and F-score are ill-defined and being set to 0.0 in labels with no predicted samples. Use `zero_division` parameter to control this behavior.\n",
      "  _warn_prf(average, modifier, msg_start, len(result))\n"
     ]
    }
   ],
   "source": [
    "print(classification_report(y_test_enc, y_pred))"
   ]
  },
  {
   "cell_type": "markdown",
   "id": "b43bd9f3",
   "metadata": {
    "id": "b43bd9f3"
   },
   "source": [
    "## Neural Network"
   ]
  },
  {
   "cell_type": "code",
   "execution_count": null,
   "id": "1afdf7bd",
   "metadata": {
    "id": "1afdf7bd"
   },
   "outputs": [],
   "source": [
    "from sklearn.preprocessing import StandardScaler\n",
    "from sklearn.neural_network import MLPClassifier"
   ]
  },
  {
   "cell_type": "code",
   "execution_count": null,
   "id": "03884c0a",
   "metadata": {
    "id": "03884c0a"
   },
   "outputs": [],
   "source": [
    "scaler=StandardScaler()"
   ]
  },
  {
   "cell_type": "code",
   "execution_count": null,
   "id": "3e719a34",
   "metadata": {
    "id": "3e719a34",
    "outputId": "06c59e39-fc42-491e-85cf-0be7799112cd"
   },
   "outputs": [
    {
     "data": {
      "text/plain": [
       "StandardScaler()"
      ]
     },
     "execution_count": 193,
     "metadata": {
      "tags": []
     },
     "output_type": "execute_result"
    }
   ],
   "source": [
    "scaler.fit(X_train_enc)"
   ]
  },
  {
   "cell_type": "code",
   "execution_count": null,
   "id": "cd6ba73b",
   "metadata": {
    "id": "cd6ba73b"
   },
   "outputs": [],
   "source": [
    "X_train_scaled=scaler.transform(X_train_enc)"
   ]
  },
  {
   "cell_type": "code",
   "execution_count": null,
   "id": "68958421",
   "metadata": {
    "id": "68958421"
   },
   "outputs": [],
   "source": [
    "X_test_scaled=scaler.transform(X_test_enc)"
   ]
  },
  {
   "cell_type": "code",
   "execution_count": null,
   "id": "086ab315",
   "metadata": {
    "id": "086ab315",
    "outputId": "030ad393-9453-47a6-f2d6-5259f2c05480"
   },
   "outputs": [
    {
     "name": "stderr",
     "output_type": "stream",
     "text": [
      "C:\\Users\\hmeli\\anaconda3\\lib\\site-packages\\sklearn\\neural_network\\_multilayer_perceptron.py:614: ConvergenceWarning: Stochastic Optimizer: Maximum iterations (200) reached and the optimization hasn't converged yet.\n",
      "  warnings.warn(\n"
     ]
    }
   ],
   "source": [
    "mlpc=MLPClassifier().fit(X_train_scaled, y_train_enc)"
   ]
  },
  {
   "cell_type": "code",
   "execution_count": null,
   "id": "fa03f6f8",
   "metadata": {
    "id": "fa03f6f8"
   },
   "outputs": [],
   "source": [
    "y_pred=mlpc.predict(X_test_scaled)"
   ]
  },
  {
   "cell_type": "code",
   "execution_count": null,
   "id": "9cb8cee1",
   "metadata": {
    "id": "9cb8cee1",
    "outputId": "2bc9ff4b-9d4b-4660-8cd5-1f60e1118ea3"
   },
   "outputs": [
    {
     "data": {
      "text/plain": [
       "0.7547445255474453"
      ]
     },
     "execution_count": 198,
     "metadata": {
      "tags": []
     },
     "output_type": "execute_result"
    }
   ],
   "source": [
    "accuracy_score(y_test_enc, y_pred)"
   ]
  },
  {
   "cell_type": "code",
   "execution_count": null,
   "id": "2627de57",
   "metadata": {
    "id": "2627de57",
    "outputId": "363aff3a-6e10-4127-9346-d17bc788c314"
   },
   "outputs": [
    {
     "name": "stdout",
     "output_type": "stream",
     "text": [
      "              precision    recall  f1-score   support\n",
      "\n",
      "           0       0.81      0.80      0.80       431\n",
      "           1       0.66      0.69      0.67       254\n",
      "\n",
      "    accuracy                           0.75       685\n",
      "   macro avg       0.74      0.74      0.74       685\n",
      "weighted avg       0.76      0.75      0.76       685\n",
      "\n"
     ]
    }
   ],
   "source": [
    "print(classification_report(y_test_enc, y_pred))"
   ]
  },
  {
   "cell_type": "markdown",
   "id": "2ab1b0d2",
   "metadata": {
    "id": "2ab1b0d2"
   },
   "source": [
    "## Classification Trees"
   ]
  },
  {
   "cell_type": "code",
   "execution_count": null,
   "id": "9fc1577f",
   "metadata": {
    "id": "9fc1577f"
   },
   "outputs": [],
   "source": [
    "from sklearn.tree import DecisionTreeClassifier"
   ]
  },
  {
   "cell_type": "code",
   "execution_count": null,
   "id": "5fb87b30",
   "metadata": {
    "id": "5fb87b30"
   },
   "outputs": [],
   "source": [
    "cart=DecisionTreeClassifier()"
   ]
  },
  {
   "cell_type": "code",
   "execution_count": null,
   "id": "c4ce6dc3",
   "metadata": {
    "id": "c4ce6dc3"
   },
   "outputs": [],
   "source": [
    "cart_model=cart.fit(X_train_enc, y_train_enc)"
   ]
  },
  {
   "cell_type": "code",
   "execution_count": null,
   "id": "36752323",
   "metadata": {
    "id": "36752323"
   },
   "outputs": [],
   "source": [
    "y_pred=cart_model.predict(X_test_enc)"
   ]
  },
  {
   "cell_type": "code",
   "execution_count": null,
   "id": "263495cf",
   "metadata": {
    "id": "263495cf",
    "outputId": "5e0713fa-25ac-475b-bd7e-cb4252e651c3"
   },
   "outputs": [
    {
     "data": {
      "text/plain": [
       "0.6948905109489051"
      ]
     },
     "execution_count": 204,
     "metadata": {
      "tags": []
     },
     "output_type": "execute_result"
    }
   ],
   "source": [
    "accuracy_score(y_test_enc, y_pred)"
   ]
  },
  {
   "cell_type": "code",
   "execution_count": null,
   "id": "8da4b3ee",
   "metadata": {
    "id": "8da4b3ee",
    "outputId": "bd954689-a11a-4120-a108-9d7b6bfb8bbd"
   },
   "outputs": [
    {
     "name": "stdout",
     "output_type": "stream",
     "text": [
      "              precision    recall  f1-score   support\n",
      "\n",
      "           0       0.77      0.74      0.75       431\n",
      "           1       0.58      0.62      0.60       254\n",
      "\n",
      "    accuracy                           0.69       685\n",
      "   macro avg       0.68      0.68      0.68       685\n",
      "weighted avg       0.70      0.69      0.70       685\n",
      "\n"
     ]
    }
   ],
   "source": [
    "print(classification_report(y_test_enc, y_pred))"
   ]
  },
  {
   "cell_type": "markdown",
   "id": "dd7a14d4",
   "metadata": {
    "id": "dd7a14d4"
   },
   "source": [
    "## Model Tuning for Cart"
   ]
  },
  {
   "cell_type": "code",
   "execution_count": null,
   "id": "d68b915b",
   "metadata": {
    "id": "d68b915b"
   },
   "outputs": [],
   "source": [
    "cart_params={\"max_depth\": list(range(1,10)),\n",
    "            \"min_samples_split\": list(range(2,50))}"
   ]
  },
  {
   "cell_type": "code",
   "execution_count": null,
   "id": "c547f0dd",
   "metadata": {
    "id": "c547f0dd"
   },
   "outputs": [],
   "source": [
    "cart_cv=GridSearchCV(cart, cart_params, cv=10, n_jobs=-1, verbose=2)"
   ]
  },
  {
   "cell_type": "code",
   "execution_count": null,
   "id": "25e114ec",
   "metadata": {
    "id": "25e114ec",
    "outputId": "a3bd3e76-3587-479c-8948-9c5b7e28d026"
   },
   "outputs": [
    {
     "name": "stdout",
     "output_type": "stream",
     "text": [
      "Fitting 10 folds for each of 432 candidates, totalling 4320 fits\n"
     ]
    },
    {
     "data": {
      "text/plain": [
       "GridSearchCV(cv=10, estimator=DecisionTreeClassifier(), n_jobs=-1,\n",
       "             param_grid={'max_depth': [1, 2, 3, 4, 5, 6, 7, 8, 9],\n",
       "                         'min_samples_split': [2, 3, 4, 5, 6, 7, 8, 9, 10, 11,\n",
       "                                               12, 13, 14, 15, 16, 17, 18, 19,\n",
       "                                               20, 21, 22, 23, 24, 25, 26, 27,\n",
       "                                               28, 29, 30, 31, ...]},\n",
       "             verbose=2)"
      ]
     },
     "execution_count": 208,
     "metadata": {
      "tags": []
     },
     "output_type": "execute_result"
    }
   ],
   "source": [
    "cart_cv.fit(X_train_enc, y_train_enc)"
   ]
  },
  {
   "cell_type": "code",
   "execution_count": null,
   "id": "270b0578",
   "metadata": {
    "id": "270b0578",
    "outputId": "0bb0f8eb-b7ac-41fa-999a-644a9e808490"
   },
   "outputs": [
    {
     "data": {
      "text/plain": [
       "{'max_depth': 4, 'min_samples_split': 3}"
      ]
     },
     "execution_count": 209,
     "metadata": {
      "tags": []
     },
     "output_type": "execute_result"
    }
   ],
   "source": [
    "cart_cv.best_params_"
   ]
  },
  {
   "cell_type": "code",
   "execution_count": null,
   "id": "4156076b",
   "metadata": {
    "id": "4156076b"
   },
   "outputs": [],
   "source": [
    "cart_tuned=DecisionTreeClassifier(max_depth= 4, min_samples_split=3)"
   ]
  },
  {
   "cell_type": "code",
   "execution_count": null,
   "id": "a9a17909",
   "metadata": {
    "id": "a9a17909",
    "outputId": "be9940a8-1683-4f56-fe35-7874ab8760c7"
   },
   "outputs": [
    {
     "data": {
      "text/plain": [
       "DecisionTreeClassifier(max_depth=4, min_samples_split=3)"
      ]
     },
     "execution_count": 211,
     "metadata": {
      "tags": []
     },
     "output_type": "execute_result"
    }
   ],
   "source": [
    "cart_tuned.fit(X_train_enc, y_train_enc)"
   ]
  },
  {
   "cell_type": "code",
   "execution_count": null,
   "id": "25c8608e",
   "metadata": {
    "id": "25c8608e"
   },
   "outputs": [],
   "source": [
    "y_pred=cart_tuned.predict(X_test_enc)"
   ]
  },
  {
   "cell_type": "code",
   "execution_count": null,
   "id": "81f92dc9",
   "metadata": {
    "id": "81f92dc9",
    "outputId": "5c498084-5a68-496e-d01d-e772e6c42d1e"
   },
   "outputs": [
    {
     "data": {
      "text/plain": [
       "0.7708029197080292"
      ]
     },
     "execution_count": 213,
     "metadata": {
      "tags": []
     },
     "output_type": "execute_result"
    }
   ],
   "source": [
    "accuracy_score(y_test_enc, y_pred)"
   ]
  },
  {
   "cell_type": "code",
   "execution_count": null,
   "id": "152fe81a",
   "metadata": {
    "id": "152fe81a",
    "outputId": "5271b583-dac7-43ca-87b5-7d1b59df0105"
   },
   "outputs": [
    {
     "name": "stdout",
     "output_type": "stream",
     "text": [
      "              precision    recall  f1-score   support\n",
      "\n",
      "           0       0.79      0.86      0.82       431\n",
      "           1       0.72      0.62      0.67       254\n",
      "\n",
      "    accuracy                           0.77       685\n",
      "   macro avg       0.76      0.74      0.75       685\n",
      "weighted avg       0.77      0.77      0.77       685\n",
      "\n"
     ]
    }
   ],
   "source": [
    "print(classification_report(y_test_enc, y_pred))"
   ]
  },
  {
   "cell_type": "markdown",
   "id": "758e7a00",
   "metadata": {
    "id": "758e7a00"
   },
   "source": [
    "## Random Forest Model"
   ]
  },
  {
   "cell_type": "code",
   "execution_count": null,
   "id": "24149693",
   "metadata": {
    "id": "24149693"
   },
   "outputs": [],
   "source": [
    "from sklearn.ensemble import RandomForestClassifier"
   ]
  },
  {
   "cell_type": "code",
   "execution_count": null,
   "id": "95def853",
   "metadata": {
    "id": "95def853",
    "outputId": "ad7b38e0-7e2d-47aa-d66f-784a497acac5"
   },
   "outputs": [
    {
     "data": {
      "text/plain": [
       "RandomForestClassifier()"
      ]
     },
     "execution_count": 216,
     "metadata": {
      "tags": []
     },
     "output_type": "execute_result"
    }
   ],
   "source": [
    "rf_model=RandomForestClassifier().fit(X_train_enc, y_train_enc)\n",
    "rf_model"
   ]
  },
  {
   "cell_type": "code",
   "execution_count": null,
   "id": "ad4e3645",
   "metadata": {
    "id": "ad4e3645"
   },
   "outputs": [],
   "source": [
    "y_pred=rf_model.predict(X_test_enc)"
   ]
  },
  {
   "cell_type": "code",
   "execution_count": null,
   "id": "30e3ea33",
   "metadata": {
    "id": "30e3ea33",
    "outputId": "6c1fadcb-d95c-41fa-a726-6a04d4f14ba4"
   },
   "outputs": [
    {
     "data": {
      "text/plain": [
       "0.7927007299270074"
      ]
     },
     "execution_count": 218,
     "metadata": {
      "tags": []
     },
     "output_type": "execute_result"
    }
   ],
   "source": [
    "accuracy_score(y_test_enc, y_pred)"
   ]
  },
  {
   "cell_type": "code",
   "execution_count": null,
   "id": "b41a4d50",
   "metadata": {
    "id": "b41a4d50",
    "outputId": "87d111e3-d27e-4320-d25d-fa726e246efe"
   },
   "outputs": [
    {
     "name": "stdout",
     "output_type": "stream",
     "text": [
      "              precision    recall  f1-score   support\n",
      "\n",
      "           0       0.81      0.87      0.84       431\n",
      "           1       0.75      0.66      0.70       254\n",
      "\n",
      "    accuracy                           0.79       685\n",
      "   macro avg       0.78      0.77      0.77       685\n",
      "weighted avg       0.79      0.79      0.79       685\n",
      "\n"
     ]
    }
   ],
   "source": [
    "print(classification_report(y_test_enc, y_pred))"
   ]
  },
  {
   "cell_type": "markdown",
   "id": "140f9abe",
   "metadata": {
    "id": "140f9abe"
   },
   "source": [
    "## Gradient Boosting Model"
   ]
  },
  {
   "cell_type": "code",
   "execution_count": null,
   "id": "3c11f191",
   "metadata": {
    "id": "3c11f191"
   },
   "outputs": [],
   "source": [
    "from sklearn.ensemble import GradientBoostingClassifier"
   ]
  },
  {
   "cell_type": "code",
   "execution_count": null,
   "id": "5c119986",
   "metadata": {
    "id": "5c119986"
   },
   "outputs": [],
   "source": [
    "gbm=GradientBoostingClassifier()\n",
    "gbm_model=gbm.fit(X_train_enc, y_train_enc)"
   ]
  },
  {
   "cell_type": "code",
   "execution_count": null,
   "id": "19894869",
   "metadata": {
    "id": "19894869"
   },
   "outputs": [],
   "source": [
    "y_pred=gbm_model.predict(X_test_enc)"
   ]
  },
  {
   "cell_type": "code",
   "execution_count": null,
   "id": "3fad5e3d",
   "metadata": {
    "id": "3fad5e3d",
    "outputId": "4a03b668-96bf-4b0a-8db8-109f62d360f7"
   },
   "outputs": [
    {
     "data": {
      "text/plain": [
       "0.8029197080291971"
      ]
     },
     "execution_count": 223,
     "metadata": {
      "tags": []
     },
     "output_type": "execute_result"
    }
   ],
   "source": [
    "accuracy_score(y_test_enc, y_pred)"
   ]
  },
  {
   "cell_type": "code",
   "execution_count": null,
   "id": "c49608fa",
   "metadata": {
    "id": "c49608fa",
    "outputId": "b930be74-7672-4ca1-8bc8-23921590c62f"
   },
   "outputs": [
    {
     "name": "stdout",
     "output_type": "stream",
     "text": [
      "              precision    recall  f1-score   support\n",
      "\n",
      "           0       0.83      0.86      0.85       431\n",
      "           1       0.75      0.71      0.73       254\n",
      "\n",
      "    accuracy                           0.80       685\n",
      "   macro avg       0.79      0.78      0.79       685\n",
      "weighted avg       0.80      0.80      0.80       685\n",
      "\n"
     ]
    }
   ],
   "source": [
    "print(classification_report(y_test_enc, y_pred))"
   ]
  },
  {
   "cell_type": "markdown",
   "id": "a0db2d68",
   "metadata": {
    "id": "a0db2d68"
   },
   "source": [
    "## Choosing the best model"
   ]
  },
  {
   "cell_type": "code",
   "execution_count": null,
   "id": "8ca9057b",
   "metadata": {
    "id": "8ca9057b"
   },
   "outputs": [],
   "source": [
    "models=[knn_tuned, loj_model, mlpc, gbm_model, rf_model, cart_tuned, svc_tuned]"
   ]
  },
  {
   "cell_type": "code",
   "execution_count": null,
   "id": "8e2b653a",
   "metadata": {
    "id": "8e2b653a"
   },
   "outputs": [],
   "source": [
    "for model in models:\n",
    "    names=model.__class__.__name__\n",
    "    y_pred=model.predict(X_test_enc)\n",
    "    accuracy=accuracy_score(y_test_enc, y_pred)\n",
    "    result=pd.DataFrame([[names, accuracy*100]], columns=[\"models\", \"accuracy\"])\n",
    "    results=results.append(result)"
   ]
  },
  {
   "cell_type": "code",
   "execution_count": null,
   "id": "b4e9f829",
   "metadata": {
    "id": "b4e9f829",
    "outputId": "5991f087-6c31-44f5-b8d8-3687fd8f473d",
    "scrolled": true
   },
   "outputs": [
    {
     "name": "stderr",
     "output_type": "stream",
     "text": [
      "C:\\Users\\hmeli\\anaconda3\\lib\\site-packages\\seaborn\\_decorators.py:36: FutureWarning: Pass the following variables as keyword args: x, y. From version 0.12, the only valid positional argument will be `data`, and passing other arguments without an explicit keyword will result in an error or misinterpretation.\n",
      "  warnings.warn(\n"
     ]
    },
    {
     "data": {
      "text/plain": [
       "Text(0.5, 1.0, 'Comparison of Models')"
      ]
     },
     "execution_count": 230,
     "metadata": {
      "tags": []
     },
     "output_type": "execute_result"
    },
    {
     "data": {
      "image/png": "[encoded data removed]",
      "text/plain": [
       "<Figure size 432x288 with 1 Axes>"
      ]
     },
     "metadata": {
      "needs_background": "light",
      "tags": []
     },
     "output_type": "display_data"
    }
   ],
   "source": [
    "sns.barplot(\"accuracy\", \"models\", data=results, color=\"r\")\n",
    "plt.xlabel(\"Accuracy\")\n",
    "plt.title(\"Comparison of Models\")"
   ]
  },
  {
   "cell_type": "markdown",
   "id": "e407c9fc",
   "metadata": {
    "id": "e407c9fc"
   },
   "source": [
    "## Ploting a ROC Curve"
   ]
  },
  {
   "cell_type": "markdown",
   "id": "2d065573",
   "metadata": {
    "id": "2d065573"
   },
   "source": [
    "## Models"
   ]
  },
  {
   "cell_type": "code",
   "execution_count": null,
   "id": "ab80ae04",
   "metadata": {
    "id": "ab80ae04"
   },
   "outputs": [],
   "source": [
    "y_score1 = loj_model.predict(X_test_enc)\n",
    "y_score2 = rf_model.predict(X_test_enc)\n",
    "y_score3 = gbm_model.predict(X_test_enc)\n",
    "y_score4 = svc_tuned.predict(X_test_enc)\n",
    "y_score5 = mlpc.predict(X_test_scaled)\n",
    "y_score6 = cart_tuned.predict(X_test_enc)\n",
    "y_score7 = knn_tuned.predict(X_test_enc)"
   ]
  },
  {
   "cell_type": "markdown",
   "id": "e06c589c",
   "metadata": {
    "id": "e06c589c"
   },
   "source": [
    "## Creating False and True Positive Rates and printing Scores"
   ]
  },
  {
   "cell_type": "code",
   "execution_count": null,
   "id": "ac5057e0",
   "metadata": {
    "id": "ac5057e0"
   },
   "outputs": [],
   "source": [
    "from sklearn.metrics import roc_curve, roc_auc_score"
   ]
  },
  {
   "cell_type": "code",
   "execution_count": null,
   "id": "eba98b0c",
   "metadata": {
    "id": "eba98b0c"
   },
   "outputs": [],
   "source": [
    "false_positive_rate1, true_positive_rate1, threshold1 = roc_curve(y_test, y_score1)\n",
    "false_positive_rate2, true_positive_rate2, threshold2 = roc_curve(y_test, y_score2)\n",
    "false_positive_rate3, true_positive_rate3, threshold3 = roc_curve(y_test, y_score3)\n",
    "false_positive_rate4, true_positive_rate4, threshold4 = roc_curve(y_test, y_score4)\n",
    "false_positive_rate5, true_positive_rate5, threshold5 = roc_curve(y_test, y_score5)\n",
    "false_positive_rate6, true_positive_rate6, threshold6 = roc_curve(y_test, y_score6)\n",
    "false_positive_rate7, true_positive_rate7, threshold7 = roc_curve(y_test, y_score7)"
   ]
  },
  {
   "cell_type": "code",
   "execution_count": null,
   "id": "db7b380c",
   "metadata": {
    "id": "db7b380c",
    "outputId": "7866cba2-d685-470b-ee2f-9225ceba318c"
   },
   "outputs": [
    {
     "name": "stdout",
     "output_type": "stream",
     "text": [
      "roc_auc_score for Logistic Regression:  0.7799797212123427\n",
      "roc_auc_score for Random Forest:  0.7657434642015457\n",
      "roc_auc_score for GBM:  0.7835650474085171\n",
      "roc_auc_score for SVC:  0.5\n",
      "roc_auc_score for Neural Network:  0.7404315179860058\n",
      "roc_auc_score for Cart:  0.7402579607943438\n",
      "roc_auc_score for KNN:  0.6132506348539379\n"
     ]
    }
   ],
   "source": [
    "print('roc_auc_score for Logistic Regression: ', roc_auc_score(y_test, y_score1))\n",
    "print('roc_auc_score for Random Forest: ', roc_auc_score(y_test, y_score2))\n",
    "print('roc_auc_score for GBM: ', roc_auc_score(y_test, y_score3))\n",
    "print('roc_auc_score for SVC: ', roc_auc_score(y_test, y_score4))\n",
    "print('roc_auc_score for Neural Network: ', roc_auc_score(y_test, y_score5))\n",
    "print('roc_auc_score for Cart: ', roc_auc_score(y_test, y_score6))\n",
    "print('roc_auc_score for KNN: ', roc_auc_score(y_test, y_score7))"
   ]
  },
  {
   "cell_type": "markdown",
   "id": "29b48ba4",
   "metadata": {
    "id": "29b48ba4"
   },
   "source": [
    "## Ploting ROC Curves"
   ]
  },
  {
   "cell_type": "code",
   "execution_count": null,
   "id": "9e5c42c1",
   "metadata": {
    "id": "9e5c42c1",
    "outputId": "3a9567b2-a02e-4f69-bcc1-b1c3fe7a80a3"
   },
   "outputs": [
    {
     "data": {
      "image/png": "[encoded data removed]",
      "text/plain": [
       "<Figure size 720x720 with 1 Axes>"
      ]
     },
     "metadata": {
      "needs_background": "light",
      "tags": []
     },
     "output_type": "display_data"
    }
   ],
   "source": [
    "plt.subplots(1, figsize=(10,10))\n",
    "plt.title('Receiver Operating Characteristic - All Models')\n",
    "plt.plot(false_positive_rate1, true_positive_rate1, label = \"Logistic Regression\")\n",
    "plt.plot(false_positive_rate2, true_positive_rate2, label = \"Random Forest\")\n",
    "plt.plot(false_positive_rate3, true_positive_rate3, label = \"GBM\")\n",
    "plt.plot(false_positive_rate4, true_positive_rate4, label = \"SVC\")\n",
    "plt.plot(false_positive_rate5, true_positive_rate5, label = \"Neural Network\")\n",
    "plt.plot(false_positive_rate6, true_positive_rate6, label = \"Cart\")\n",
    "plt.plot(false_positive_rate7, true_positive_rate7, label = \"KNN\")\n",
    "\n",
    "\n",
    "plt.plot([0, 1], ls=\"--\")\n",
    "plt.plot([0, 0], [1, 0] , c=\".7\"), plt.plot([1, 1] , c=\".7\")\n",
    "plt.ylabel('True Positive Rate')\n",
    "plt.xlabel('False Positive Rate')\n",
    "plt.legend()\n",
    "plt.show()"
   ]
  },
  {
   "cell_type": "markdown",
   "id": "7e7772bf",
   "metadata": {
    "id": "7e7772bf"
   },
   "source": [
    "## Conclusion: "
   ]
  },
  {
   "cell_type": "markdown",
   "id": "161c016d",
   "metadata": {
    "id": "161c016d"
   },
   "source": [
    "We have prepare the dataset for the classification problem. We set X by dropping the target variable \"Persistency_Flag\" and we set y as the target variable. Then we have used \"Ordinal\" and \"Label\" Encoder to encode the variables.\n",
    "\n",
    "As usual, we split the dataset as train set and test set.\n",
    "We have applied Logistic Regression, KNN, Random Forest Model, Neural Network, Gradient Boosting Model, Support Vector Machines and Classification Trees Models.\n",
    "\n",
    "As seen in the above, we have compared their accuracy scores and we obtained the following:\n",
    "\n",
    "Gradient Boosting Model is the best fit model to our dataset with accuracy score 0.80. \n",
    "\n",
    "We can apply Logistic Regression model with accuracy score 0.80 and cross validated score with 10 splits 0.78 and we can also apply Random Forest Model with accuracy score 0.79 . "
   ]
  }
 ],
 "metadata": {
  "colab": {
   "collapsed_sections": [
    "9dbcdfa9",
    "b175a3e9",
    "cfbf18bd",
    "3b3c75f2",
    "4d96ccb5",
    "65285e00",
    "628c9d69",
    "b43bd9f3",
    "2ab1b0d2",
    "dd7a14d4",
    "758e7a00",
    "140f9abe",
    "e407c9fc",
    "2d065573",
    "e06c589c"
   ],
   "name": "model_selection_and_building.ipynb",
   "provenance": []
  },
  "kernelspec": {
   "display_name": "Python 3 (ipykernel)",
   "language": "python",
   "name": "python3"
  },
  "language_info": {
   "codemirror_mode": {
    "name": "ipython",
    "version": 3
   },
   "file_extension": ".py",
   "mimetype": "text/x-python",
   "name": "python",
   "nbconvert_exporter": "python",
   "pygments_lexer": "ipython3",
   "version": "3.9.6"
  }
 },
 "nbformat": 4,
 "nbformat_minor": 5
}
